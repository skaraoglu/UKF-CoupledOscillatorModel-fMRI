{
 "cells": [
  {
   "cell_type": "markdown",
   "metadata": {},
   "source": [
    "# ASD fMRI Data Analysis\n",
    "\n",
    "## Libraries"
   ]
  },
  {
   "cell_type": "code",
   "execution_count": 1,
   "metadata": {
    "vscode": {
     "languageId": "r"
    }
   },
   "outputs": [
    {
     "name": "stderr",
     "output_type": "stream",
     "text": [
      "Warning message:\n",
      "\"package 'KernSmooth' was built under R version 4.2.3\"\n",
      "KernSmooth 2.23 loaded\n",
      "Copyright M. P. Wand 1997-2009\n",
      "\n",
      "Warning message:\n",
      "\"package 'deSolve' was built under R version 4.2.3\"\n",
      "Warning message:\n",
      "\"package 'ggplot2' was built under R version 4.2.3\"\n",
      "\n",
      "Attaching package: 'dplyr'\n",
      "\n",
      "\n",
      "The following objects are masked from 'package:stats':\n",
      "\n",
      "    filter, lag\n",
      "\n",
      "\n",
      "The following objects are masked from 'package:base':\n",
      "\n",
      "    intersect, setdiff, setequal, union\n",
      "\n",
      "\n",
      "Warning message:\n",
      "\"package 'data.table' was built under R version 4.2.3\"\n",
      "\n",
      "Attaching package: 'data.table'\n",
      "\n",
      "\n",
      "The following objects are masked from 'package:dplyr':\n",
      "\n",
      "    between, first, last\n",
      "\n",
      "\n",
      "randomForest 4.7-1.2\n",
      "\n",
      "Type rfNews() to see new features/changes/bug fixes.\n",
      "\n",
      "\n",
      "Attaching package: 'randomForest'\n",
      "\n",
      "\n",
      "The following object is masked from 'package:dplyr':\n",
      "\n",
      "    combine\n",
      "\n",
      "\n",
      "The following object is masked from 'package:ggplot2':\n",
      "\n",
      "    margin\n",
      "\n",
      "\n",
      "\n",
      "Attaching package: 'xgboost'\n",
      "\n",
      "\n",
      "The following object is masked from 'package:dplyr':\n",
      "\n",
      "    slice\n",
      "\n",
      "\n",
      "Warning message:\n",
      "\"package 'tsfeatures' was built under R version 4.2.3\"\n",
      "Registered S3 method overwritten by 'quantmod':\n",
      "  method            from\n",
      "  as.zoo.data.frame zoo \n",
      "\n",
      "Warning message:\n",
      "\"package 'tensorflow' was built under R version 4.2.3\"\n",
      "Warning message:\n",
      "\"package 'keras' was built under R version 4.2.3\"\n"
     ]
    }
   ],
   "source": [
    "library(KernSmooth)\n",
    "library(deSolve)\n",
    "library(ggplot2)\n",
    "#library(devtools)\n",
    "#install_github(\"insilico/UKF\")  \n",
    "# library(UKF)\n",
    "#install.packages(c('KernSmooth'))\n",
    "library(dplyr)\n",
    "library(tidyr)\n",
    "library(data.table)\n",
    "library(randomForest)\n",
    "library(xgboost)\n",
    "library(tsfeatures)\n",
    "library(e1071)\n",
    "library(tensorflow)\n",
    "library(keras)\n",
    "# hide warnings\n",
    "options(warn=-1)"
   ]
  },
  {
   "cell_type": "markdown",
   "metadata": {},
   "source": [
    "## Functions\n",
    "\n",
    "### smooth_subject_data\n",
    "\n",
    "Applies kernel smoothing to fMRI time-series data for each brain region to reduce noise.\n",
    "\n",
    "#### Parameters:\n",
    "- **`subject_df`**: Data frame with `Time` as the first column and brain region signals as other columns.\n",
    "- **`bandwidth`**: (Optional) Bandwidth for smoothing. If not provided, it is calculated using `dpill`.\n",
    "\n",
    "#### Workflow:\n",
    "1. Extract `Time` and region signals.\n",
    "2. Determine bandwidth (default: `0.5` if `dpill` fails).\n",
    "3. Apply `ksmooth` to each region's signal.\n",
    "4. Combine smoothed signals with `Time`.\n",
    "\n",
    "#### Returns:\n",
    "A data frame with smoothed signals for all regions.\n",
    "\n",
    "#### Example:\n",
    "```r\n",
    "smoothed_ASD_26 <- smooth_subject_data(ASD_26, bandwidth = 2)"
   ]
  },
  {
   "cell_type": "code",
   "execution_count": 2,
   "metadata": {
    "vscode": {
     "languageId": "r"
    }
   },
   "outputs": [],
   "source": [
    "smooth_subject_data <- function(subject_df, bandwidth = NULL) {\n",
    "  # Ensure the first column is time\n",
    "  time_vec <- subject_df$Time\n",
    "  region_cols <- subject_df[, -1]\n",
    "  \n",
    "  n <- nrow(subject_df)\n",
    "  m_points <- seq(1, n, by = 1)\n",
    "  \n",
    "  # Apply kernel smoothing to each region\n",
    "  smoothed_regions <- apply(region_cols, 2, function(region_signal) {\n",
    "    # Determine bandwidth if not provided\n",
    "    h <- if (is.null(bandwidth)) {\n",
    "      tryCatch({\n",
    "        dpill(m_points, region_signal)\n",
    "      }, error = function(e) {\n",
    "        message(\"Warning in dpill: \", e$message)\n",
    "        return(0.5)  # Default fallback bandwidth\n",
    "      })\n",
    "    } else {\n",
    "      bandwidth\n",
    "    }\n",
    "    \n",
    "    # Apply ksmooth\n",
    "    smooth_result <- ksmooth(m_points, region_signal, kernel = \"normal\", bandwidth = h, n.points = n)\n",
    "    return(smooth_result$y)\n",
    "  })\n",
    "  \n",
    "  # Combine time and smoothed signals\n",
    "  smoothed_df <- data.frame(Time = time_vec, smoothed_regions)\n",
    "  colnames(smoothed_df) <- colnames(subject_df)\n",
    "  \n",
    "  return(smoothed_df)\n",
    "}"
   ]
  },
  {
   "cell_type": "markdown",
   "metadata": {},
   "source": [
    "### load_subject_data\n",
    "\n",
    "Loads fMRI data for a subject and maps brain region codes to their corresponding names.\n",
    "\n",
    "#### Parameters:\n",
    "- **`file_path`**: Path to the subject's data file.\n",
    "- **`region_labels`**: Data frame containing `RegionCode` and `RegionName` mappings.\n",
    "\n",
    "#### Workflow:\n",
    "1. Read the data file into a data frame.\n",
    "2. Rename the first column to `Time`.\n",
    "3. Map region codes (column names) to region names using `region_labels`.\n",
    "4. Convert all data to numeric format.\n",
    "\n",
    "#### Returns:\n",
    "A data frame with `Time` as the first column and brain region signals as other columns, with region names as column headers.\n",
    "\n",
    "#### Example:\n",
    "```r\n",
    "subject_data <- load_subject_data(\"data/ASD_26.csv\", region_labels)"
   ]
  },
  {
   "cell_type": "code",
   "execution_count": 3,
   "metadata": {
    "vscode": {
     "languageId": "r"
    }
   },
   "outputs": [],
   "source": [
    "load_subject_data <- function(file_path, region_labels) {\n",
    "  df <- fread(file_path, header = TRUE, check.names = FALSE, data.table = FALSE)\n",
    "  header <- colnames(df)\n",
    "  colnames(df)[1] <- \"Time\"\n",
    "  \n",
    "  # Strip '#' from column names and convert to match RegionCode\n",
    "  region_codes <- gsub(\"#\", \"\", header[-1])  # Exclude Time\n",
    "  region_names <- region_labels$RegionName[match(region_codes, region_labels$RegionCode)]\n",
    "  \n",
    "  # Handle missing labels\n",
    "  # region_names[is.na(region_names)] <- paste0(\"Unknown_\", region_codes[is.na(region_names)])\n",
    "  \n",
    "  # Rename columns\n",
    "  colnames(df)[-1] <- region_names\n",
    "  df[] <- lapply(df, as.numeric)  # Convert all data to numeric\n",
    "  return(df)\n",
    "}\n",
    "\n",
    "# Reshape for plotting\n",
    "reshape_subject_data <- function(subject_list, group_label) {\n",
    "  bind_rows(lapply(seq_along(subject_list), function(i) {\n",
    "    df <- subject_list[[i]]\n",
    "    df_long <- pivot_longer(df, -Time, names_to = \"RegionName\", values_to = \"Signal\")\n",
    "    df_long$Subject <- paste0(group_label, \"_\", i)\n",
    "    df_long$Group <- group_label\n",
    "    return(df_long)\n",
    "  }))\n",
    "}"
   ]
  },
  {
   "cell_type": "markdown",
   "metadata": {},
   "source": [
    "### smooth_all_subjects_to_long\n",
    "\n",
    "Applies kernel smoothing to fMRI time-series data for all subjects and converts the data to a long format.\n",
    "\n",
    "#### Parameters:\n",
    "- **`subject_list`**: A list of data frames, each representing a subject's fMRI data.\n",
    "- **`group_label`**: A string indicating the group label (e.g., \"ASD\" or \"Normal\").\n",
    "- **`bandwidth`**: (Optional) Bandwidth for smoothing. Default is `0.6`.\n",
    "\n",
    "#### Workflow:\n",
    "1. Iterate through each subject in the `subject_list`.\n",
    "2. Apply `smooth_subject_data` to smooth the data for each subject.\n",
    "3. Add a `Subject` and `Group` column to identify the subject and group.\n",
    "4. Convert the smoothed data to a long format using `pivot_longer`.\n",
    "5. Combine all smoothed and reshaped data into a single data frame.\n",
    "\n",
    "#### Returns:\n",
    "A long-format data frame with smoothed signals for all subjects, including `Time`, `RegionName`, `SmoothedSignal`, `Subject`, and `Group` columns.\n",
    "\n",
    "#### Example:\n",
    "```r\n",
    "smoothed_asd_long <- smooth_all_subjects_to_long(asd_data_list, \"ASD\", bandwidth = 2)"
   ]
  },
  {
   "cell_type": "code",
   "execution_count": 4,
   "metadata": {
    "vscode": {
     "languageId": "r"
    }
   },
   "outputs": [],
   "source": [
    "# Function to apply smoothing across all subjects and convert to long format\n",
    "smooth_all_subjects_to_long <- function(subject_list, group_label, bandwidth = 0.6) {\n",
    "  smoothed_long_list <- lapply(seq_along(subject_list), function(i) {\n",
    "    subj_name <- paste0(group_label, \"_\", i)\n",
    "    wide_data <- subject_list[[i]]\n",
    "    \n",
    "    smoothed_data <- smooth_subject_data(wide_data, bandwidth = bandwidth)\n",
    "    smoothed_data$Time <- as.numeric(wide_data$Time)  # Add time back for reshaping\n",
    "    \n",
    "    # Convert to long format\n",
    "    smoothed_long <- pivot_longer(smoothed_data, -Time, names_to = \"RegionName\", values_to = \"SmoothedSignal\")\n",
    "    smoothed_long$Subject <- subj_name\n",
    "    smoothed_long$Group <- group_label\n",
    "    return(smoothed_long)\n",
    "  })\n",
    "  \n",
    "  # Combine all\n",
    "  bind_rows(smoothed_long_list)\n",
    "}"
   ]
  },
  {
   "cell_type": "markdown",
   "metadata": {},
   "source": [
    "### extract_tsfeatures_subject\n",
    "\n",
    "Extracts time-series features (e.g., mean, variance, autocorrelation, entropy) for each brain region in a subject's fMRI data.\n",
    "\n",
    "#### Parameters:\n",
    "- **`subject_data`**: A data frame where the first column is `Time` and the remaining columns are brain region signals.\n",
    "- **`subject_id`**: A string representing the subject's identifier.\n",
    "- **`group_label`**: A string indicating the group label (e.g., \"ASD\" or \"Normal\").\n",
    "\n",
    "#### Workflow:\n",
    "1. Remove constant (zero-variance) regions from the data.\n",
    "2. Convert valid region signals into time-series objects.\n",
    "3. Use the `tsfeatures` package to compute features such as mean, variance, autocorrelation, and entropy.\n",
    "4. Combine the extracted features into a data frame with additional columns for `Region`, `Subject`, and `Group`.\n",
    "\n",
    "#### Returns:\n",
    "A data frame containing the extracted features for each brain region, along with the subject and group information.\n",
    "\n",
    "#### Example:\n",
    "```r\n",
    "features_df <- extract_tsfeatures_subject(subject_data, \"ASD_26\", \"ASD\")"
   ]
  },
  {
   "cell_type": "code",
   "execution_count": 5,
   "metadata": {
    "vscode": {
     "languageId": "r"
    }
   },
   "outputs": [],
   "source": [
    "extract_tsfeatures_subject <- function(subject_data, subject_id, group_label) {\n",
    "  # Remove constant (zero-variance) regions\n",
    "  var_check <- sapply(subject_data[,-1], function(x) var(x, na.rm = TRUE)) # exclude Time column\n",
    "  valid_columns <- names(var_check[var_check > 0])\n",
    "  \n",
    "  ts_list <- lapply(valid_columns, function(region) {\n",
    "    ts(subject_data[[region]])\n",
    "  })\n",
    "  names(ts_list) <- valid_columns\n",
    "  \n",
    "  features <- tsfeatures::tsfeatures(ts_list, features = c(\"mean\", \"var\", \"acf\", \"entropy\"))\n",
    "  features <- t(features)\n",
    "  features_df <- as.data.frame(features)\n",
    "  features_df$Region <- rownames(features_df)\n",
    "  features_df$Subject <- subject_id\n",
    "  features_df$Group <- group_label\n",
    "  \n",
    "  return(features_df)\n",
    "}"
   ]
  },
  {
   "cell_type": "markdown",
   "metadata": {},
   "source": [
    "## Signal Distributions"
   ]
  },
  {
   "cell_type": "code",
   "execution_count": 6,
   "metadata": {
    "vscode": {
     "languageId": "r"
    }
   },
   "outputs": [
    {
     "data": {
      "image/png": "[encoded data removed]",
      "text/plain": [
       "plot without title"
      ]
     },
     "metadata": {
      "image/png": {
       "height": 420,
       "width": 420
      }
     },
     "output_type": "display_data"
    },
    {
     "data": {
      "image/png": "[encoded data removed]",
      "text/plain": [
       "plot without title"
      ]
     },
     "metadata": {
      "image/png": {
       "height": 420,
       "width": 420
      }
     },
     "output_type": "display_data"
    }
   ],
   "source": [
    "# File paths\n",
    "asd_dir <- \"data/Training Data/ASD\"\n",
    "normal_dir <- \"data/Training Data/Normal\"\n",
    "label_file <- \"data/Label of Brain Regions.csv\"\n",
    "\n",
    "# Load brain region labels\n",
    "region_labels <- read.csv(label_file, header = TRUE, stringsAsFactors = FALSE)\n",
    "colnames(region_labels) <- c(\"RegionCode\", \"RegionName\")\n",
    "region_labels$RegionCode <- as.character(region_labels$RegionCode)\n",
    "\n",
    "# Load all subjects\n",
    "asd_files <- list.files(asd_dir, full.names = TRUE, pattern = \"*.csv\")\n",
    "normal_files <- list.files(normal_dir, full.names = TRUE, pattern = \"*.csv\")\n",
    "\n",
    "asd_data_list <- lapply(asd_files, load_subject_data, region_labels = region_labels)\n",
    "normal_data_list <- lapply(normal_files, load_subject_data, region_labels = region_labels)\n",
    "\n",
    "names(asd_data_list) <- paste0(\"ASD_\", seq_along(asd_data_list))\n",
    "names(normal_data_list) <- paste0(\"Normal_\", seq_along(normal_data_list))\n",
    "\n",
    "# Prepare long-format data\n",
    "asd_long <- reshape_subject_data(asd_data_list, \"ASD\")\n",
    "normal_long <- reshape_subject_data(normal_data_list, \"Normal\")\n",
    "all_data_long <- rbind(asd_long, normal_long)\n",
    "\n",
    "# Plot voxel signal distributions\n",
    "ggplot(all_data_long, aes(x = Signal, fill = Group)) +\n",
    "  geom_density(alpha = 0.5) +\n",
    "  scale_x_continuous(limits = quantile(all_data_long$Signal, c(0.01, 0.99), na.rm = TRUE)) +\n",
    "  labs(title = \"Voxel Signal Value Distributions\", x = \"Signal Intensity\", y = \"Density\") +\n",
    "  theme_minimal()\n",
    "\n",
    "# No limit\n",
    "ggplot(all_data_long, aes(x = Signal, fill = Group)) +\n",
    "  geom_density(alpha = 0.5) +\n",
    "  labs(title = \"Voxel Signal Value Distributions\", x = \"Signal Intensity\", y = \"Density\") +\n",
    "  theme_minimal()"
   ]
  },
  {
   "cell_type": "code",
   "execution_count": 7,
   "metadata": {
    "vscode": {
     "languageId": "r"
    }
   },
   "outputs": [
    {
     "name": "stdout",
     "output_type": "stream",
     "text": [
      "\u001b[90m# A tibble: 20 × 7\u001b[39m\n",
      "   Group RegionName                             Mean    SD    Min   Max   Median\n",
      "   \u001b[3m\u001b[90m<chr>\u001b[39m\u001b[23m \u001b[3m\u001b[90m<chr>\u001b[39m\u001b[23m                                 \u001b[3m\u001b[90m<dbl>\u001b[39m\u001b[23m \u001b[3m\u001b[90m<dbl>\u001b[39m\u001b[23m  \u001b[3m\u001b[90m<dbl>\u001b[39m\u001b[23m \u001b[3m\u001b[90m<dbl>\u001b[39m\u001b[23m    \u001b[3m\u001b[90m<dbl>\u001b[39m\u001b[23m\n",
      "\u001b[90m 1\u001b[39m ASD   Left Accumbens                     -\u001b[31m0\u001b[39m\u001b[31m.\u001b[39m\u001b[31m00\u001b[39m\u001b[31m3\u001b[4m7\u001b[24m\u001b[4m5\u001b[24m\u001b[39m 26.2  -\u001b[31m117\u001b[39m\u001b[31m.\u001b[39m  103.  -\u001b[31m0\u001b[39m\u001b[31m.\u001b[39m\u001b[31m229\u001b[39m  \n",
      "\u001b[90m 2\u001b[39m ASD   Left Amygdala                      -\u001b[31m0\u001b[39m\u001b[31m.\u001b[39m\u001b[31m0\u001b[39m\u001b[31m31\u001b[4m2\u001b[24m\u001b[39m  22.3   -\u001b[31m95\u001b[39m\u001b[31m.\u001b[39m\u001b[31m9\u001b[39m 101.  -\u001b[31m0\u001b[39m\u001b[31m.\u001b[39m\u001b[31m0\u001b[39m\u001b[31m98\u001b[4m2\u001b[24m\u001b[39m \n",
      "\u001b[90m 3\u001b[39m ASD   Left Angular Gyrus                  0.028\u001b[4m9\u001b[24m  17.3   -\u001b[31m79\u001b[39m\u001b[31m.\u001b[39m\u001b[31m6\u001b[39m  76.1  0.086\u001b[4m7\u001b[24m \n",
      "\u001b[90m 4\u001b[39m ASD   Left Caudate                        0.014\u001b[4m0\u001b[24m  10.9   -\u001b[31m46\u001b[39m\u001b[31m.\u001b[39m\u001b[31m9\u001b[39m  48.1 -\u001b[31m0\u001b[39m\u001b[31m.\u001b[39m\u001b[31m0\u001b[39m\u001b[31m22\u001b[4m2\u001b[24m\u001b[39m \n",
      "\u001b[90m 5\u001b[39m ASD   Left Central Opercular Cortex      -\u001b[31m0\u001b[39m\u001b[31m.\u001b[39m\u001b[31m0\u001b[39m\u001b[31m40\u001b[4m2\u001b[24m\u001b[39m  17.0   -\u001b[31m76\u001b[39m\u001b[31m.\u001b[39m\u001b[31m4\u001b[39m  73.6 -\u001b[31m0\u001b[39m\u001b[31m.\u001b[39m\u001b[31m324\u001b[39m  \n",
      "\u001b[90m 6\u001b[39m ASD   Left Cingulate Gyrus; anterior di… -\u001b[31m0\u001b[39m\u001b[31m.\u001b[39m\u001b[31m00\u001b[39m\u001b[31m3\u001b[4m6\u001b[24m\u001b[4m8\u001b[24m\u001b[39m 11.4   -\u001b[31m43\u001b[39m\u001b[31m.\u001b[39m\u001b[31m6\u001b[39m  46.5 -\u001b[31m0\u001b[39m\u001b[31m.\u001b[39m\u001b[31m00\u001b[39m\u001b[31m4\u001b[4m2\u001b[24m\u001b[4m7\u001b[24m\u001b[39m\n",
      "\u001b[90m 7\u001b[39m ASD   Left Cingulate Gyrus; posterior d… -\u001b[31m0\u001b[39m\u001b[31m.\u001b[39m\u001b[31m0\u001b[39m\u001b[31m28\u001b[4m4\u001b[24m\u001b[39m   9.05  -\u001b[31m33\u001b[39m\u001b[31m.\u001b[39m\u001b[31m3\u001b[39m  37.4  0.062\u001b[4m4\u001b[24m \n",
      "\u001b[90m 8\u001b[39m ASD   Left Cuneal Cortex                 -\u001b[31m0\u001b[39m\u001b[31m.\u001b[39m\u001b[31m00\u001b[39m\u001b[31m7\u001b[4m2\u001b[24m\u001b[4m5\u001b[24m\u001b[39m 26.1  -\u001b[31m116\u001b[39m\u001b[31m.\u001b[39m  120.  -\u001b[31m0\u001b[39m\u001b[31m.\u001b[39m\u001b[31m279\u001b[39m  \n",
      "\u001b[90m 9\u001b[39m ASD   Left Frontal Medial Cortex          0.026\u001b[4m5\u001b[24m  20.7  -\u001b[31m179\u001b[39m\u001b[31m.\u001b[39m  220.  -\u001b[31m0\u001b[39m\u001b[31m.\u001b[39m\u001b[31m0\u001b[39m\u001b[31m76\u001b[4m4\u001b[24m\u001b[39m \n",
      "\u001b[90m10\u001b[39m ASD   Left Frontal Operculum Cortex       0.030\u001b[4m2\u001b[24m  22.5  -\u001b[31m126\u001b[39m\u001b[31m.\u001b[39m   94.9  0.112  \n",
      "\u001b[90m11\u001b[39m ASD   Left Frontal Orbital Cortex         0.008\u001b[4m9\u001b[24m\u001b[4m3\u001b[24m 12.8   -\u001b[31m84\u001b[39m\u001b[31m.\u001b[39m\u001b[31m0\u001b[39m  63.7 -\u001b[31m0\u001b[39m\u001b[31m.\u001b[39m\u001b[31m00\u001b[39m\u001b[31m2\u001b[4m5\u001b[24m\u001b[4m2\u001b[24m\u001b[39m\n",
      "\u001b[90m12\u001b[39m ASD   Left Frontal Pole                   0.021\u001b[4m0\u001b[24m   8.47  -\u001b[31m49\u001b[39m\u001b[31m.\u001b[39m\u001b[31m1\u001b[39m  45.0  0.072\u001b[4m7\u001b[24m \n",
      "\u001b[90m13\u001b[39m ASD   Left Heschl's Gyrus (includes H1 … -\u001b[31m0\u001b[39m\u001b[31m.\u001b[39m\u001b[31m110\u001b[39m   28.4  -\u001b[31m102\u001b[39m\u001b[31m.\u001b[39m  123.   0.043\u001b[4m4\u001b[24m \n",
      "\u001b[90m14\u001b[39m ASD   Left Hippocampus                   -\u001b[31m0\u001b[39m\u001b[31m.\u001b[39m\u001b[31m0\u001b[39m\u001b[31m24\u001b[4m6\u001b[24m\u001b[39m  10.7   -\u001b[31m43\u001b[39m\u001b[31m.\u001b[39m\u001b[31m5\u001b[39m  42.5  0.073\u001b[4m3\u001b[24m \n",
      "\u001b[90m15\u001b[39m ASD   Left Inferior Frontal Gyrus; pars…  0.022\u001b[4m7\u001b[24m  17.0   -\u001b[31m88\u001b[39m\u001b[31m.\u001b[39m\u001b[31m0\u001b[39m 100.  -\u001b[31m0\u001b[39m\u001b[31m.\u001b[39m\u001b[31m0\u001b[39m\u001b[31m68\u001b[4m0\u001b[24m\u001b[39m \n",
      "\u001b[90m16\u001b[39m ASD   Left Inferior Frontal Gyrus; pars…  0.030\u001b[4m9\u001b[24m  12.8   -\u001b[31m61\u001b[39m\u001b[31m.\u001b[39m\u001b[31m7\u001b[39m  76.1 -\u001b[31m0\u001b[39m\u001b[31m.\u001b[39m\u001b[31m0\u001b[39m\u001b[31m15\u001b[4m0\u001b[24m\u001b[39m \n",
      "\u001b[90m17\u001b[39m ASD   Left Inferior Temporal Gyrus; ant…  0.013\u001b[4m9\u001b[24m  10.5   -\u001b[31m47\u001b[39m\u001b[31m.\u001b[39m\u001b[31m7\u001b[39m  47.9 -\u001b[31m0\u001b[39m\u001b[31m.\u001b[39m\u001b[31m0\u001b[39m\u001b[31m23\u001b[4m7\u001b[24m\u001b[39m \n",
      "\u001b[90m18\u001b[39m ASD   Left Inferior Temporal Gyrus; pos…  0.011\u001b[4m4\u001b[24m   4.58  -\u001b[31m23\u001b[39m\u001b[31m.\u001b[39m\u001b[31m6\u001b[39m  26.9 -\u001b[31m0\u001b[39m\u001b[31m.\u001b[39m\u001b[31m0\u001b[39m\u001b[31m38\u001b[4m3\u001b[24m\u001b[39m \n",
      "\u001b[90m19\u001b[39m ASD   Left Inferior Temporal Gyrus; tem…  0.037\u001b[4m3\u001b[24m  12.1   -\u001b[31m54\u001b[39m\u001b[31m.\u001b[39m\u001b[31m4\u001b[39m  53.9  0.075\u001b[4m1\u001b[24m \n",
      "\u001b[90m20\u001b[39m ASD   Left Insular Cortex                -\u001b[31m0\u001b[39m\u001b[31m.\u001b[39m\u001b[31m0\u001b[39m\u001b[31m66\u001b[4m2\u001b[24m\u001b[39m  25.1  -\u001b[31m100\u001b[39m\u001b[31m.\u001b[39m  114.   0.076\u001b[4m5\u001b[24m \n",
      "\u001b[90m# A tibble: 20 × 7\u001b[39m\n",
      "   Group RegionName                             Mean    SD    Min   Max   Median\n",
      "   \u001b[3m\u001b[90m<chr>\u001b[39m\u001b[23m \u001b[3m\u001b[90m<chr>\u001b[39m\u001b[23m                                 \u001b[3m\u001b[90m<dbl>\u001b[39m\u001b[23m \u001b[3m\u001b[90m<dbl>\u001b[39m\u001b[23m  \u001b[3m\u001b[90m<dbl>\u001b[39m\u001b[23m \u001b[3m\u001b[90m<dbl>\u001b[39m\u001b[23m    \u001b[3m\u001b[90m<dbl>\u001b[39m\u001b[23m\n",
      "\u001b[90m 1\u001b[39m ASD   Left Accumbens                     -\u001b[31m0\u001b[39m\u001b[31m.\u001b[39m\u001b[31m00\u001b[39m\u001b[31m3\u001b[4m7\u001b[24m\u001b[4m5\u001b[24m\u001b[39m 26.2  -\u001b[31m117\u001b[39m\u001b[31m.\u001b[39m  103.  -\u001b[31m0\u001b[39m\u001b[31m.\u001b[39m\u001b[31m229\u001b[39m  \n",
      "\u001b[90m 2\u001b[39m ASD   Left Amygdala                      -\u001b[31m0\u001b[39m\u001b[31m.\u001b[39m\u001b[31m0\u001b[39m\u001b[31m31\u001b[4m2\u001b[24m\u001b[39m  22.3   -\u001b[31m95\u001b[39m\u001b[31m.\u001b[39m\u001b[31m9\u001b[39m 101.  -\u001b[31m0\u001b[39m\u001b[31m.\u001b[39m\u001b[31m0\u001b[39m\u001b[31m98\u001b[4m2\u001b[24m\u001b[39m \n",
      "\u001b[90m 3\u001b[39m ASD   Left Angular Gyrus                  0.028\u001b[4m9\u001b[24m  17.3   -\u001b[31m79\u001b[39m\u001b[31m.\u001b[39m\u001b[31m6\u001b[39m  76.1  0.086\u001b[4m7\u001b[24m \n",
      "\u001b[90m 4\u001b[39m ASD   Left Caudate                        0.014\u001b[4m0\u001b[24m  10.9   -\u001b[31m46\u001b[39m\u001b[31m.\u001b[39m\u001b[31m9\u001b[39m  48.1 -\u001b[31m0\u001b[39m\u001b[31m.\u001b[39m\u001b[31m0\u001b[39m\u001b[31m22\u001b[4m2\u001b[24m\u001b[39m \n",
      "\u001b[90m 5\u001b[39m ASD   Left Central Opercular Cortex      -\u001b[31m0\u001b[39m\u001b[31m.\u001b[39m\u001b[31m0\u001b[39m\u001b[31m40\u001b[4m2\u001b[24m\u001b[39m  17.0   -\u001b[31m76\u001b[39m\u001b[31m.\u001b[39m\u001b[31m4\u001b[39m  73.6 -\u001b[31m0\u001b[39m\u001b[31m.\u001b[39m\u001b[31m324\u001b[39m  \n",
      "\u001b[90m 6\u001b[39m ASD   Left Cingulate Gyrus; anterior di… -\u001b[31m0\u001b[39m\u001b[31m.\u001b[39m\u001b[31m00\u001b[39m\u001b[31m3\u001b[4m6\u001b[24m\u001b[4m8\u001b[24m\u001b[39m 11.4   -\u001b[31m43\u001b[39m\u001b[31m.\u001b[39m\u001b[31m6\u001b[39m  46.5 -\u001b[31m0\u001b[39m\u001b[31m.\u001b[39m\u001b[31m00\u001b[39m\u001b[31m4\u001b[4m2\u001b[24m\u001b[4m7\u001b[24m\u001b[39m\n",
      "\u001b[90m 7\u001b[39m ASD   Left Cingulate Gyrus; posterior d… -\u001b[31m0\u001b[39m\u001b[31m.\u001b[39m\u001b[31m0\u001b[39m\u001b[31m28\u001b[4m4\u001b[24m\u001b[39m   9.05  -\u001b[31m33\u001b[39m\u001b[31m.\u001b[39m\u001b[31m3\u001b[39m  37.4  0.062\u001b[4m4\u001b[24m \n",
      "\u001b[90m 8\u001b[39m ASD   Left Cuneal Cortex                 -\u001b[31m0\u001b[39m\u001b[31m.\u001b[39m\u001b[31m00\u001b[39m\u001b[31m7\u001b[4m2\u001b[24m\u001b[4m5\u001b[24m\u001b[39m 26.1  -\u001b[31m116\u001b[39m\u001b[31m.\u001b[39m  120.  -\u001b[31m0\u001b[39m\u001b[31m.\u001b[39m\u001b[31m279\u001b[39m  \n",
      "\u001b[90m 9\u001b[39m ASD   Left Frontal Medial Cortex          0.026\u001b[4m5\u001b[24m  20.7  -\u001b[31m179\u001b[39m\u001b[31m.\u001b[39m  220.  -\u001b[31m0\u001b[39m\u001b[31m.\u001b[39m\u001b[31m0\u001b[39m\u001b[31m76\u001b[4m4\u001b[24m\u001b[39m \n",
      "\u001b[90m10\u001b[39m ASD   Left Frontal Operculum Cortex       0.030\u001b[4m2\u001b[24m  22.5  -\u001b[31m126\u001b[39m\u001b[31m.\u001b[39m   94.9  0.112  \n",
      "\u001b[90m11\u001b[39m ASD   Left Frontal Orbital Cortex         0.008\u001b[4m9\u001b[24m\u001b[4m3\u001b[24m 12.8   -\u001b[31m84\u001b[39m\u001b[31m.\u001b[39m\u001b[31m0\u001b[39m  63.7 -\u001b[31m0\u001b[39m\u001b[31m.\u001b[39m\u001b[31m00\u001b[39m\u001b[31m2\u001b[4m5\u001b[24m\u001b[4m2\u001b[24m\u001b[39m\n",
      "\u001b[90m12\u001b[39m ASD   Left Frontal Pole                   0.021\u001b[4m0\u001b[24m   8.47  -\u001b[31m49\u001b[39m\u001b[31m.\u001b[39m\u001b[31m1\u001b[39m  45.0  0.072\u001b[4m7\u001b[24m \n",
      "\u001b[90m13\u001b[39m ASD   Left Heschl's Gyrus (includes H1 … -\u001b[31m0\u001b[39m\u001b[31m.\u001b[39m\u001b[31m110\u001b[39m   28.4  -\u001b[31m102\u001b[39m\u001b[31m.\u001b[39m  123.   0.043\u001b[4m4\u001b[24m \n",
      "\u001b[90m14\u001b[39m ASD   Left Hippocampus                   -\u001b[31m0\u001b[39m\u001b[31m.\u001b[39m\u001b[31m0\u001b[39m\u001b[31m24\u001b[4m6\u001b[24m\u001b[39m  10.7   -\u001b[31m43\u001b[39m\u001b[31m.\u001b[39m\u001b[31m5\u001b[39m  42.5  0.073\u001b[4m3\u001b[24m \n",
      "\u001b[90m15\u001b[39m ASD   Left Inferior Frontal Gyrus; pars…  0.022\u001b[4m7\u001b[24m  17.0   -\u001b[31m88\u001b[39m\u001b[31m.\u001b[39m\u001b[31m0\u001b[39m 100.  -\u001b[31m0\u001b[39m\u001b[31m.\u001b[39m\u001b[31m0\u001b[39m\u001b[31m68\u001b[4m0\u001b[24m\u001b[39m \n",
      "\u001b[90m16\u001b[39m ASD   Left Inferior Frontal Gyrus; pars…  0.030\u001b[4m9\u001b[24m  12.8   -\u001b[31m61\u001b[39m\u001b[31m.\u001b[39m\u001b[31m7\u001b[39m  76.1 -\u001b[31m0\u001b[39m\u001b[31m.\u001b[39m\u001b[31m0\u001b[39m\u001b[31m15\u001b[4m0\u001b[24m\u001b[39m \n",
      "\u001b[90m17\u001b[39m ASD   Left Inferior Temporal Gyrus; ant…  0.013\u001b[4m9\u001b[24m  10.5   -\u001b[31m47\u001b[39m\u001b[31m.\u001b[39m\u001b[31m7\u001b[39m  47.9 -\u001b[31m0\u001b[39m\u001b[31m.\u001b[39m\u001b[31m0\u001b[39m\u001b[31m23\u001b[4m7\u001b[24m\u001b[39m \n",
      "\u001b[90m18\u001b[39m ASD   Left Inferior Temporal Gyrus; pos…  0.011\u001b[4m4\u001b[24m   4.58  -\u001b[31m23\u001b[39m\u001b[31m.\u001b[39m\u001b[31m6\u001b[39m  26.9 -\u001b[31m0\u001b[39m\u001b[31m.\u001b[39m\u001b[31m0\u001b[39m\u001b[31m38\u001b[4m3\u001b[24m\u001b[39m \n",
      "\u001b[90m19\u001b[39m ASD   Left Inferior Temporal Gyrus; tem…  0.037\u001b[4m3\u001b[24m  12.1   -\u001b[31m54\u001b[39m\u001b[31m.\u001b[39m\u001b[31m4\u001b[39m  53.9  0.075\u001b[4m1\u001b[24m \n",
      "\u001b[90m20\u001b[39m ASD   Left Insular Cortex                -\u001b[31m0\u001b[39m\u001b[31m.\u001b[39m\u001b[31m0\u001b[39m\u001b[31m66\u001b[4m2\u001b[24m\u001b[39m  25.1  -\u001b[31m100\u001b[39m\u001b[31m.\u001b[39m  114.   0.076\u001b[4m5\u001b[24m \n",
      "\u001b[90m# A tibble: 20 × 7\u001b[39m\n",
      "   Group  RegionName                            Mean    SD    Min   Max   Median\n",
      "   \u001b[3m\u001b[90m<chr>\u001b[39m\u001b[23m  \u001b[3m\u001b[90m<chr>\u001b[39m\u001b[23m                                \u001b[3m\u001b[90m<dbl>\u001b[39m\u001b[23m \u001b[3m\u001b[90m<dbl>\u001b[39m\u001b[23m  \u001b[3m\u001b[90m<dbl>\u001b[39m\u001b[23m \u001b[3m\u001b[90m<dbl>\u001b[39m\u001b[23m    \u001b[3m\u001b[90m<dbl>\u001b[39m\u001b[23m\n",
      "\u001b[90m 1\u001b[39m Normal Left Accumbens                    -\u001b[31m0\u001b[39m\u001b[31m.\u001b[39m\u001b[31m0\u001b[39m\u001b[31m12\u001b[4m0\u001b[24m\u001b[39m  26.7  -\u001b[31m120\u001b[39m\u001b[31m.\u001b[39m  107.   0.171  \n",
      "\u001b[90m 2\u001b[39m Normal Left Amygdala                      0.013\u001b[4m7\u001b[24m  22.2  -\u001b[31m112\u001b[39m\u001b[31m.\u001b[39m  125.  -\u001b[31m0\u001b[39m\u001b[31m.\u001b[39m\u001b[31m512\u001b[39m  \n",
      "\u001b[90m 3\u001b[39m Normal Left Angular Gyrus                -\u001b[31m0\u001b[39m\u001b[31m.\u001b[39m\u001b[31m00\u001b[39m\u001b[31m5\u001b[4m0\u001b[24m\u001b[4m6\u001b[24m\u001b[39m 16.5   -\u001b[31m74\u001b[39m\u001b[31m.\u001b[39m\u001b[31m8\u001b[39m  64.0 -\u001b[31m0\u001b[39m\u001b[31m.\u001b[39m\u001b[31m102\u001b[39m  \n",
      "\u001b[90m 4\u001b[39m Normal Left Caudate                      -\u001b[31m0\u001b[39m\u001b[31m.\u001b[39m\u001b[31m00\u001b[39m\u001b[31m6\u001b[4m3\u001b[24m\u001b[4m1\u001b[24m\u001b[39m 10.3   -\u001b[31m39\u001b[39m\u001b[31m.\u001b[39m\u001b[31m7\u001b[39m  40.6 -\u001b[31m0\u001b[39m\u001b[31m.\u001b[39m\u001b[31m0\u001b[39m\u001b[31m92\u001b[4m5\u001b[24m\u001b[39m \n",
      "\u001b[90m 5\u001b[39m Normal Left Central Opercular Cortex     -\u001b[31m0\u001b[39m\u001b[31m.\u001b[39m\u001b[31m00\u001b[39m\u001b[31m2\u001b[4m8\u001b[24m\u001b[4m9\u001b[24m\u001b[39m 17.1   -\u001b[31m94\u001b[39m\u001b[31m.\u001b[39m\u001b[31m6\u001b[39m  90.4  0.056\u001b[4m3\u001b[24m \n",
      "\u001b[90m 6\u001b[39m Normal Left Cingulate Gyrus; anterior d… -\u001b[31m0\u001b[39m\u001b[31m.\u001b[39m\u001b[31m0\u001b[39m\u001b[31m29\u001b[4m6\u001b[24m\u001b[39m  11.3   -\u001b[31m42\u001b[39m\u001b[31m.\u001b[39m\u001b[31m1\u001b[39m  38.0  0.121  \n",
      "\u001b[90m 7\u001b[39m Normal Left Cingulate Gyrus; posterior … -\u001b[31m0\u001b[39m\u001b[31m.\u001b[39m\u001b[31m0\u001b[39m\u001b[31m16\u001b[4m8\u001b[24m\u001b[39m   8.89  -\u001b[31m34\u001b[39m\u001b[31m.\u001b[39m\u001b[31m0\u001b[39m  37.6 -\u001b[31m0\u001b[39m\u001b[31m.\u001b[39m\u001b[31m0\u001b[39m\u001b[31m26\u001b[4m4\u001b[24m\u001b[39m \n",
      "\u001b[90m 8\u001b[39m Normal Left Cuneal Cortex                 0.021\u001b[4m5\u001b[24m  25.5  -\u001b[31m153\u001b[39m\u001b[31m.\u001b[39m  179.  -\u001b[31m0\u001b[39m\u001b[31m.\u001b[39m\u001b[31m203\u001b[39m  \n",
      "\u001b[90m 9\u001b[39m Normal Left Frontal Medial Cortex         0.066\u001b[4m9\u001b[24m  16.4   -\u001b[31m73\u001b[39m\u001b[31m.\u001b[39m\u001b[31m8\u001b[39m  94.3  0.086\u001b[4m6\u001b[24m \n",
      "\u001b[90m10\u001b[39m Normal Left Frontal Operculum Cortex      0.048\u001b[4m9\u001b[24m  20.8  -\u001b[31m127\u001b[39m\u001b[31m.\u001b[39m   84.7 -\u001b[31m0\u001b[39m\u001b[31m.\u001b[39m\u001b[31m0\u001b[39m\u001b[31m32\u001b[4m4\u001b[24m\u001b[39m \n",
      "\u001b[90m11\u001b[39m Normal Left Frontal Orbital Cortex        0.017\u001b[4m3\u001b[24m  11.6   -\u001b[31m64\u001b[39m\u001b[31m.\u001b[39m\u001b[31m7\u001b[39m  55.0  0.040\u001b[4m2\u001b[24m \n",
      "\u001b[90m12\u001b[39m Normal Left Frontal Pole                  0.013\u001b[4m8\u001b[24m   6.78  -\u001b[31m36\u001b[39m\u001b[31m.\u001b[39m\u001b[31m9\u001b[39m  32.2  0.015\u001b[4m3\u001b[24m \n",
      "\u001b[90m13\u001b[39m Normal Left Heschl's Gyrus (includes H1… -\u001b[31m0\u001b[39m\u001b[31m.\u001b[39m\u001b[31m0\u001b[39m\u001b[31m80\u001b[4m6\u001b[24m\u001b[39m  28.9  -\u001b[31m154\u001b[39m\u001b[31m.\u001b[39m  122.   0.049\u001b[4m9\u001b[24m \n",
      "\u001b[90m14\u001b[39m Normal Left Hippocampus                   0.008\u001b[4m2\u001b[24m\u001b[4m6\u001b[24m 10.3   -\u001b[31m38\u001b[39m\u001b[31m.\u001b[39m\u001b[31m4\u001b[39m  44.4  0.045\u001b[4m1\u001b[24m \n",
      "\u001b[90m15\u001b[39m Normal Left Inferior Frontal Gyrus; par…  0.020\u001b[4m2\u001b[24m  15.9   -\u001b[31m89\u001b[39m\u001b[31m.\u001b[39m\u001b[31m0\u001b[39m  75.0  0.012\u001b[4m7\u001b[24m \n",
      "\u001b[90m16\u001b[39m Normal Left Inferior Frontal Gyrus; par…  0.015\u001b[4m0\u001b[24m  11.9   -\u001b[31m70\u001b[39m\u001b[31m.\u001b[39m\u001b[31m1\u001b[39m  62.8 -\u001b[31m0\u001b[39m\u001b[31m.\u001b[39m\u001b[31m110\u001b[39m  \n",
      "\u001b[90m17\u001b[39m Normal Left Inferior Temporal Gyrus; an…  0.033\u001b[4m7\u001b[24m   9.45  -\u001b[31m86\u001b[39m\u001b[31m.\u001b[39m\u001b[31m6\u001b[39m  48.8  0.002\u001b[4m9\u001b[24m\u001b[4m8\u001b[24m\n",
      "\u001b[90m18\u001b[39m Normal Left Inferior Temporal Gyrus; po…  0.011\u001b[4m5\u001b[24m   4.39  -\u001b[31m26\u001b[39m\u001b[31m.\u001b[39m\u001b[31m3\u001b[39m  18.7 -\u001b[31m0\u001b[39m\u001b[31m.\u001b[39m\u001b[31m00\u001b[39m\u001b[31m7\u001b[4m7\u001b[24m\u001b[4m6\u001b[24m\u001b[39m\n",
      "\u001b[90m19\u001b[39m Normal Left Inferior Temporal Gyrus; te…  0.031\u001b[4m2\u001b[24m  11.9   -\u001b[31m58\u001b[39m\u001b[31m.\u001b[39m\u001b[31m6\u001b[39m  54.5 -\u001b[31m0\u001b[39m\u001b[31m.\u001b[39m\u001b[31m207\u001b[39m  \n",
      "\u001b[90m20\u001b[39m Normal Left Insular Cortex                0.025\u001b[4m6\u001b[24m  23.4   -\u001b[31m89\u001b[39m\u001b[31m.\u001b[39m\u001b[31m9\u001b[39m 102.  -\u001b[31m0\u001b[39m\u001b[31m.\u001b[39m\u001b[31m371\u001b[39m  \n"
     ]
    }
   ],
   "source": [
    "# Summary statistics (per region & group)\n",
    "summary_all <- all_data_long %>%\n",
    "  group_by(Group, RegionName) %>%\n",
    "  summarise(\n",
    "    Mean = mean(Signal, na.rm = TRUE),\n",
    "    SD = sd(Signal, na.rm = TRUE),\n",
    "    Min = min(Signal, na.rm = TRUE),\n",
    "    Max = max(Signal, na.rm = TRUE),\n",
    "    Median = median(Signal, na.rm = TRUE),\n",
    "    .groups = \"drop\"\n",
    "  )\n",
    "summary_asd <- asd_long %>%\n",
    "  group_by(Group, RegionName) %>%\n",
    "  summarise(\n",
    "    Mean = mean(Signal, na.rm = TRUE),\n",
    "    SD = sd(Signal, na.rm = TRUE),\n",
    "    Min = min(Signal, na.rm = TRUE),\n",
    "    Max = max(Signal, na.rm = TRUE),\n",
    "    Median = median(Signal, na.rm = TRUE),\n",
    "    .groups = \"drop\"\n",
    "  )\n",
    "summary_normal <- normal_long %>%\n",
    "  group_by(Group, RegionName) %>%\n",
    "  summarise(\n",
    "    Mean = mean(Signal, na.rm = TRUE),\n",
    "    SD = sd(Signal, na.rm = TRUE),\n",
    "    Min = min(Signal, na.rm = TRUE),\n",
    "    Max = max(Signal, na.rm = TRUE),\n",
    "    Median = median(Signal, na.rm = TRUE),\n",
    "    .groups = \"drop\"\n",
    "  )\n",
    "\n",
    "print(head(summary_all, 20))\n",
    "print(head(summary_asd, 20))\n",
    "print(head(summary_normal, 20))"
   ]
  },
  {
   "cell_type": "code",
   "execution_count": 8,
   "metadata": {
    "vscode": {
     "languageId": "r"
    }
   },
   "outputs": [
    {
     "data": {
      "text/plain": [
       "      Time         RegionName            Signal             Subject         \n",
       " Min.   :  0.00   Length:968000      Min.   :-188.60820   Length:968000     \n",
       " 1st Qu.: 43.75   Class :character   1st Qu.:  -9.80794   Class :character  \n",
       " Median : 87.50   Mode  :character   Median :  -0.08721   Mode  :character  \n",
       " Mean   : 87.50                      Mean   :  -0.01509                     \n",
       " 3rd Qu.:131.25                      3rd Qu.:   9.64980                     \n",
       " Max.   :175.00                      Max.   : 219.86494                     \n",
       "    Group          \n",
       " Length:968000     \n",
       " Class :character  \n",
       " Mode  :character  \n",
       "                   \n",
       "                   \n",
       "                   "
      ]
     },
     "metadata": {},
     "output_type": "display_data"
    },
    {
     "data": {
      "text/plain": [
       "      Time         RegionName            Signal             Subject         \n",
       " Min.   :  0.00   Length:968000      Min.   :-205.23411   Length:968000     \n",
       " 1st Qu.: 43.75   Class :character   1st Qu.:  -9.32470   Class :character  \n",
       " Median : 87.50   Mode  :character   Median :  -0.07622   Mode  :character  \n",
       " Mean   : 87.50                      Mean   :  -0.00527                     \n",
       " 3rd Qu.:131.25                      3rd Qu.:   9.18868                     \n",
       " Max.   :175.00                      Max.   : 178.79883                     \n",
       "    Group          \n",
       " Length:968000     \n",
       " Class :character  \n",
       " Mode  :character  \n",
       "                   \n",
       "                   \n",
       "                   "
      ]
     },
     "metadata": {},
     "output_type": "display_data"
    },
    {
     "data": {
      "text/plain": [
       "      Time         RegionName            Signal             Subject         \n",
       " Min.   :  0.00   Length:1936000     Min.   :-205.23411   Length:1936000    \n",
       " 1st Qu.: 43.75   Class :character   1st Qu.:  -9.56426   Class :character  \n",
       " Median : 87.50   Mode  :character   Median :  -0.08125   Mode  :character  \n",
       " Mean   : 87.50                      Mean   :  -0.01018                     \n",
       " 3rd Qu.:131.25                      3rd Qu.:   9.40980                     \n",
       " Max.   :175.00                      Max.   : 219.86494                     \n",
       "    Group          \n",
       " Length:1936000    \n",
       " Class :character  \n",
       " Mode  :character  \n",
       "                   \n",
       "                   \n",
       "                   "
      ]
     },
     "metadata": {},
     "output_type": "display_data"
    }
   ],
   "source": [
    "summary(asd_long)\n",
    "summary(normal_long)\n",
    "summary(all_data_long)"
   ]
  },
  {
   "cell_type": "code",
   "execution_count": 9,
   "metadata": {
    "vscode": {
     "languageId": "r"
    }
   },
   "outputs": [
    {
     "name": "stdout",
     "output_type": "stream",
     "text": [
      "  [1] \"Left Thalamus\"                                                            \n",
      "  [2] \"Left Caudate\"                                                             \n",
      "  [3] \"Left Putamen\"                                                             \n",
      "  [4] \"Left Pallidum\"                                                            \n",
      "  [5] \"Left Hippocampus\"                                                         \n",
      "  [6] \"Left Amygdala\"                                                            \n",
      "  [7] \"Left Accumbens\"                                                           \n",
      "  [8] \"Right Thalamus\"                                                           \n",
      "  [9] \"Right Caudate\"                                                            \n",
      " [10] \"Right Putamen\"                                                            \n",
      " [11] \"Right Pallidum\"                                                           \n",
      " [12] \"Right Hippocampus\"                                                        \n",
      " [13] \"Right Amygdala\"                                                           \n",
      " [14] \"Right Accumbens\"                                                          \n",
      " [15] \"Right Frontal Pole\"                                                       \n",
      " [16] \"Left Frontal Pole\"                                                        \n",
      " [17] \"Right Insular Cortex\"                                                     \n",
      " [18] \"Left Insular Cortex\"                                                      \n",
      " [19] \"Right Superior Frontal Gyrus\"                                             \n",
      " [20] \"Left Superior Frontal Gyrus\"                                              \n",
      " [21] \"Right Middle Frontal Gyrus\"                                               \n",
      " [22] \"Left Middle Frontal Gyrus\"                                                \n",
      " [23] \"Right Inferior Frontal Gyrus; pars triangularis\"                          \n",
      " [24] \"Left Inferior Frontal Gyrus; pars triangularis\"                           \n",
      " [25] \"Right Inferior Frontal Gyrus; pars opercularis\"                           \n",
      " [26] \"Left Inferior Frontal Gyrus; pars opercularis\"                            \n",
      " [27] \"Right Precentral Gyrus\"                                                   \n",
      " [28] \"Left Precentral Gyrus\"                                                    \n",
      " [29] \"Right Temporal Pole\"                                                      \n",
      " [30] \"Left Temporal Pole\"                                                       \n",
      " [31] \"Right Superior Temporal Gyrus; anterior division\"                         \n",
      " [32] \"Left Superior Temporal Gyrus; anterior division\"                          \n",
      " [33] \"Right Superior Temporal Gyrus; posterior division\"                        \n",
      " [34] \"Left Superior Temporal Gyrus; posterior division\"                         \n",
      " [35] \"Right Middle Temporal Gyrus; anterior division\"                           \n",
      " [36] \"Left Middle Temporal Gyrus; anterior division\"                            \n",
      " [37] \"Right Middle Temporal Gyrus; posterior division\"                          \n",
      " [38] \"Left Middle Temporal Gyrus; posterior division\"                           \n",
      " [39] \"Right Middle Temporal Gyrus; temporooccipital part\"                       \n",
      " [40] \"Left Middle Temporal Gyrus; temporooccipital part\"                        \n",
      " [41] \"Right Inferior Temporal Gyrus; anterior division\"                         \n",
      " [42] \"Left Inferior Temporal Gyrus; anterior division\"                          \n",
      " [43] \"Right Inferior Temporal Gyrus; posterior division\"                        \n",
      " [44] \"Left Inferior Temporal Gyrus; posterior division\"                         \n",
      " [45] \"Right Inferior Temporal Gyrus; temporooccipital part\"                     \n",
      " [46] \"Left Inferior Temporal Gyrus; temporooccipital part\"                      \n",
      " [47] \"Right Postcentral Gyrus\"                                                  \n",
      " [48] \"Left Postcentral Gyrus\"                                                   \n",
      " [49] \"Right Superior Parietal Lobule\"                                           \n",
      " [50] \"Left Superior Parietal Lobule\"                                            \n",
      " [51] \"Right Supramarginal Gyrus; anterior division\"                             \n",
      " [52] \"Left Supramarginal Gyrus; anterior division\"                              \n",
      " [53] \"Right Supramarginal Gyrus; posterior division\"                            \n",
      " [54] \"Left Supramarginal Gyrus; posterior division\"                             \n",
      " [55] \"Right Angular Gyrus\"                                                      \n",
      " [56] \"Left Angular Gyrus\"                                                       \n",
      " [57] \"Right Lateral Occipital Cortex; superior division\"                        \n",
      " [58] \"Left Lateral Occipital Cortex; superior division\"                         \n",
      " [59] \"Right Lateral Occipital Cortex; inferior division\"                        \n",
      " [60] \"Left Lateral Occipital Cortex; inferior division\"                         \n",
      " [61] \"Right Intracalcarine Cortex\"                                              \n",
      " [62] \"Left Intracalcarine Cortex\"                                               \n",
      " [63] \"Right Frontal Medial Cortex\"                                              \n",
      " [64] \"Left Frontal Medial Cortex\"                                               \n",
      " [65] \"Right Juxtapositional Lobule Cortex (formerly Supplementary Motor Cortex)\"\n",
      " [66] \"Left Juxtapositional Lobule Cortex (formerly Supplementary Motor Cortex)\" \n",
      " [67] \"Right Subcallosal Cortex\"                                                 \n",
      " [68] \"Left Subcallosal Cortex\"                                                  \n",
      " [69] \"Right Paracingulate Gyrus\"                                                \n",
      " [70] \"Left Paracingulate Gyrus\"                                                 \n",
      " [71] \"Right Cingulate Gyrus; anterior division\"                                 \n",
      " [72] \"Left Cingulate Gyrus; anterior division\"                                  \n",
      " [73] \"Right Cingulate Gyrus; posterior division\"                                \n",
      " [74] \"Left Cingulate Gyrus; posterior division\"                                 \n",
      " [75] \"Right Precuneous Cortex\"                                                  \n",
      " [76] \"Left Precuneous Cortex\"                                                   \n",
      " [77] \"Right Cuneal Cortex\"                                                      \n",
      " [78] \"Left Cuneal Cortex\"                                                       \n",
      " [79] \"Right Frontal Orbital Cortex\"                                             \n",
      " [80] \"Left Frontal Orbital Cortex\"                                              \n",
      " [81] \"Right Parahippocampal Gyrus; anterior division\"                           \n",
      " [82] \"Left Parahippocampal Gyrus; anterior division\"                            \n",
      " [83] \"Right Parahippocampal Gyrus; posterior division\"                          \n",
      " [84] \"Left Parahippocampal Gyrus; posterior division\"                           \n",
      " [85] \"Right Lingual Gyrus\"                                                      \n",
      " [86] \"Left Lingual Gyrus\"                                                       \n",
      " [87] \"Right Temporal Fusiform Cortex; anterior division\"                        \n",
      " [88] \"Left Temporal Fusiform Cortex; anterior division\"                         \n",
      " [89] \"Right Temporal Fusiform Cortex; posterior division\"                       \n",
      " [90] \"Left Temporal Fusiform Cortex; posterior division\"                        \n",
      " [91] \"Right Temporal Occipital Fusiform Cortex\"                                 \n",
      " [92] \"Left Temporal Occipital Fusiform Cortex\"                                  \n",
      " [93] \"Right Occipital Fusiform Gyrus\"                                           \n",
      " [94] \"Left Occipital Fusiform Gyrus\"                                            \n",
      " [95] \"Right Frontal Operculum Cortex\"                                           \n",
      " [96] \"Left Frontal Operculum Cortex\"                                            \n",
      " [97] \"Right Central Opercular Cortex\"                                           \n",
      " [98] \"Left Central Opercular Cortex\"                                            \n",
      " [99] \"Right Parietal Operculum Cortex\"                                          \n",
      "[100] \"Left Parietal Operculum Cortex\"                                           \n",
      "[101] \"Right Planum Polare\"                                                      \n",
      "[102] \"Left Planum Polare\"                                                       \n",
      "[103] \"Right Heschl's Gyrus (includes H1 and H2)\"                                \n",
      "[104] \"Left Heschl's Gyrus (includes H1 and H2)\"                                 \n",
      "[105] \"Right Planum Temporale\"                                                   \n",
      "[106] \"Left Planum Temporale\"                                                    \n",
      "[107] \"Right Supracalcarine Cortex\"                                              \n",
      "[108] \"Left Supracalcarine Cortex\"                                               \n",
      "[109] \"Right Occipital Pole\"                                                     \n",
      "[110] \"Left Occipital Pole\"                                                      \n",
      "[1] 110\n"
     ]
    }
   ],
   "source": [
    "#Shows the Region names as a table\n",
    "print(unique(asd_long$RegionName))\n",
    "print(length(unique(asd_long$RegionName)))"
   ]
  },
  {
   "cell_type": "code",
   "execution_count": 10,
   "metadata": {
    "vscode": {
     "languageId": "r"
    }
   },
   "outputs": [
    {
     "data": {
      "text/html": [
       "<table class=\"dataframe\">\n",
       "<caption>A data.frame: 6 × 111</caption>\n",
       "<thead>\n",
       "\t<tr><th></th><th scope=col>Time</th><th scope=col>Left Thalamus</th><th scope=col>Left Caudate</th><th scope=col>Left Putamen</th><th scope=col>Left Pallidum</th><th scope=col>Left Hippocampus</th><th scope=col>Left Amygdala</th><th scope=col>Left Accumbens</th><th scope=col>Right Thalamus</th><th scope=col>Right Caudate</th><th scope=col>⋯</th><th scope=col>Right Planum Polare</th><th scope=col>Left Planum Polare</th><th scope=col>Right Heschl's Gyrus (includes H1 and H2)</th><th scope=col>Left Heschl's Gyrus (includes H1 and H2)</th><th scope=col>Right Planum Temporale</th><th scope=col>Left Planum Temporale</th><th scope=col>Right Supracalcarine Cortex</th><th scope=col>Left Supracalcarine Cortex</th><th scope=col>Right Occipital Pole</th><th scope=col>Left Occipital Pole</th></tr>\n",
       "\t<tr><th></th><th scope=col>&lt;dbl&gt;</th><th scope=col>&lt;dbl&gt;</th><th scope=col>&lt;dbl&gt;</th><th scope=col>&lt;dbl&gt;</th><th scope=col>&lt;dbl&gt;</th><th scope=col>&lt;dbl&gt;</th><th scope=col>&lt;dbl&gt;</th><th scope=col>&lt;dbl&gt;</th><th scope=col>&lt;dbl&gt;</th><th scope=col>&lt;dbl&gt;</th><th scope=col>⋯</th><th scope=col>&lt;dbl&gt;</th><th scope=col>&lt;dbl&gt;</th><th scope=col>&lt;dbl&gt;</th><th scope=col>&lt;dbl&gt;</th><th scope=col>&lt;dbl&gt;</th><th scope=col>&lt;dbl&gt;</th><th scope=col>&lt;dbl&gt;</th><th scope=col>&lt;dbl&gt;</th><th scope=col>&lt;dbl&gt;</th><th scope=col>&lt;dbl&gt;</th></tr>\n",
       "</thead>\n",
       "<tbody>\n",
       "\t<tr><th scope=row>1</th><td>0</td><td>-6.743464</td><td>-0.914306</td><td>-14.62304</td><td> 5.851551</td><td> 7.992399</td><td>-18.68383</td><td> 0.754312</td><td>-0.449771</td><td>-5.839773</td><td>⋯</td><td>-35.185715</td><td>-2.928083</td><td> 0.425990</td><td>-17.795643</td><td>11.121651</td><td>-13.465437</td><td> -9.292003</td><td>-30.34968</td><td> -5.20509</td><td> -1.652152</td></tr>\n",
       "\t<tr><th scope=row>2</th><td>1</td><td>-9.347871</td><td>-0.577119</td><td>-16.10221</td><td>10.367333</td><td>11.047755</td><td>-12.24571</td><td> 6.855634</td><td>-3.452420</td><td> 3.716789</td><td>⋯</td><td>-44.960901</td><td>-6.512893</td><td>-6.135171</td><td>-13.144289</td><td> 9.087565</td><td> -4.639542</td><td>-10.312183</td><td>-46.02102</td><td>-30.55020</td><td>-20.270377</td></tr>\n",
       "\t<tr><th scope=row>3</th><td>2</td><td>-3.668645</td><td> 2.301078</td><td> -3.74550</td><td>13.435687</td><td>13.531475</td><td> 14.94994</td><td>13.691762</td><td> 6.801156</td><td>18.599672</td><td>⋯</td><td>-31.354104</td><td> 3.472175</td><td>-2.814472</td><td>  8.402168</td><td> 6.408381</td><td> 12.995796</td><td>-22.929029</td><td>-41.91286</td><td>-51.33673</td><td>-34.462431</td></tr>\n",
       "\t<tr><th scope=row>4</th><td>3</td><td> 6.449822</td><td> 7.489157</td><td> 13.53070</td><td>11.438150</td><td>13.700101</td><td> 41.16186</td><td>14.327866</td><td>28.644760</td><td>29.186706</td><td>⋯</td><td> -1.365856</td><td>17.191443</td><td> 7.977556</td><td> 24.809976</td><td> 0.766056</td><td> 18.926489</td><td>-45.386448</td><td>-27.21586</td><td>-55.41472</td><td>-35.477509</td></tr>\n",
       "\t<tr><th scope=row>5</th><td>4</td><td>12.924217</td><td>10.366625</td><td> 23.03502</td><td> 4.775410</td><td> 9.130782</td><td> 40.74686</td><td> 7.540922</td><td>40.804726</td><td>26.224571</td><td>⋯</td><td> 26.126584</td><td>20.370979</td><td>18.938860</td><td> 22.541270</td><td>-4.428515</td><td>  6.535273</td><td>-58.984608</td><td>-17.20228</td><td>-44.08510</td><td>-27.003535</td></tr>\n",
       "\t<tr><th scope=row>6</th><td>5</td><td>11.739305</td><td> 6.348260</td><td> 20.33079</td><td>-1.080258</td><td> 0.284814</td><td> 12.79124</td><td>-0.724109</td><td>23.153163</td><td> 9.025535</td><td>⋯</td><td> 35.147675</td><td>11.312914</td><td>25.832348</td><td> 12.361558</td><td>-1.526549</td><td> -7.248989</td><td>-44.858669</td><td>-11.87269</td><td>-27.14810</td><td>-18.410412</td></tr>\n",
       "</tbody>\n",
       "</table>\n"
      ],
      "text/latex": [
       "A data.frame: 6 × 111\n",
       "\\begin{tabular}{r|lllllllllllllllllllll}\n",
       "  & Time & Left Thalamus & Left Caudate & Left Putamen & Left Pallidum & Left Hippocampus & Left Amygdala & Left Accumbens & Right Thalamus & Right Caudate & ⋯ & Right Planum Polare & Left Planum Polare & Right Heschl's Gyrus (includes H1 and H2) & Left Heschl's Gyrus (includes H1 and H2) & Right Planum Temporale & Left Planum Temporale & Right Supracalcarine Cortex & Left Supracalcarine Cortex & Right Occipital Pole & Left Occipital Pole\\\\\n",
       "  & <dbl> & <dbl> & <dbl> & <dbl> & <dbl> & <dbl> & <dbl> & <dbl> & <dbl> & <dbl> & ⋯ & <dbl> & <dbl> & <dbl> & <dbl> & <dbl> & <dbl> & <dbl> & <dbl> & <dbl> & <dbl>\\\\\n",
       "\\hline\n",
       "\t1 & 0 & -6.743464 & -0.914306 & -14.62304 &  5.851551 &  7.992399 & -18.68383 &  0.754312 & -0.449771 & -5.839773 & ⋯ & -35.185715 & -2.928083 &  0.425990 & -17.795643 & 11.121651 & -13.465437 &  -9.292003 & -30.34968 &  -5.20509 &  -1.652152\\\\\n",
       "\t2 & 1 & -9.347871 & -0.577119 & -16.10221 & 10.367333 & 11.047755 & -12.24571 &  6.855634 & -3.452420 &  3.716789 & ⋯ & -44.960901 & -6.512893 & -6.135171 & -13.144289 &  9.087565 &  -4.639542 & -10.312183 & -46.02102 & -30.55020 & -20.270377\\\\\n",
       "\t3 & 2 & -3.668645 &  2.301078 &  -3.74550 & 13.435687 & 13.531475 &  14.94994 & 13.691762 &  6.801156 & 18.599672 & ⋯ & -31.354104 &  3.472175 & -2.814472 &   8.402168 &  6.408381 &  12.995796 & -22.929029 & -41.91286 & -51.33673 & -34.462431\\\\\n",
       "\t4 & 3 &  6.449822 &  7.489157 &  13.53070 & 11.438150 & 13.700101 &  41.16186 & 14.327866 & 28.644760 & 29.186706 & ⋯ &  -1.365856 & 17.191443 &  7.977556 &  24.809976 &  0.766056 &  18.926489 & -45.386448 & -27.21586 & -55.41472 & -35.477509\\\\\n",
       "\t5 & 4 & 12.924217 & 10.366625 &  23.03502 &  4.775410 &  9.130782 &  40.74686 &  7.540922 & 40.804726 & 26.224571 & ⋯ &  26.126584 & 20.370979 & 18.938860 &  22.541270 & -4.428515 &   6.535273 & -58.984608 & -17.20228 & -44.08510 & -27.003535\\\\\n",
       "\t6 & 5 & 11.739305 &  6.348260 &  20.33079 & -1.080258 &  0.284814 &  12.79124 & -0.724109 & 23.153163 &  9.025535 & ⋯ &  35.147675 & 11.312914 & 25.832348 &  12.361558 & -1.526549 &  -7.248989 & -44.858669 & -11.87269 & -27.14810 & -18.410412\\\\\n",
       "\\end{tabular}\n"
      ],
      "text/markdown": [
       "\n",
       "A data.frame: 6 × 111\n",
       "\n",
       "| <!--/--> | Time &lt;dbl&gt; | Left Thalamus &lt;dbl&gt; | Left Caudate &lt;dbl&gt; | Left Putamen &lt;dbl&gt; | Left Pallidum &lt;dbl&gt; | Left Hippocampus &lt;dbl&gt; | Left Amygdala &lt;dbl&gt; | Left Accumbens &lt;dbl&gt; | Right Thalamus &lt;dbl&gt; | Right Caudate &lt;dbl&gt; | ⋯ ⋯ | Right Planum Polare &lt;dbl&gt; | Left Planum Polare &lt;dbl&gt; | Right Heschl's Gyrus (includes H1 and H2) &lt;dbl&gt; | Left Heschl's Gyrus (includes H1 and H2) &lt;dbl&gt; | Right Planum Temporale &lt;dbl&gt; | Left Planum Temporale &lt;dbl&gt; | Right Supracalcarine Cortex &lt;dbl&gt; | Left Supracalcarine Cortex &lt;dbl&gt; | Right Occipital Pole &lt;dbl&gt; | Left Occipital Pole &lt;dbl&gt; |\n",
       "|---|---|---|---|---|---|---|---|---|---|---|---|---|---|---|---|---|---|---|---|---|---|\n",
       "| 1 | 0 | -6.743464 | -0.914306 | -14.62304 |  5.851551 |  7.992399 | -18.68383 |  0.754312 | -0.449771 | -5.839773 | ⋯ | -35.185715 | -2.928083 |  0.425990 | -17.795643 | 11.121651 | -13.465437 |  -9.292003 | -30.34968 |  -5.20509 |  -1.652152 |\n",
       "| 2 | 1 | -9.347871 | -0.577119 | -16.10221 | 10.367333 | 11.047755 | -12.24571 |  6.855634 | -3.452420 |  3.716789 | ⋯ | -44.960901 | -6.512893 | -6.135171 | -13.144289 |  9.087565 |  -4.639542 | -10.312183 | -46.02102 | -30.55020 | -20.270377 |\n",
       "| 3 | 2 | -3.668645 |  2.301078 |  -3.74550 | 13.435687 | 13.531475 |  14.94994 | 13.691762 |  6.801156 | 18.599672 | ⋯ | -31.354104 |  3.472175 | -2.814472 |   8.402168 |  6.408381 |  12.995796 | -22.929029 | -41.91286 | -51.33673 | -34.462431 |\n",
       "| 4 | 3 |  6.449822 |  7.489157 |  13.53070 | 11.438150 | 13.700101 |  41.16186 | 14.327866 | 28.644760 | 29.186706 | ⋯ |  -1.365856 | 17.191443 |  7.977556 |  24.809976 |  0.766056 |  18.926489 | -45.386448 | -27.21586 | -55.41472 | -35.477509 |\n",
       "| 5 | 4 | 12.924217 | 10.366625 |  23.03502 |  4.775410 |  9.130782 |  40.74686 |  7.540922 | 40.804726 | 26.224571 | ⋯ |  26.126584 | 20.370979 | 18.938860 |  22.541270 | -4.428515 |   6.535273 | -58.984608 | -17.20228 | -44.08510 | -27.003535 |\n",
       "| 6 | 5 | 11.739305 |  6.348260 |  20.33079 | -1.080258 |  0.284814 |  12.79124 | -0.724109 | 23.153163 |  9.025535 | ⋯ |  35.147675 | 11.312914 | 25.832348 |  12.361558 | -1.526549 |  -7.248989 | -44.858669 | -11.87269 | -27.14810 | -18.410412 |\n",
       "\n"
      ],
      "text/plain": [
       "  Time Left Thalamus Left Caudate Left Putamen Left Pallidum Left Hippocampus\n",
       "1 0    -6.743464     -0.914306    -14.62304     5.851551      7.992399       \n",
       "2 1    -9.347871     -0.577119    -16.10221    10.367333     11.047755       \n",
       "3 2    -3.668645      2.301078     -3.74550    13.435687     13.531475       \n",
       "4 3     6.449822      7.489157     13.53070    11.438150     13.700101       \n",
       "5 4    12.924217     10.366625     23.03502     4.775410      9.130782       \n",
       "6 5    11.739305      6.348260     20.33079    -1.080258      0.284814       \n",
       "  Left Amygdala Left Accumbens Right Thalamus Right Caudate ⋯\n",
       "1 -18.68383      0.754312      -0.449771      -5.839773     ⋯\n",
       "2 -12.24571      6.855634      -3.452420       3.716789     ⋯\n",
       "3  14.94994     13.691762       6.801156      18.599672     ⋯\n",
       "4  41.16186     14.327866      28.644760      29.186706     ⋯\n",
       "5  40.74686      7.540922      40.804726      26.224571     ⋯\n",
       "6  12.79124     -0.724109      23.153163       9.025535     ⋯\n",
       "  Right Planum Polare Left Planum Polare\n",
       "1 -35.185715          -2.928083         \n",
       "2 -44.960901          -6.512893         \n",
       "3 -31.354104           3.472175         \n",
       "4  -1.365856          17.191443         \n",
       "5  26.126584          20.370979         \n",
       "6  35.147675          11.312914         \n",
       "  Right Heschl's Gyrus (includes H1 and H2)\n",
       "1  0.425990                                \n",
       "2 -6.135171                                \n",
       "3 -2.814472                                \n",
       "4  7.977556                                \n",
       "5 18.938860                                \n",
       "6 25.832348                                \n",
       "  Left Heschl's Gyrus (includes H1 and H2) Right Planum Temporale\n",
       "1 -17.795643                               11.121651             \n",
       "2 -13.144289                                9.087565             \n",
       "3   8.402168                                6.408381             \n",
       "4  24.809976                                0.766056             \n",
       "5  22.541270                               -4.428515             \n",
       "6  12.361558                               -1.526549             \n",
       "  Left Planum Temporale Right Supracalcarine Cortex Left Supracalcarine Cortex\n",
       "1 -13.465437             -9.292003                  -30.34968                 \n",
       "2  -4.639542            -10.312183                  -46.02102                 \n",
       "3  12.995796            -22.929029                  -41.91286                 \n",
       "4  18.926489            -45.386448                  -27.21586                 \n",
       "5   6.535273            -58.984608                  -17.20228                 \n",
       "6  -7.248989            -44.858669                  -11.87269                 \n",
       "  Right Occipital Pole Left Occipital Pole\n",
       "1  -5.20509             -1.652152         \n",
       "2 -30.55020            -20.270377         \n",
       "3 -51.33673            -34.462431         \n",
       "4 -55.41472            -35.477509         \n",
       "5 -44.08510            -27.003535         \n",
       "6 -27.14810            -18.410412         "
      ]
     },
     "metadata": {},
     "output_type": "display_data"
    }
   ],
   "source": [
    "# Access example subjects\n",
    "ASD_26 <- asd_data_list[[\"ASD_26\"]]\n",
    "Normal_37 <- normal_data_list[[\"Normal_37\"]]\n",
    "head(ASD_26)"
   ]
  },
  {
   "cell_type": "code",
   "execution_count": 11,
   "metadata": {
    "vscode": {
     "languageId": "r"
    }
   },
   "outputs": [
    {
     "data": {
      "text/plain": [
       "      Time        Left Thalamus       Left Caudate       Left Putamen     \n",
       " Min.   :  0.00   Min.   :-25.2758   Min.   :-21.5982   Min.   :-30.5877  \n",
       " 1st Qu.: 43.75   1st Qu.: -6.8027   1st Qu.: -7.0897   1st Qu.: -7.0099  \n",
       " Median : 87.50   Median :  0.5428   Median : -0.3149   Median : -0.7683  \n",
       " Mean   : 87.50   Mean   : -0.4841   Mean   : -0.2952   Mean   : -0.1289  \n",
       " 3rd Qu.:131.25   3rd Qu.:  5.9876   3rd Qu.:  5.6893   3rd Qu.:  6.1776  \n",
       " Max.   :175.00   Max.   : 25.9721   Max.   : 22.6385   Max.   : 27.6136  \n",
       " Left Pallidum       Left Hippocampus   Left Amygdala      Left Accumbens   \n",
       " Min.   :-36.59770   Min.   :-27.0563   Min.   :-73.4715   Min.   :-62.501  \n",
       " 1st Qu.:-10.36552   1st Qu.: -6.0799   1st Qu.:-17.6658   1st Qu.:-19.910  \n",
       " Median : -0.26642   Median :  0.4463   Median : -1.4727   Median : -1.854  \n",
       " Mean   : -0.07547   Mean   : -0.1085   Mean   :  0.2712   Mean   : -0.852  \n",
       " 3rd Qu.:  8.34983   3rd Qu.:  7.2653   3rd Qu.: 21.0390   3rd Qu.: 18.967  \n",
       " Max.   : 38.20120   Max.   : 20.7932   Max.   : 58.6861   Max.   : 75.587  \n",
       " Right Thalamus     Right Caudate      Right Putamen      Right Pallidum    \n",
       " Min.   :-49.3858   Min.   :-28.6548   Min.   :-29.3324   Min.   :-49.5917  \n",
       " 1st Qu.:-14.7672   1st Qu.:-12.3932   1st Qu.: -6.7054   1st Qu.:-13.2592  \n",
       " Median : -0.8934   Median :  0.4286   Median :  0.1141   Median :  0.6860  \n",
       " Mean   : -0.3705   Mean   : -0.2482   Mean   : -0.1711   Mean   : -0.1852  \n",
       " 3rd Qu.: 13.0257   3rd Qu.: 11.5313   3rd Qu.:  5.1638   3rd Qu.: 11.0550  \n",
       " Max.   : 37.8712   Max.   : 42.5992   Max.   : 24.5535   Max.   : 66.7657  \n",
       " Right Hippocampus   Right Amygdala      Right Accumbens    Right Frontal Pole\n",
       " Min.   :-37.80797   Min.   :-51.45754   Min.   :-63.4050   Min.   :-13.0462  \n",
       " 1st Qu.: -7.19475   1st Qu.:-10.65109   1st Qu.:-22.4760   1st Qu.: -3.8456  \n",
       " Median :  0.38819   Median :  0.09934   Median : -4.2360   Median : -0.2364  \n",
       " Mean   :  0.06286   Mean   :  0.35513   Mean   : -0.4488   Mean   : -0.2031  \n",
       " 3rd Qu.:  8.29030   3rd Qu.: 11.15688   3rd Qu.: 18.9042   3rd Qu.:  3.9357  \n",
       " Max.   : 27.03998   Max.   : 49.55520   Max.   : 67.5319   Max.   : 13.3078  \n",
       " Left Frontal Pole  Right Insular Cortex Left Insular Cortex\n",
       " Min.   :-11.3540   Min.   :-44.0566     Min.   :-57.0412   \n",
       " 1st Qu.: -3.1884   1st Qu.: -6.7236     1st Qu.:-13.8598   \n",
       " Median : -0.4040   Median :  0.9343     Median : -2.9344   \n",
       " Mean   : -0.0932   Mean   : -0.1084     Mean   : -0.1491   \n",
       " 3rd Qu.:  2.9498   3rd Qu.:  5.2665     3rd Qu.: 13.6143   \n",
       " Max.   : 11.3279   Max.   : 26.6380     Max.   : 57.4197   \n",
       " Right Superior Frontal Gyrus Left Superior Frontal Gyrus\n",
       " Min.   :-32.3351             Min.   :-15.509452         \n",
       " 1st Qu.: -5.5550             1st Qu.: -4.764271         \n",
       " Median : -0.7688             Median : -0.715769         \n",
       " Mean   : -0.1651             Mean   : -0.000574         \n",
       " 3rd Qu.:  6.5351             3rd Qu.:  3.622484         \n",
       " Max.   : 21.4676             Max.   : 26.297634         \n",
       " Right Middle Frontal Gyrus Left Middle Frontal Gyrus\n",
       " Min.   :-27.5840           Min.   :-25.3983         \n",
       " 1st Qu.: -6.9953           1st Qu.: -5.1177         \n",
       " Median : -0.6387           Median : -0.7654         \n",
       " Mean   : -0.1532           Mean   : -0.1479         \n",
       " 3rd Qu.:  7.5615           3rd Qu.:  5.1069         \n",
       " Max.   : 25.7254           Max.   : 21.7293         \n",
       " Right Inferior Frontal Gyrus; pars triangularis\n",
       " Min.   :-53.7042                               \n",
       " 1st Qu.:-17.6101                               \n",
       " Median :  2.0964                               \n",
       " Mean   :  0.4711                               \n",
       " 3rd Qu.: 20.4176                               \n",
       " Max.   : 52.7380                               \n",
       " Left Inferior Frontal Gyrus; pars triangularis\n",
       " Min.   :-21.61565                             \n",
       " 1st Qu.: -6.70272                             \n",
       " Median : -0.41225                             \n",
       " Mean   :  0.07773                             \n",
       " 3rd Qu.:  6.69130                             \n",
       " Max.   : 25.45334                             \n",
       " Right Inferior Frontal Gyrus; pars opercularis\n",
       " Min.   :-57.8723                              \n",
       " 1st Qu.:-12.8917                              \n",
       " Median : -0.7459                              \n",
       " Mean   : -0.5404                              \n",
       " 3rd Qu.: 13.0074                              \n",
       " Max.   : 40.0991                              \n",
       " Left Inferior Frontal Gyrus; pars opercularis Right Precentral Gyrus\n",
       " Min.   :-36.0890                              Min.   :-19.2558      \n",
       " 1st Qu.: -9.4012                              1st Qu.: -5.7591      \n",
       " Median : -0.7047                              Median : -0.4268      \n",
       " Mean   : -0.2050                              Mean   :  0.3476      \n",
       " 3rd Qu.: 10.3553                              3rd Qu.:  6.9853      \n",
       " Max.   : 31.5566                              Max.   : 24.3849      \n",
       " Left Precentral Gyrus Right Temporal Pole Left Temporal Pole\n",
       " Min.   :-16.3694      Min.   :-14.4276    Min.   :-9.4225   \n",
       " 1st Qu.: -3.4195      1st Qu.: -5.3993    1st Qu.:-2.6958   \n",
       " Median :  0.4035      Median : -0.2932    Median :-0.1296   \n",
       " Mean   :  0.1805      Mean   : -0.1759    Mean   :-0.0591   \n",
       " 3rd Qu.:  4.1722      3rd Qu.:  4.7069    3rd Qu.: 2.7560   \n",
       " Max.   : 11.4317      Max.   : 18.1716    Max.   :11.7598   \n",
       " Right Superior Temporal Gyrus; anterior division\n",
       " Min.   :-90.5237                                \n",
       " 1st Qu.:-19.2576                                \n",
       " Median :  0.9123                                \n",
       " Mean   :  0.2623                                \n",
       " 3rd Qu.: 21.8443                                \n",
       " Max.   : 53.5970                                \n",
       " Left Superior Temporal Gyrus; anterior division\n",
       " Min.   :-20.328984                             \n",
       " 1st Qu.: -7.461192                             \n",
       " Median : -0.003392                             \n",
       " Mean   :  0.230114                             \n",
       " 3rd Qu.:  7.904401                             \n",
       " Max.   : 27.874901                             \n",
       " Right Superior Temporal Gyrus; posterior division\n",
       " Min.   :-49.4943                                 \n",
       " 1st Qu.:-10.6514                                 \n",
       " Median :  0.7391                                 \n",
       " Mean   :  0.1492                                 \n",
       " 3rd Qu.: 10.0039                                 \n",
       " Max.   : 39.3523                                 \n",
       " Left Superior Temporal Gyrus; posterior division\n",
       " Min.   :-13.91558                               \n",
       " 1st Qu.: -3.65189                               \n",
       " Median :  0.22244                               \n",
       " Mean   :  0.08497                               \n",
       " 3rd Qu.:  4.14051                               \n",
       " Max.   : 17.28385                               \n",
       " Right Middle Temporal Gyrus; anterior division\n",
       " Min.   :-51.0291                              \n",
       " 1st Qu.:-10.8242                              \n",
       " Median : -0.4600                              \n",
       " Mean   : -0.1278                              \n",
       " 3rd Qu.: 10.8369                              \n",
       " Max.   : 46.6651                              \n",
       " Left Middle Temporal Gyrus; anterior division\n",
       " Min.   :-13.47443                            \n",
       " 1st Qu.: -3.21236                            \n",
       " Median : -0.29559                            \n",
       " Mean   :  0.00161                            \n",
       " 3rd Qu.:  3.67410                            \n",
       " Max.   : 13.08646                            \n",
       " Right Middle Temporal Gyrus; posterior division\n",
       " Min.   :-36.4580                               \n",
       " 1st Qu.: -9.4565                               \n",
       " Median : -1.0511                               \n",
       " Mean   : -0.3822                               \n",
       " 3rd Qu.:  7.5743                               \n",
       " Max.   : 36.2331                               \n",
       " Left Middle Temporal Gyrus; posterior division\n",
       " Min.   :-25.8060                              \n",
       " 1st Qu.: -5.1822                              \n",
       " Median : -0.5017                              \n",
       " Mean   : -0.1984                              \n",
       " 3rd Qu.:  4.5190                              \n",
       " Max.   : 25.9725                              \n",
       " Right Middle Temporal Gyrus; temporooccipital part\n",
       " Min.   :-28.9762                                  \n",
       " 1st Qu.: -8.5993                                  \n",
       " Median : -0.8184                                  \n",
       " Mean   : -0.1740                                  \n",
       " 3rd Qu.:  8.2519                                  \n",
       " Max.   : 26.6127                                  \n",
       " Left Middle Temporal Gyrus; temporooccipital part\n",
       " Min.   :-29.74080                                \n",
       " 1st Qu.: -7.63352                                \n",
       " Median :  0.14535                                \n",
       " Mean   :  0.09471                                \n",
       " 3rd Qu.:  8.54363                                \n",
       " Max.   : 25.85922                                \n",
       " Right Inferior Temporal Gyrus; anterior division\n",
       " Min.   :-41.5855                                \n",
       " 1st Qu.: -5.7022                                \n",
       " Median :  0.2750                                \n",
       " Mean   :  0.2091                                \n",
       " 3rd Qu.:  7.3831                                \n",
       " Max.   : 26.5407                                \n",
       " Left Inferior Temporal Gyrus; anterior division\n",
       " Min.   :-28.0262                               \n",
       " 1st Qu.: -6.2445                               \n",
       " Median : -0.5869                               \n",
       " Mean   : -0.1940                               \n",
       " 3rd Qu.:  6.8491                               \n",
       " Max.   : 26.5291                               \n",
       " Right Inferior Temporal Gyrus; posterior division\n",
       " Min.   :-12.173                                  \n",
       " 1st Qu.: -3.356                                  \n",
       " Median : -0.451                                  \n",
       " Mean   :  0.209                                  \n",
       " 3rd Qu.:  3.106                                  \n",
       " Max.   : 14.735                                  \n",
       " Left Inferior Temporal Gyrus; posterior division\n",
       " Min.   :-10.20344                               \n",
       " 1st Qu.: -2.83576                               \n",
       " Median :  0.09736                               \n",
       " Mean   : -0.14508                               \n",
       " 3rd Qu.:  2.52629                               \n",
       " Max.   : 13.88814                               \n",
       " Right Inferior Temporal Gyrus; temporooccipital part\n",
       " Min.   :-26.5023                                    \n",
       " 1st Qu.: -8.7988                                    \n",
       " Median : -1.6346                                    \n",
       " Mean   :  0.3479                                    \n",
       " 3rd Qu.:  7.1640                                    \n",
       " Max.   : 48.7972                                    \n",
       " Left Inferior Temporal Gyrus; temporooccipital part Right Postcentral Gyrus\n",
       " Min.   :-30.16611                                   Min.   :-33.9340       \n",
       " 1st Qu.: -6.32756                                   1st Qu.: -9.1203       \n",
       " Median : -0.97527                                   Median :  1.1113       \n",
       " Mean   : -0.03883                                   Mean   :  0.2822       \n",
       " 3rd Qu.:  6.49751                                   3rd Qu.:  9.8633       \n",
       " Max.   : 29.80664                                   Max.   : 34.1486       \n",
       " Left Postcentral Gyrus Right Superior Parietal Lobule\n",
       " Min.   :-20.1349       Min.   :-30.23930             \n",
       " 1st Qu.: -4.0800       1st Qu.: -6.24776             \n",
       " Median :  0.4243       Median :  0.02257             \n",
       " Mean   :  0.2296       Mean   :  0.28340             \n",
       " 3rd Qu.:  4.9456       3rd Qu.:  7.90731             \n",
       " Max.   : 18.7203       Max.   : 25.97713             \n",
       " Left Superior Parietal Lobule Right Supramarginal Gyrus; anterior division\n",
       " Min.   :-29.69787             Min.   :-56.7917                            \n",
       " 1st Qu.: -7.21888             1st Qu.:-11.5352                            \n",
       " Median :  0.01633             Median : -0.2934                            \n",
       " Mean   :  0.36169             Mean   :  0.7899                            \n",
       " 3rd Qu.:  7.73542             3rd Qu.: 13.5558                            \n",
       " Max.   : 31.58861             Max.   : 44.7507                            \n",
       " Left Supramarginal Gyrus; anterior division\n",
       " Min.   :-25.2852                           \n",
       " 1st Qu.: -4.9225                           \n",
       " Median :  0.5813                           \n",
       " Mean   :  0.2748                           \n",
       " 3rd Qu.:  5.8629                           \n",
       " Max.   : 24.8454                           \n",
       " Right Supramarginal Gyrus; posterior division\n",
       " Min.   :-37.4640                             \n",
       " 1st Qu.: -8.6302                             \n",
       " Median :  1.1707                             \n",
       " Mean   :  0.2831                             \n",
       " 3rd Qu.:  9.1504                             \n",
       " Max.   : 36.0265                             \n",
       " Left Supramarginal Gyrus; posterior division Right Angular Gyrus\n",
       " Min.   :-38.4383                             Min.   :-43.8522   \n",
       " 1st Qu.: -7.9468                             1st Qu.:-10.6944   \n",
       " Median :  0.6707                             Median : -0.3427   \n",
       " Mean   :  0.3451                             Mean   :  0.4560   \n",
       " 3rd Qu.:  8.8470                             3rd Qu.: 11.4799   \n",
       " Max.   : 31.4364                             Max.   : 45.0433   \n",
       " Left Angular Gyrus Right Lateral Occipital Cortex; superior division\n",
       " Min.   :-38.1496   Min.   :-21.1354                                 \n",
       " 1st Qu.: -8.0532   1st Qu.: -6.8904                                 \n",
       " Median : -0.1122   Median : -0.1744                                 \n",
       " Mean   :  0.3600   Mean   :  0.2126                                 \n",
       " 3rd Qu.: 11.0888   3rd Qu.:  6.6040                                 \n",
       " Max.   : 26.8376   Max.   : 21.1975                                 \n",
       " Left Lateral Occipital Cortex; superior division\n",
       " Min.   :-19.4944                                \n",
       " 1st Qu.: -6.9760                                \n",
       " Median : -0.2294                                \n",
       " Mean   :  0.2492                                \n",
       " 3rd Qu.:  6.1988                                \n",
       " Max.   : 34.0712                                \n",
       " Right Lateral Occipital Cortex; inferior division\n",
       " Min.   :-27.24593                                \n",
       " 1st Qu.: -9.06711                                \n",
       " Median : -0.01847                                \n",
       " Mean   :  0.31930                                \n",
       " 3rd Qu.:  8.92589                                \n",
       " Max.   : 32.32557                                \n",
       " Left Lateral Occipital Cortex; inferior division Right Intracalcarine Cortex\n",
       " Min.   :-18.5206                                 Min.   :-65.4573           \n",
       " 1st Qu.: -4.6113                                 1st Qu.:-11.8737           \n",
       " Median : -0.5561                                 Median :  0.8645           \n",
       " Mean   :  0.3210                                 Mean   : -0.4907           \n",
       " 3rd Qu.:  5.3107                                 3rd Qu.: 14.5000           \n",
       " Max.   : 25.0995                                 Max.   : 46.3014           \n",
       " Left Intracalcarine Cortex Right Frontal Medial Cortex\n",
       " Min.   :-35.14898          Min.   :-30.9641           \n",
       " 1st Qu.: -8.72470          1st Qu.:-10.9643           \n",
       " Median : -1.07040          Median : -1.9344           \n",
       " Mean   :  0.01883          Mean   : -0.1829           \n",
       " 3rd Qu.:  9.10896          3rd Qu.: 10.3069           \n",
       " Max.   : 30.47756          Max.   : 35.0420           \n",
       " Left Frontal Medial Cortex\n",
       " Min.   :-24.8209          \n",
       " 1st Qu.: -8.0228          \n",
       " Median : -0.3822          \n",
       " Mean   : -0.2344          \n",
       " 3rd Qu.:  7.2712          \n",
       " Max.   : 23.4129          \n",
       " Right Juxtapositional Lobule Cortex (formerly Supplementary Motor Cortex)\n",
       " Min.   :-40.6094                                                         \n",
       " 1st Qu.: -9.6344                                                         \n",
       " Median :  0.6924                                                         \n",
       " Mean   :  0.5067                                                         \n",
       " 3rd Qu.:  9.4634                                                         \n",
       " Max.   : 56.7108                                                         \n",
       " Left Juxtapositional Lobule Cortex (formerly Supplementary Motor Cortex)\n",
       " Min.   :-30.5780                                                        \n",
       " 1st Qu.: -4.8647                                                        \n",
       " Median :  1.1105                                                        \n",
       " Mean   :  0.2528                                                        \n",
       " 3rd Qu.:  6.3969                                                        \n",
       " Max.   : 34.5254                                                        \n",
       " Right Subcallosal Cortex Left Subcallosal Cortex Right Paracingulate Gyrus\n",
       " Min.   :-25.77829        Min.   :-24.52931       Min.   :-51.245          \n",
       " 1st Qu.: -6.45835        1st Qu.: -5.26730       1st Qu.:-14.551          \n",
       " Median : -0.01507        Median :  0.29112       Median : -1.342          \n",
       " Mean   : -0.11486        Mean   : -0.04494       Mean   : -1.082          \n",
       " 3rd Qu.:  7.62890        3rd Qu.:  5.66798       3rd Qu.: 13.224          \n",
       " Max.   : 24.46666        Max.   : 24.68685       Max.   : 49.134          \n",
       " Left Paracingulate Gyrus Right Cingulate Gyrus; anterior division\n",
       " Min.   :-26.277          Min.   :-59.4479                        \n",
       " 1st Qu.: -6.262          1st Qu.:-12.1418                        \n",
       " Median : -0.659          Median :  1.3259                        \n",
       " Mean   : -0.211          Mean   : -0.4513                        \n",
       " 3rd Qu.:  5.854          3rd Qu.: 12.5094                        \n",
       " Max.   : 26.738          Max.   : 45.1773                        \n",
       " Left Cingulate Gyrus; anterior division\n",
       " Min.   :-27.4833                       \n",
       " 1st Qu.: -6.7572                       \n",
       " Median :  0.8579                       \n",
       " Mean   : -0.2542                       \n",
       " 3rd Qu.:  6.4986                       \n",
       " Max.   : 20.0695                       \n",
       " Right Cingulate Gyrus; posterior division\n",
       " Min.   :-50.903                          \n",
       " 1st Qu.:-10.912                          \n",
       " Median : -1.650                          \n",
       " Mean   : -0.446                          \n",
       " 3rd Qu.: 11.214                          \n",
       " Max.   : 41.327                          \n",
       " Left Cingulate Gyrus; posterior division Right Precuneous Cortex\n",
       " Min.   :-21.99852                        Min.   :-60.5878       \n",
       " 1st Qu.: -5.97659                        1st Qu.:-12.0260       \n",
       " Median : -0.11510                        Median : -0.5566       \n",
       " Mean   : -0.01063                        Mean   : -0.1318       \n",
       " 3rd Qu.:  6.79572                        3rd Qu.: 11.3807       \n",
       " Max.   : 21.13253                        Max.   : 50.3616       \n",
       " Left Precuneous Cortex Right Cuneal Cortex Left Cuneal Cortex \n",
       " Min.   :-26.43257      Min.   :-151.362    Min.   :-56.05654  \n",
       " 1st Qu.: -5.13882      1st Qu.: -19.427    1st Qu.:-12.71079  \n",
       " Median :  0.18994      Median :   1.405    Median : -0.05916  \n",
       " Mean   :  0.06876      Mean   :  -1.011    Mean   :  0.06856  \n",
       " 3rd Qu.:  6.04205      3rd Qu.:  24.514    3rd Qu.: 12.28238  \n",
       " Max.   : 22.43295      Max.   :  91.450    Max.   : 64.50523  \n",
       " Right Frontal Orbital Cortex Left Frontal Orbital Cortex\n",
       " Min.   :-14.1376             Min.   :-22.1762           \n",
       " 1st Qu.: -4.4489             1st Qu.: -5.9605           \n",
       " Median : -0.6742             Median :  0.3464           \n",
       " Mean   : -0.1643             Mean   : -0.1759           \n",
       " 3rd Qu.:  3.7889             3rd Qu.:  6.7237           \n",
       " Max.   : 19.5515             Max.   : 16.6566           \n",
       " Right Parahippocampal Gyrus; anterior division\n",
       " Min.   :-40.8256                              \n",
       " 1st Qu.: -7.2452                              \n",
       " Median :  0.7500                              \n",
       " Mean   :  0.1459                              \n",
       " 3rd Qu.:  7.1131                              \n",
       " Max.   : 29.9559                              \n",
       " Left Parahippocampal Gyrus; anterior division\n",
       " Min.   :-33.40614                            \n",
       " 1st Qu.: -5.89665                            \n",
       " Median : -0.02964                            \n",
       " Mean   :  0.11413                            \n",
       " 3rd Qu.:  7.31100                            \n",
       " Max.   : 30.27789                            \n",
       " Right Parahippocampal Gyrus; posterior division\n",
       " Min.   :-51.0367                               \n",
       " 1st Qu.:-15.2780                               \n",
       " Median : -0.2258                               \n",
       " Mean   : -0.3287                               \n",
       " 3rd Qu.: 11.7668                               \n",
       " Max.   : 60.3812                               \n",
       " Left Parahippocampal Gyrus; posterior division Right Lingual Gyrus\n",
       " Min.   :-45.13953                              Min.   :-50.6425   \n",
       " 1st Qu.: -9.91260                              1st Qu.:-11.5205   \n",
       " Median :  1.31542                              Median : -0.1153   \n",
       " Mean   : -0.04812                              Mean   : -0.1920   \n",
       " 3rd Qu.:  9.59152                              3rd Qu.: 10.7514   \n",
       " Max.   : 28.78916                              Max.   : 56.4165   \n",
       " Left Lingual Gyrus Right Temporal Fusiform Cortex; anterior division\n",
       " Min.   :-40.1197   Min.   :-21.6579                                 \n",
       " 1st Qu.: -9.2658   1st Qu.: -5.4979                                 \n",
       " Median : -0.8589   Median :  1.2342                                 \n",
       " Mean   : -0.1892   Mean   :  0.1318                                 \n",
       " 3rd Qu.:  8.7808   3rd Qu.:  6.4073                                 \n",
       " Max.   : 30.7384   Max.   : 19.7151                                 \n",
       " Left Temporal Fusiform Cortex; anterior division\n",
       " Min.   :-31.2859                                \n",
       " 1st Qu.: -6.2901                                \n",
       " Median : -0.6560                                \n",
       " Mean   :  0.0408                                \n",
       " 3rd Qu.:  6.6968                                \n",
       " Max.   : 34.5340                                \n",
       " Right Temporal Fusiform Cortex; posterior division\n",
       " Min.   :-23.83909                                 \n",
       " 1st Qu.: -6.50159                                 \n",
       " Median : -0.12156                                 \n",
       " Mean   :  0.03646                                 \n",
       " 3rd Qu.:  6.90478                                 \n",
       " Max.   : 30.48580                                 \n",
       " Left Temporal Fusiform Cortex; posterior division\n",
       " Min.   :-15.61843                                \n",
       " 1st Qu.: -5.80452                                \n",
       " Median : -0.59624                                \n",
       " Mean   :  0.05307                                \n",
       " 3rd Qu.:  5.29539                                \n",
       " Max.   : 19.94237                                \n",
       " Right Temporal Occipital Fusiform Cortex\n",
       " Min.   :-60.7037                        \n",
       " 1st Qu.:-13.3276                        \n",
       " Median :  0.8870                        \n",
       " Mean   :  0.3406                        \n",
       " 3rd Qu.: 15.3567                        \n",
       " Max.   : 45.7434                        \n",
       " Left Temporal Occipital Fusiform Cortex Right Occipital Fusiform Gyrus\n",
       " Min.   :-24.89574                       Min.   :-44.83042             \n",
       " 1st Qu.: -7.05119                       1st Qu.:-16.16827             \n",
       " Median : -0.66700                       Median :  0.03156             \n",
       " Mean   :  0.09646                       Mean   : -0.54627             \n",
       " 3rd Qu.:  7.77219                       3rd Qu.: 13.70162             \n",
       " Max.   : 26.79011                       Max.   : 62.08505             \n",
       " Left Occipital Fusiform Gyrus Right Frontal Operculum Cortex\n",
       " Min.   :-40.6459              Min.   :-57.6075              \n",
       " 1st Qu.:-11.4498              1st Qu.:-16.9550              \n",
       " Median : -1.6521              Median :  0.6588              \n",
       " Mean   :  0.3419              Mean   : -0.2852              \n",
       " 3rd Qu.: 10.7432              3rd Qu.: 14.7878              \n",
       " Max.   : 55.4682              Max.   : 48.6912              \n",
       " Left Frontal Operculum Cortex Right Central Opercular Cortex\n",
       " Min.   :-50.52788             Min.   :-59.0017              \n",
       " 1st Qu.:-11.59434             1st Qu.: -9.0694              \n",
       " Median :  0.62462             Median : -0.3651              \n",
       " Mean   : -0.06069             Mean   :  0.3780              \n",
       " 3rd Qu.:  9.11770             3rd Qu.: 11.4407              \n",
       " Max.   : 57.70553             Max.   : 43.7156              \n",
       " Left Central Opercular Cortex Right Parietal Operculum Cortex\n",
       " Min.   :-37.54831             Min.   :-36.4662               \n",
       " 1st Qu.: -9.29623             1st Qu.: -8.5398               \n",
       " Median :  1.15646             Median : -1.1557               \n",
       " Mean   : -0.00485             Mean   :  0.1448               \n",
       " 3rd Qu.: 10.41196             3rd Qu.:  9.1919               \n",
       " Max.   : 34.03245             Max.   : 34.4895               \n",
       " Left Parietal Operculum Cortex Right Planum Polare Left Planum Polare \n",
       " Min.   :-52.9016               Min.   :-80.3163    Min.   :-32.99471  \n",
       " 1st Qu.:-10.1268               1st Qu.:-18.8439    1st Qu.: -8.79750  \n",
       " Median :  1.8580               Median :  0.4498    Median :  0.09826  \n",
       " Mean   :  0.2431               Mean   :  0.2768    Mean   :  0.23190  \n",
       " 3rd Qu.: 12.8961               3rd Qu.: 18.2068    3rd Qu.:  9.16226  \n",
       " Max.   : 34.8571               Max.   : 70.6374    Max.   : 37.73962  \n",
       " Right Heschl's Gyrus (includes H1 and H2)\n",
       " Min.   :-73.2940                         \n",
       " 1st Qu.:-16.7879                         \n",
       " Median :  1.3144                         \n",
       " Mean   :  0.4661                         \n",
       " 3rd Qu.: 17.8541                         \n",
       " Max.   : 71.4479                         \n",
       " Left Heschl's Gyrus (includes H1 and H2) Right Planum Temporale\n",
       " Min.   :-82.4619                         Min.   :-74.08397     \n",
       " 1st Qu.:-14.9667                         1st Qu.:-11.81774     \n",
       " Median :  1.2313                         Median :  0.96719     \n",
       " Mean   :  0.6674                         Mean   : -0.05433     \n",
       " 3rd Qu.: 18.5179                         3rd Qu.: 13.49579     \n",
       " Max.   : 58.7699                         Max.   : 53.65803     \n",
       " Left Planum Temporale Right Supracalcarine Cortex Left Supracalcarine Cortex\n",
       " Min.   :-54.3908      Min.   :-73.2957            Min.   :-42.3703          \n",
       " 1st Qu.:-16.1584      1st Qu.:-19.1719            1st Qu.:-12.3706          \n",
       " Median :  0.0893      Median :  2.0525            Median :  0.6545          \n",
       " Mean   :  0.5642      Mean   : -0.1623            Mean   : -0.1358          \n",
       " 3rd Qu.: 13.7340      3rd Qu.: 18.5525            3rd Qu.: 12.0061          \n",
       " Max.   : 60.5384      Max.   : 80.5865            Max.   : 37.6250          \n",
       " Right Occipital Pole Left Occipital Pole\n",
       " Min.   :-42.22709    Min.   :-35.95579  \n",
       " 1st Qu.:-14.16066    1st Qu.:-10.59282  \n",
       " Median : -0.05965    Median : -2.65939  \n",
       " Mean   : -0.54063    Mean   :  0.03774  \n",
       " 3rd Qu.: 11.89195    3rd Qu.:  9.71425  \n",
       " Max.   : 37.31005    Max.   : 52.12114  "
      ]
     },
     "metadata": {},
     "output_type": "display_data"
    },
    {
     "data": {
      "text/plain": [
       "    Min.  1st Qu.   Median     Mean  3rd Qu.     Max. \n",
       "-25.2758  -6.8027   0.5428  -0.4841   5.9876  25.9721 "
      ]
     },
     "metadata": {},
     "output_type": "display_data"
    }
   ],
   "source": [
    "summary(Normal_37)\n",
    "summary(Normal_37$`Left Thalamus`)"
   ]
  },
  {
   "cell_type": "code",
   "execution_count": 12,
   "metadata": {
    "vscode": {
     "languageId": "r"
    }
   },
   "outputs": [
    {
     "data": {
      "text/html": [
       "176"
      ],
      "text/latex": [
       "176"
      ],
      "text/markdown": [
       "176"
      ],
      "text/plain": [
       "[1] 176"
      ]
     },
     "metadata": {},
     "output_type": "display_data"
    }
   ],
   "source": [
    "length(Normal_37$`Left Thalamus`)"
   ]
  },
  {
   "cell_type": "markdown",
   "metadata": {},
   "source": [
    "## Preprocessing\n",
    "\n",
    "### Smoothing"
   ]
  },
  {
   "cell_type": "code",
   "execution_count": 13,
   "metadata": {
    "vscode": {
     "languageId": "r"
    }
   },
   "outputs": [
    {
     "data": {
      "text/plain": [
       "    Min.  1st Qu.   Median     Mean  3rd Qu.     Max. \n",
       "-73.9986 -13.7151   0.3822   0.1592  16.9165  61.9932 "
      ]
     },
     "metadata": {},
     "output_type": "display_data"
    },
    {
     "data": {
      "text/plain": [
       "    Min.  1st Qu.   Median     Mean  3rd Qu.     Max. \n",
       "-84.0837 -15.3045   0.8322   0.1689  19.1084  75.4142 "
      ]
     },
     "metadata": {},
     "output_type": "display_data"
    }
   ],
   "source": [
    "smoothed_ASD_26 <- smooth_subject_data(ASD_26, bandwidth = 2)\n",
    "summary(smoothed_ASD_26$`Right Thalamus`)\n",
    "summary(ASD_26$`Right Thalamus`)"
   ]
  },
  {
   "cell_type": "code",
   "execution_count": 14,
   "metadata": {
    "vscode": {
     "languageId": "r"
    }
   },
   "outputs": [
    {
     "data": {
      "image/png": "[encoded data removed]",
      "text/plain": [
       "Plot with title \"Raw vs Smoothed\""
      ]
     },
     "metadata": {
      "image/png": {
       "height": 420,
       "width": 420
      }
     },
     "output_type": "display_data"
    }
   ],
   "source": [
    "plot(ASD_26$`Right Thalamus`, type = \"l\", col = \"red\", main = \"Raw vs Smoothed\")\n",
    "lines(smoothed_ASD_26$`Right Thalamus`, col = \"blue\")\n",
    "legend(\"topright\", legend = c(\"Raw\", \"Smoothed\"), col = c(\"red\", \"blue\"), lty = 1)\n"
   ]
  },
  {
   "cell_type": "code",
   "execution_count": 15,
   "metadata": {
    "vscode": {
     "languageId": "r"
    }
   },
   "outputs": [],
   "source": [
    "smoothed_asd_long <- smooth_all_subjects_to_long(asd_data_list, \"ASD\", bandwidth = 2)\n",
    "smoothed_normal_long <- smooth_all_subjects_to_long(normal_data_list, \"Normal\", bandwidth = 2)\n",
    "\n",
    "# Combine into one long smoothed dataset\n",
    "smoothed_all_data_long <- bind_rows(smoothed_asd_long, smoothed_normal_long)"
   ]
  },
  {
   "cell_type": "code",
   "execution_count": 16,
   "metadata": {
    "vscode": {
     "languageId": "r"
    }
   },
   "outputs": [
    {
     "data": {
      "text/plain": [
       "    Min.  1st Qu.   Median     Mean  3rd Qu.     Max. \n",
       "-73.9986 -13.7151   0.3822   0.1592  16.9165  61.9932 "
      ]
     },
     "metadata": {},
     "output_type": "display_data"
    },
    {
     "data": {
      "text/plain": [
       "    Min.  1st Qu.   Median     Mean  3rd Qu.     Max. \n",
       "-73.9986 -13.7151   0.3822   0.1592  16.9165  61.9932 "
      ]
     },
     "metadata": {},
     "output_type": "display_data"
    },
    {
     "data": {
      "text/plain": [
       "    Min.  1st Qu.   Median     Mean  3rd Qu.     Max. \n",
       "-84.0837 -15.3045   0.8322   0.1689  19.1084  75.4142 "
      ]
     },
     "metadata": {},
     "output_type": "display_data"
    }
   ],
   "source": [
    "# ASD 26 from smoothed_asd_long\n",
    "asd_26_smoothed <- smoothed_asd_long %>% filter(Subject == \"ASD_26\")\n",
    "# summary of 'Right Thalamus' region\n",
    "asd_26_smoothed_thalamus <- asd_26_smoothed %>% filter(RegionName == \"Right Thalamus\")\n",
    "summary(asd_26_smoothed_thalamus$SmoothedSignal)\n",
    "#smoothed_ASD_26 <- smooth_subject_data(ASD_26, bandwidth = 2)\n",
    "summary(smoothed_ASD_26$`Right Thalamus`)\n",
    "summary(ASD_26$`Right Thalamus`)"
   ]
  },
  {
   "cell_type": "code",
   "execution_count": 17,
   "metadata": {
    "vscode": {
     "languageId": "r"
    }
   },
   "outputs": [
    {
     "data": {
      "image/png": "[encoded data removed]",
      "text/plain": [
       "plot without title"
      ]
     },
     "metadata": {
      "image/png": {
       "height": 420,
       "width": 420
      }
     },
     "output_type": "display_data"
    },
    {
     "data": {
      "image/png": "[encoded data removed]",
      "text/plain": [
       "plot without title"
      ]
     },
     "metadata": {
      "image/png": {
       "height": 420,
       "width": 420
      }
     },
     "output_type": "display_data"
    }
   ],
   "source": [
    "# Prepare data for comparison\n",
    "raw_density <- all_data_long %>%\n",
    "  select(Group, Signal) %>%\n",
    "  mutate(Type = \"Raw\")\n",
    "\n",
    "smoothed_density <- smoothed_all_data_long %>%\n",
    "  select(Group, SmoothedSignal) %>%\n",
    "  rename(Signal = SmoothedSignal) %>%\n",
    "  mutate(Type = \"Smoothed\")\n",
    "\n",
    "# Combine raw and smoothed\n",
    "combined_density_data <- bind_rows(raw_density, smoothed_density)\n",
    "\n",
    "# Plot both on the same density plot\n",
    "ggplot(combined_density_data, aes(x = Signal, fill = Type, color = Type)) +\n",
    "  geom_density(alpha = 0.3) +\n",
    "  facet_wrap(~ Group) +\n",
    "  labs(\n",
    "    title = \"Raw vs Smoothed Voxel Signal Distributions by Group\",\n",
    "    x = \"Signal Intensity\",\n",
    "    y = \"Density\"\n",
    "  ) +\n",
    "  theme_minimal() +\n",
    "  scale_fill_manual(values = c(\"Raw\" = \"red\", \"Smoothed\" = \"blue\")) +\n",
    "  scale_color_manual(values = c(\"Raw\" = \"red\", \"Smoothed\" = \"blue\")) +\n",
    "  scale_x_continuous(limits = quantile(combined_density_data$Signal, c(0.01, 0.99), na.rm = TRUE))\n",
    "\n",
    "ggplot(combined_density_data, aes(x = Signal, fill = Type, color = Type)) +\n",
    "  geom_density(alpha = 0.3) +\n",
    "  facet_wrap(~ Group) +\n",
    "  labs(\n",
    "    title = \"Raw vs Smoothed Voxel Signal Distributions by Group\",\n",
    "    x = \"Signal Intensity\",\n",
    "    y = \"Density\"\n",
    "  ) +\n",
    "  theme_minimal() +\n",
    "  scale_fill_manual(values = c(\"Raw\" = \"red\", \"Smoothed\" = \"blue\")) +\n",
    "  scale_color_manual(values = c(\"Raw\" = \"red\", \"Smoothed\" = \"blue\"))\n"
   ]
  },
  {
   "cell_type": "markdown",
   "metadata": {},
   "source": [
    "### Normalization (Scaling)"
   ]
  },
  {
   "cell_type": "code",
   "execution_count": 18,
   "metadata": {
    "vscode": {
     "languageId": "r"
    }
   },
   "outputs": [
    {
     "data": {
      "text/html": [
       "<table class=\"dataframe\">\n",
       "<caption>A tibble: 1 × 3</caption>\n",
       "<thead>\n",
       "\t<tr><th scope=col>Subject</th><th scope=col>RegionName</th><th scope=col>SD</th></tr>\n",
       "\t<tr><th scope=col>&lt;chr&gt;</th><th scope=col>&lt;chr&gt;</th><th scope=col>&lt;dbl&gt;</th></tr>\n",
       "</thead>\n",
       "<tbody>\n",
       "\t<tr><td>Normal_25</td><td>Right Temporal Fusiform Cortex; anterior division</td><td>0</td></tr>\n",
       "</tbody>\n",
       "</table>\n"
      ],
      "text/latex": [
       "A tibble: 1 × 3\n",
       "\\begin{tabular}{lll}\n",
       " Subject & RegionName & SD\\\\\n",
       " <chr> & <chr> & <dbl>\\\\\n",
       "\\hline\n",
       "\t Normal\\_25 & Right Temporal Fusiform Cortex; anterior division & 0\\\\\n",
       "\\end{tabular}\n"
      ],
      "text/markdown": [
       "\n",
       "A tibble: 1 × 3\n",
       "\n",
       "| Subject &lt;chr&gt; | RegionName &lt;chr&gt; | SD &lt;dbl&gt; |\n",
       "|---|---|---|\n",
       "| Normal_25 | Right Temporal Fusiform Cortex; anterior division | 0 |\n",
       "\n"
      ],
      "text/plain": [
       "  Subject   RegionName                                        SD\n",
       "1 Normal_25 Right Temporal Fusiform Cortex; anterior division 0 "
      ]
     },
     "metadata": {},
     "output_type": "display_data"
    }
   ],
   "source": [
    "all_data_long %>%\n",
    "  group_by(Subject, RegionName) %>%\n",
    "  summarise(\n",
    "    SD = sd(Signal, na.rm = TRUE),\n",
    "    .groups = \"drop\"\n",
    "  ) %>%\n",
    "  filter(SD == 0 | is.na(SD))\n"
   ]
  },
  {
   "cell_type": "code",
   "execution_count": 19,
   "metadata": {
    "vscode": {
     "languageId": "r"
    }
   },
   "outputs": [
    {
     "data": {
      "text/plain": [
       "      Time         RegionName            Signal             Subject         \n",
       " Min.   :  0.00   Length:1936000     Min.   :-205.23411   Length:1936000    \n",
       " 1st Qu.: 43.75   Class :character   1st Qu.:  -9.56426   Class :character  \n",
       " Median : 87.50   Mode  :character   Median :  -0.08125   Mode  :character  \n",
       " Mean   : 87.50                      Mean   :  -0.01018                     \n",
       " 3rd Qu.:131.25                      3rd Qu.:   9.40980                     \n",
       " Max.   :175.00                      Max.   : 219.86494                     \n",
       "    Group              Signal_Z        \n",
       " Length:1936000     Min.   :-4.904639  \n",
       " Class :character   1st Qu.:-0.671048  \n",
       " Mode  :character   Median :-0.006079  \n",
       "                    Mean   : 0.000000  \n",
       "                    3rd Qu.: 0.663475  \n",
       "                    Max.   : 6.536272  "
      ]
     },
     "metadata": {},
     "output_type": "display_data"
    },
    {
     "data": {
      "image/png": "[encoded data removed]",
      "text/plain": [
       "plot without title"
      ]
     },
     "metadata": {
      "image/png": {
       "height": 420,
       "width": 420
      }
     },
     "output_type": "display_data"
    },
    {
     "data": {
      "image/png": "[encoded data removed]",
      "text/plain": [
       "plot without title"
      ]
     },
     "metadata": {
      "image/png": {
       "height": 420,
       "width": 420
      }
     },
     "output_type": "display_data"
    }
   ],
   "source": [
    "normalized_all_data_long <- all_data_long %>%\n",
    "  group_by(Subject, RegionName) %>%\n",
    "  mutate(\n",
    "    Signal_Z = if (sd(Signal, na.rm = TRUE) > 0) as.numeric(scale(Signal)) else 0\n",
    "  ) %>%\n",
    "  ungroup()\n",
    "\n",
    "\n",
    "summary(normalized_all_data_long)\n",
    "\n",
    "# Plot voxel signal distributions\n",
    "ggplot(normalized_all_data_long, aes(x = Signal_Z, fill = Group)) +\n",
    "  geom_density(alpha = 0.5) +\n",
    "  scale_x_continuous(limits = quantile(normalized_all_data_long$Signal, c(0.01, 0.99), na.rm = TRUE)) +\n",
    "  labs(title = \"Scaled Voxel Signal Value Distributions\", x = \"Signal Intensity\", y = \"Density\") +\n",
    "  theme_minimal()\n",
    "\n",
    "# No limit\n",
    "ggplot(normalized_all_data_long, aes(x = Signal_Z, fill = Group)) +\n",
    "  geom_density(alpha = 0.5) +\n",
    "  labs(title = \"Scaled Voxel Signal Value Distributions\", x = \"Signal Intensity\", y = \"Density\") +\n",
    "  theme_minimal()"
   ]
  },
  {
   "cell_type": "markdown",
   "metadata": {},
   "source": [
    "### Feature Extraction"
   ]
  },
  {
   "cell_type": "code",
   "execution_count": 20,
   "metadata": {
    "vscode": {
     "languageId": "r"
    }
   },
   "outputs": [
    {
     "name": "stdout",
     "output_type": "stream",
     "text": [
      "\u001b[90m# A tibble: 20 × 8\u001b[39m\n",
      "   Subject Group RegionName                       Mean    SD    Min   Max Median\n",
      "   \u001b[3m\u001b[90m<chr>\u001b[39m\u001b[23m   \u001b[3m\u001b[90m<chr>\u001b[39m\u001b[23m \u001b[3m\u001b[90m<chr>\u001b[39m\u001b[23m                           \u001b[3m\u001b[90m<dbl>\u001b[39m\u001b[23m \u001b[3m\u001b[90m<dbl>\u001b[39m\u001b[23m  \u001b[3m\u001b[90m<dbl>\u001b[39m\u001b[23m \u001b[3m\u001b[90m<dbl>\u001b[39m\u001b[23m  \u001b[3m\u001b[90m<dbl>\u001b[39m\u001b[23m\n",
      "\u001b[90m 1\u001b[39m ASD_1   ASD   Left Accumbens                -\u001b[31m0\u001b[39m\u001b[31m.\u001b[39m\u001b[31m563\u001b[39m  32.6   -\u001b[31m90\u001b[39m\u001b[31m.\u001b[39m\u001b[31m8\u001b[39m  83.9  1.37 \n",
      "\u001b[90m 2\u001b[39m ASD_1   ASD   Left Amygdala                 -\u001b[31m0\u001b[39m\u001b[31m.\u001b[39m\u001b[31m223\u001b[39m  33.0   -\u001b[31m78\u001b[39m\u001b[31m.\u001b[39m\u001b[31m6\u001b[39m  84.3 -\u001b[31m2\u001b[39m\u001b[31m.\u001b[39m\u001b[31m68\u001b[39m \n",
      "\u001b[90m 3\u001b[39m ASD_1   ASD   Left Angular Gyrus             0.066\u001b[4m1\u001b[24m 20.4   -\u001b[31m66\u001b[39m\u001b[31m.\u001b[39m\u001b[31m9\u001b[39m  46.4 -\u001b[31m0\u001b[39m\u001b[31m.\u001b[39m\u001b[31m683\u001b[39m\n",
      "\u001b[90m 4\u001b[39m ASD_1   ASD   Left Caudate                   0.094\u001b[4m5\u001b[24m 11.0   -\u001b[31m30\u001b[39m\u001b[31m.\u001b[39m\u001b[31m8\u001b[39m  33.0  0.749\n",
      "\u001b[90m 5\u001b[39m ASD_1   ASD   Left Central Opercular Cortex  0.067\u001b[4m0\u001b[24m 18.3   -\u001b[31m46\u001b[39m\u001b[31m.\u001b[39m\u001b[31m6\u001b[39m  39.6  0.522\n",
      "\u001b[90m 6\u001b[39m ASD_1   ASD   Left Cingulate Gyrus; anteri…  0.090\u001b[4m3\u001b[24m 15.7   -\u001b[31m32\u001b[39m\u001b[31m.\u001b[39m\u001b[31m8\u001b[39m  46.5  0.583\n",
      "\u001b[90m 7\u001b[39m ASD_1   ASD   Left Cingulate Gyrus; poster…  0.029\u001b[4m5\u001b[24m 10.2   -\u001b[31m30\u001b[39m\u001b[31m.\u001b[39m\u001b[31m1\u001b[39m  25.7  0.705\n",
      "\u001b[90m 8\u001b[39m ASD_1   ASD   Left Cuneal Cortex            -\u001b[31m0\u001b[39m\u001b[31m.\u001b[39m\u001b[31m570\u001b[39m  33.6   -\u001b[31m74\u001b[39m\u001b[31m.\u001b[39m\u001b[31m3\u001b[39m 103.  -\u001b[31m0\u001b[39m\u001b[31m.\u001b[39m\u001b[31m306\u001b[39m\n",
      "\u001b[90m 9\u001b[39m ASD_1   ASD   Left Frontal Medial Cortex    -\u001b[31m0\u001b[39m\u001b[31m.\u001b[39m\u001b[31m0\u001b[39m\u001b[31m50\u001b[4m6\u001b[24m\u001b[39m 44.4  -\u001b[31m179\u001b[39m\u001b[31m.\u001b[39m  172.   3.40 \n",
      "\u001b[90m10\u001b[39m ASD_1   ASD   Left Frontal Operculum Cortex  0.208  25.3   -\u001b[31m71\u001b[39m\u001b[31m.\u001b[39m\u001b[31m1\u001b[39m  61.9  1.38 \n",
      "\u001b[90m11\u001b[39m ASD_1   ASD   Left Frontal Orbital Cortex    0.177  14.2   -\u001b[31m31\u001b[39m\u001b[31m.\u001b[39m\u001b[31m9\u001b[39m  32.8  0.683\n",
      "\u001b[90m12\u001b[39m ASD_1   ASD   Left Frontal Pole              0.126  13.4   -\u001b[31m37\u001b[39m\u001b[31m.\u001b[39m\u001b[31m2\u001b[39m  29.3  0.363\n",
      "\u001b[90m13\u001b[39m ASD_1   ASD   Left Heschl's Gyrus (include… -\u001b[31m0\u001b[39m\u001b[31m.\u001b[39m\u001b[31m0\u001b[39m\u001b[31m88\u001b[4m8\u001b[24m\u001b[39m 33.5   -\u001b[31m76\u001b[39m\u001b[31m.\u001b[39m\u001b[31m1\u001b[39m  88.5  2.04 \n",
      "\u001b[90m14\u001b[39m ASD_1   ASD   Left Hippocampus              -\u001b[31m0\u001b[39m\u001b[31m.\u001b[39m\u001b[31m135\u001b[39m  14.4   -\u001b[31m43\u001b[39m\u001b[31m.\u001b[39m\u001b[31m5\u001b[39m  33.1  0.921\n",
      "\u001b[90m15\u001b[39m ASD_1   ASD   Left Inferior Frontal Gyrus;…  0.213  11.9   -\u001b[31m31\u001b[39m\u001b[31m.\u001b[39m\u001b[31m6\u001b[39m  30.3 -\u001b[31m0\u001b[39m\u001b[31m.\u001b[39m\u001b[31m841\u001b[39m\n",
      "\u001b[90m16\u001b[39m ASD_1   ASD   Left Inferior Frontal Gyrus;…  0.209  11.6   -\u001b[31m31\u001b[39m\u001b[31m.\u001b[39m\u001b[31m1\u001b[39m  28.3  0.531\n",
      "\u001b[90m17\u001b[39m ASD_1   ASD   Left Inferior Temporal Gyrus… -\u001b[31m0\u001b[39m\u001b[31m.\u001b[39m\u001b[31m0\u001b[39m\u001b[31m78\u001b[4m5\u001b[24m\u001b[39m 13.1   -\u001b[31m35\u001b[39m\u001b[31m.\u001b[39m\u001b[31m5\u001b[39m  32.3  0.429\n",
      "\u001b[90m18\u001b[39m ASD_1   ASD   Left Inferior Temporal Gyrus… -\u001b[31m0\u001b[39m\u001b[31m.\u001b[39m\u001b[31m0\u001b[39m\u001b[31m17\u001b[4m3\u001b[24m\u001b[39m  6.44  -\u001b[31m16\u001b[39m\u001b[31m.\u001b[39m\u001b[31m5\u001b[39m  15.0  0.477\n",
      "\u001b[90m19\u001b[39m ASD_1   ASD   Left Inferior Temporal Gyrus…  0.157  14.6   -\u001b[31m39\u001b[39m\u001b[31m.\u001b[39m\u001b[31m7\u001b[39m  38.8  1.34 \n",
      "\u001b[90m20\u001b[39m ASD_1   ASD   Left Insular Cortex            0.059\u001b[4m5\u001b[24m 27.7   -\u001b[31m83\u001b[39m\u001b[31m.\u001b[39m\u001b[31m3\u001b[39m  72.7 -\u001b[31m0\u001b[39m\u001b[31m.\u001b[39m\u001b[31m220\u001b[39m\n"
     ]
    }
   ],
   "source": [
    "# Summary statistics (per region & group)\n",
    "summary_stats <- all_data_long %>%\n",
    "  group_by(Subject, Group, RegionName) %>%\n",
    "  summarise(\n",
    "    Mean = mean(Signal, na.rm = TRUE),\n",
    "    SD = sd(Signal, na.rm = TRUE),\n",
    "    Min = min(Signal, na.rm = TRUE),\n",
    "    Max = max(Signal, na.rm = TRUE),\n",
    "    Median = median(Signal, na.rm = TRUE),\n",
    "    .groups = \"drop\"\n",
    "  )\n",
    "\n",
    "print(head(summary_stats, 20))\n"
   ]
  },
  {
   "cell_type": "code",
   "execution_count": 21,
   "metadata": {
    "vscode": {
     "languageId": "r"
    }
   },
   "outputs": [],
   "source": [
    "# Spread region-wise stats (e.g., mean signal) into wide format\n",
    "features_wide <- summary_stats %>%\n",
    "  select(Subject, Group, RegionName, Mean) %>%\n",
    "  tidyr::pivot_wider(names_from = RegionName, values_from = Mean)\n",
    "\n",
    "# Remove subjects with any NA\n",
    "features_wide <- na.omit(features_wide)\n",
    "\n",
    "# Convert Group to factor\n",
    "features_wide$Group <- as.factor(features_wide$Group)\n",
    "\n",
    "# Create dataset\n",
    "set.seed(123)  # For reproducibility\n",
    "\n",
    "# Assume 'features_wide' is your dataset and has a column called 'Group'\n",
    "train_ratio <- 0.8\n",
    "group_labels <- features_wide$Group\n",
    "\n",
    "# Create stratified sample index manually\n",
    "train_idx <- unlist(lapply(split(seq_along(group_labels), group_labels), function(idx) {\n",
    "  sample(idx, floor(length(idx) * train_ratio))\n",
    "}))\n",
    "\n",
    "# Now use these indices to split the data\n",
    "train_data <- features_wide[train_idx, ]\n",
    "test_data <- features_wide[-train_idx, ]\n",
    "\n",
    "# Fix column names\n",
    "colnames(train_data) <- make.names(colnames(train_data))\n",
    "colnames(test_data) <- make.names(colnames(test_data))"
   ]
  },
  {
   "cell_type": "markdown",
   "metadata": {},
   "source": [
    "## Machine Learning Methods\n",
    "\n",
    "### Random Forest"
   ]
  },
  {
   "cell_type": "code",
   "execution_count": 22,
   "metadata": {
    "vscode": {
     "languageId": "r"
    }
   },
   "outputs": [
    {
     "name": "stdout",
     "output_type": "stream",
     "text": [
      "         Actual\n",
      "Predicted ASD Normal\n",
      "   ASD      6      7\n",
      "   Normal   4      3\n",
      "Accuracy: 45 %\n"
     ]
    }
   ],
   "source": [
    "rf_model <- randomForest(Group ~ ., data = train_data[, -1], importance = TRUE, ntree = 500)\n",
    "rf_preds <- predict(rf_model, test_data)\n",
    "\n",
    "# Confusion matrix using base R\n",
    "conf_mat <- table(Predicted = rf_preds, Actual = test_data$Group)\n",
    "print(conf_mat)\n",
    "\n",
    "# Accuracy\n",
    "accuracy <- sum(diag(conf_mat)) / sum(conf_mat)\n",
    "cat(\"Accuracy:\", round(accuracy * 100, 2), \"%\\n\")\n"
   ]
  },
  {
   "cell_type": "markdown",
   "metadata": {},
   "source": [
    "### XGBoost"
   ]
  },
  {
   "cell_type": "code",
   "execution_count": 23,
   "metadata": {
    "vscode": {
     "languageId": "r"
    }
   },
   "outputs": [
    {
     "name": "stdout",
     "output_type": "stream",
     "text": [
      "         Actual\n",
      "Predicted ASD Normal\n",
      "   ASD      6      6\n",
      "   Normal   4      4\n",
      "XGBoost Accuracy: 50 %\n"
     ]
    }
   ],
   "source": [
    "# Convert to numeric matrix and label vector\n",
    "train_matrix <- as.matrix(train_data[, -c(1,2)])\n",
    "test_matrix <- as.matrix(test_data[, -c(1,2)])\n",
    "train_label <- ifelse(train_data$Group == \"ASD\", 1, 0)\n",
    "test_label <- ifelse(test_data$Group == \"ASD\", 1, 0)\n",
    "\n",
    "# XGBoost model\n",
    "xgb_model <- xgboost(\n",
    "  data = train_matrix,\n",
    "  label = train_label,\n",
    "  nrounds = 100,\n",
    "  objective = \"binary:logistic\",\n",
    "  eval_metric = \"error\",\n",
    "  verbose = 0\n",
    ")\n",
    "\n",
    "# Predictions\n",
    "xgb_preds <- predict(xgb_model, test_matrix)\n",
    "xgb_class <- ifelse(xgb_preds > 0.5, \"ASD\", \"Normal\")\n",
    "\n",
    "# Confusion matrix for XGBoost\n",
    "conf_mat_xgb <- table(Predicted = xgb_class, Actual = test_data$Group)\n",
    "print(conf_mat_xgb)\n",
    "# Accuracy for XGBoost\n",
    "accuracy_xgb <- sum(diag(conf_mat_xgb)) / sum(conf_mat_xgb)\n",
    "cat(\"XGBoost Accuracy:\", round(accuracy_xgb * 100, 2), \"%\\n\")"
   ]
  },
  {
   "cell_type": "code",
   "execution_count": 24,
   "metadata": {
    "vscode": {
     "languageId": "r"
    }
   },
   "outputs": [
    {
     "ename": "ERROR",
     "evalue": "Error in file(file, \"rt\"): cannot open the connection\n",
     "output_type": "error",
     "traceback": [
      "Error in file(file, \"rt\"): cannot open the connection\nTraceback:\n",
      "1. scale(t(read.table(\"voxel_A&B_data.txt\", header = T)))",
      "2. t(read.table(\"voxel_A&B_data.txt\", header = T))",
      "3. read.table(\"voxel_A&B_data.txt\", header = T)",
      "4. file(file, \"rt\")"
     ]
    }
   ],
   "source": [
    "### voxel pair\n",
    "# transpose data to make timeseries columns\n",
    "# scale will mean center and sd scale each column\n",
    "two_voxels <- scale(t(read.table(\"voxel_A&B_data.txt\", header=T)))\n",
    "num_time <- dim(two_voxels)[1]\n",
    "plot(1:num_time,two_voxels[,1],type=\"l\",xlab=\"time\", ylab=\"BOLD\", main=\"First Voxel\")\n",
    "\n",
    "# plot BOLD signals\n",
    "library(ggplot2)\n",
    "library(reshape2)\n",
    "voxels.df <- data.frame(time=1:num_time, Voxel1=two_voxels[,1], Voxel2=two_voxels[,2])\n",
    "melt.df <- melt(data = voxels.df, measure.vars = c(\"Voxel1\", \"Voxel2\"))\n",
    "ggplot(melt.df, aes(x=time, y=value, group=variable)) +\n",
    "  geom_line(aes(linetype=variable)) +\n",
    "  geom_point(aes(shape=variable, color=variable), size=2) +\n",
    "  scale_color_manual(values = c(\"#FC4E07\", \"#E7B800\")) +\n",
    "  xlab(\"Time\") +\n",
    "  ylab(\"BOLD\") +\n",
    "  ggtitle(\"Two Voxels\") + \n",
    "  theme(plot.title = element_text(hjust = 0.5)) + theme_bw() \n",
    "\n",
    "# pair comparison\n",
    "plot(two_voxels[,1],two_voxels[,2],xlab=\"Voxel 1\", ylab=\"Voxel 2\", main=\"Comparison\")\n",
    "abline(lm(two_voxels[,2]~two_voxels[,1]))\n",
    "cor(two_voxels)\n",
    "\n",
    "#library(dplyr)\n",
    "# autoregressive data set\n",
    "# create a data frame with all the required lagged columns,\n",
    "#as well as the response variable. \n",
    "xdata = voxels.df[,2:3]\n",
    "# using voxel 2 to help predict voxel 1 doesn't seem to help\n",
    "#arframe <- data.frame(vox1_predict = xdata[, \"Voxel1\"],\n",
    "#                        V1.L1 = lag(xdata$Voxel1 , 1), \n",
    "#                        V1.L2 = lag(xdata$Voxel1 , 2),\n",
    "#                        V2.L1 = lag(xdata$Voxel2 , 1), \n",
    "#                        V2.L2 = lag(xdata$Voxel2 , 2)\n",
    "#                        )\n",
    "# predict voxel 1 using lagged voxel 1 values\n",
    "arframe <- data.frame(vox1_predict = xdata[, \"Voxel1\"],\n",
    "                      V1.L1 = lag(xdata$Voxel1 , 1), \n",
    "                      V1.L2 = lag(xdata$Voxel1 , 2)\n",
    "                      #V1.L3 = lag(xdata$Voxel1 , 3) \n",
    "                      #V1.L4 = lag(xdata$Voxel1 , 4)\n",
    "                      )\n",
    "# remove NA's at end points where lag cannot be computed\n",
    "arframe <- na.omit(arframe)\n",
    "# Fit the model\n",
    "train = 1:round((nrow(arframe)/2)) # train first half\n",
    "test = which(1:nrow(arframe)!=train) # the rest\n",
    "lmfit = lm(vox1_predict ~ ., data = arframe[train,])\n",
    "lmpred = predict(lmfit , arframe[test , ])\n",
    "plot(lmpred,arframe[test , \"vox1_predict\"],xlab=\"Predicted\", ylab=\"Observed\", main=\"Voxel 1 linear regression\")\n",
    "abline(lm(arframe[test , \"vox1_predict\"] ~ lmpred))\n",
    "abline(a=0,b=1, col=\"red\")\n",
    "lm(arframe[test , \"vox1_predict\"] ~ lmpred)\n",
    "coefficients(lmfit)\n",
    "#sqrt(sum(lmfit$residuals^2))/length(lmfit$residuals)\n",
    "# mean sum of squared test error\n",
    "sum(sqrt((lmpred - arframe[test , \"vox1_predict\"])^2))/length(lmpred) \n",
    "#V0 = var(arframe[train, \"vox1_predict\"])\n",
    "# error\n",
    "#1-mean((lmpred - arframe[test , \"vox1_predict\"])^2) / V0\n",
    "\n",
    "# Random Forest does not seem to work better than linear regression\n",
    "library(ranger)\n",
    "ar_rf_fit = ranger(vox1_predict ~ ., arframe[train,], \n",
    "                               keep.inbag = TRUE,\n",
    "                               importance=\"permutation\", \n",
    "                               scale.permutation.importance = T,\n",
    "                               local.importance = T,\n",
    "                   num.trees=5000)\n",
    "sort(ar_rf_fit$variable.importance,decreasing=T)\n",
    "ar_rf_fit$prediction.error # training\n",
    "rf_pred = predict(ar_rf_fit, \n",
    "                  data = arframe[test,] %>% select(-vox1_predict), \n",
    "                  type = \"response\")\n",
    "rf_se = predict(ar_rf_fit, \n",
    "                  data = arframe[test,] %>% select(-vox1_predict), \n",
    "                  type = \"se\")\n",
    "#sqrt(sum(rf_se$se))/length(rf_se$se) # ave error\n",
    "# mean sum of squared test error\n",
    "sqrt(sum((rf_pred$predictions - arframe[test , \"vox1_predict\"])^2))/length(rf_pred) \n",
    "plot(rf_pred$predictions,arframe[test , \"vox1_predict\"],xlab=\"Predicted\", ylab=\"Observed\", main=\"Voxel 1 RF\")\n",
    "abline(a=0,b=1, col=\"red\")\n",
    "abline(lm(arframe[test , \"vox1_predict\"] ~ rf_pred$predictions))"
   ]
  },
  {
   "cell_type": "markdown",
   "metadata": {},
   "source": [
    "### tsfeatures Feature Extraction"
   ]
  },
  {
   "cell_type": "code",
   "execution_count": 25,
   "metadata": {
    "vscode": {
     "languageId": "r"
    }
   },
   "outputs": [
    {
     "data": {
      "text/html": [
       "<strong>png:</strong> 2"
      ],
      "text/latex": [
       "\\textbf{png:} 2"
      ],
      "text/markdown": [
       "**png:** 2"
      ],
      "text/plain": [
       "png \n",
       "  2 "
      ]
     },
     "metadata": {},
     "output_type": "display_data"
    }
   ],
   "source": [
    "# Suppress plotting globally during feature extraction\n",
    "old_par <- par(no.readonly = TRUE)  # Save current graphical parameters\n",
    "pdf(NULL)  # Redirect plots to NULL\n",
    "\n",
    "# Your feature extraction code\n",
    "asd_features <- bind_rows(lapply(seq_along(asd_data_list), function(i) {\n",
    "  extract_tsfeatures_subject(asd_data_list[[i]], paste0(\"ASD_\", i), \"ASD\")\n",
    "}))\n",
    "normal_features <- bind_rows(lapply(seq_along(normal_data_list), function(i) {\n",
    "  extract_tsfeatures_subject(normal_data_list[[i]], paste0(\"Normal_\", i), \"Normal\")\n",
    "}))\n",
    "\n",
    "# Restore plotting\n",
    "dev.off()\n",
    "par(old_par)\n",
    "\n",
    "# Combine all\n",
    "features_df <- bind_rows(asd_features, normal_features)"
   ]
  },
  {
   "cell_type": "code",
   "execution_count": 26,
   "metadata": {
    "vscode": {
     "languageId": "r"
    }
   },
   "outputs": [
    {
     "data": {
      "text/html": [
       "<table class=\"dataframe\">\n",
       "<caption>A data.frame: 6 × 113</caption>\n",
       "<thead>\n",
       "\t<tr><th></th><th scope=col>V1</th><th scope=col>V2</th><th scope=col>V3</th><th scope=col>V4</th><th scope=col>V5</th><th scope=col>V6</th><th scope=col>V7</th><th scope=col>V8</th><th scope=col>V9</th><th scope=col>V10</th><th scope=col>⋯</th><th scope=col>V104</th><th scope=col>V105</th><th scope=col>V106</th><th scope=col>V107</th><th scope=col>V108</th><th scope=col>V109</th><th scope=col>V110</th><th scope=col>Region</th><th scope=col>Subject</th><th scope=col>Group</th></tr>\n",
       "\t<tr><th></th><th scope=col>&lt;chr&gt;</th><th scope=col>&lt;chr&gt;</th><th scope=col>&lt;chr&gt;</th><th scope=col>&lt;chr&gt;</th><th scope=col>&lt;chr&gt;</th><th scope=col>&lt;chr&gt;</th><th scope=col>&lt;chr&gt;</th><th scope=col>&lt;chr&gt;</th><th scope=col>&lt;chr&gt;</th><th scope=col>&lt;chr&gt;</th><th scope=col>⋯</th><th scope=col>&lt;chr&gt;</th><th scope=col>&lt;chr&gt;</th><th scope=col>&lt;chr&gt;</th><th scope=col>&lt;chr&gt;</th><th scope=col>&lt;chr&gt;</th><th scope=col>&lt;chr&gt;</th><th scope=col>&lt;chr&gt;</th><th scope=col>&lt;chr&gt;</th><th scope=col>&lt;chr&gt;</th><th scope=col>&lt;chr&gt;</th></tr>\n",
       "</thead>\n",
       "<tbody>\n",
       "\t<tr><th scope=row>mean...1</th><td>-3.16759521075026e-18</td><td>-4.46062950623156e-18</td><td>-2.94034108368914e-17</td><td>2.97465650596478e-17</td><td>1.26238710338973e-17</td><td>2.07285902852072e-17</td><td>-1.97534243539319e-17</td><td>-1.61644687534202e-17</td><td>7.34054152689618e-18</td><td>-2.50136529623715e-17</td><td>⋯</td><td>1.87636278535677e-17</td><td>4.49589687803542e-18</td><td>-2.11671993458946e-17</td><td>1.06732311593658e-17</td><td>8.92372310830967e-18</td><td>1.16169798685975e-17</td><td>1.11500337056748e-18</td><td>mean</td><td>ASD_1</td><td>ASD</td></tr>\n",
       "\t<tr><th scope=row>var...2</th><td>1                    </td><td>1                    </td><td>1                    </td><td>1                   </td><td>1                   </td><td>1                   </td><td>1                    </td><td>1                    </td><td>1                   </td><td>1                    </td><td>⋯</td><td>1                   </td><td>1                   </td><td>1                    </td><td>1                   </td><td>1                   </td><td>1                   </td><td>1                   </td><td>var </td><td>ASD_1</td><td>ASD</td></tr>\n",
       "\t<tr><th scope=row>acf1...3</th><td>1                    </td><td>1                    </td><td>1                    </td><td>1                   </td><td>1                   </td><td>1                   </td><td>1                    </td><td>1                    </td><td>1                   </td><td>1                    </td><td>⋯</td><td>1                   </td><td>1                   </td><td>1                    </td><td>1                   </td><td>1                   </td><td>1                   </td><td>1                   </td><td>acf1</td><td>ASD_1</td><td>ASD</td></tr>\n",
       "\t<tr><th scope=row>acf2...4</th><td>0.737699835009927    </td><td>0.746596549022538    </td><td>0.735110129387169    </td><td>0.726845830610883   </td><td>0.763021767549526   </td><td>0.758600623816781   </td><td>0.771891650302713    </td><td>0.762828692422835    </td><td>0.760238693103357   </td><td>0.740610717761812    </td><td>⋯</td><td>0.782293847388092   </td><td>0.816651954586897   </td><td>0.834511456094549    </td><td>0.797994072821478   </td><td>0.764877187916555   </td><td>0.725464014804126   </td><td>0.751608941528756   </td><td>acf2</td><td>ASD_1</td><td>ASD</td></tr>\n",
       "\t<tr><th scope=row>acf3...5</th><td>0.147941329948588    </td><td>0.195817871889677    </td><td>0.144394048071197    </td><td>0.15459831911211    </td><td>0.238328255849133   </td><td>0.233020599657333   </td><td>0.265196482350024    </td><td>0.243412603798623    </td><td>0.221325374582648   </td><td>0.159094315327266    </td><td>⋯</td><td>0.305753776835982   </td><td>0.388590804678297   </td><td>0.444311906811139    </td><td>0.33778780051319    </td><td>0.25266334818585    </td><td>0.128989295060203   </td><td>0.201963926856469   </td><td>acf3</td><td>ASD_1</td><td>ASD</td></tr>\n",
       "\t<tr><th scope=row>acf4...6</th><td>-0.354420066729769   </td><td>-0.237920162256195   </td><td>-0.353742259709257   </td><td>-0.299892615776587  </td><td>-0.19688067396518   </td><td>-0.178107272364465  </td><td>-0.162065120963438   </td><td>-0.203328082825952   </td><td>-0.249666410501569  </td><td>-0.35373118733336    </td><td>⋯</td><td>-0.0942069244207966 </td><td>-0.0265629475849441 </td><td>0.0566327438021669   </td><td>-0.0858629538882537 </td><td>-0.155872344476207  </td><td>-0.345111143275163  </td><td>-0.25733702102334   </td><td>acf4</td><td>ASD_1</td><td>ASD</td></tr>\n",
       "</tbody>\n",
       "</table>\n"
      ],
      "text/latex": [
       "A data.frame: 6 × 113\n",
       "\\begin{tabular}{r|lllllllllllllllllllll}\n",
       "  & V1 & V2 & V3 & V4 & V5 & V6 & V7 & V8 & V9 & V10 & ⋯ & V104 & V105 & V106 & V107 & V108 & V109 & V110 & Region & Subject & Group\\\\\n",
       "  & <chr> & <chr> & <chr> & <chr> & <chr> & <chr> & <chr> & <chr> & <chr> & <chr> & ⋯ & <chr> & <chr> & <chr> & <chr> & <chr> & <chr> & <chr> & <chr> & <chr> & <chr>\\\\\n",
       "\\hline\n",
       "\tmean...1 & -3.16759521075026e-18 & -4.46062950623156e-18 & -2.94034108368914e-17 & 2.97465650596478e-17 & 1.26238710338973e-17 & 2.07285902852072e-17 & -1.97534243539319e-17 & -1.61644687534202e-17 & 7.34054152689618e-18 & -2.50136529623715e-17 & ⋯ & 1.87636278535677e-17 & 4.49589687803542e-18 & -2.11671993458946e-17 & 1.06732311593658e-17 & 8.92372310830967e-18 & 1.16169798685975e-17 & 1.11500337056748e-18 & mean & ASD\\_1 & ASD\\\\\n",
       "\tvar...2 & 1                     & 1                     & 1                     & 1                    & 1                    & 1                    & 1                     & 1                     & 1                    & 1                     & ⋯ & 1                    & 1                    & 1                     & 1                    & 1                    & 1                    & 1                    & var  & ASD\\_1 & ASD\\\\\n",
       "\tacf1...3 & 1                     & 1                     & 1                     & 1                    & 1                    & 1                    & 1                     & 1                     & 1                    & 1                     & ⋯ & 1                    & 1                    & 1                     & 1                    & 1                    & 1                    & 1                    & acf1 & ASD\\_1 & ASD\\\\\n",
       "\tacf2...4 & 0.737699835009927     & 0.746596549022538     & 0.735110129387169     & 0.726845830610883    & 0.763021767549526    & 0.758600623816781    & 0.771891650302713     & 0.762828692422835     & 0.760238693103357    & 0.740610717761812     & ⋯ & 0.782293847388092    & 0.816651954586897    & 0.834511456094549     & 0.797994072821478    & 0.764877187916555    & 0.725464014804126    & 0.751608941528756    & acf2 & ASD\\_1 & ASD\\\\\n",
       "\tacf3...5 & 0.147941329948588     & 0.195817871889677     & 0.144394048071197     & 0.15459831911211     & 0.238328255849133    & 0.233020599657333    & 0.265196482350024     & 0.243412603798623     & 0.221325374582648    & 0.159094315327266     & ⋯ & 0.305753776835982    & 0.388590804678297    & 0.444311906811139     & 0.33778780051319     & 0.25266334818585     & 0.128989295060203    & 0.201963926856469    & acf3 & ASD\\_1 & ASD\\\\\n",
       "\tacf4...6 & -0.354420066729769    & -0.237920162256195    & -0.353742259709257    & -0.299892615776587   & -0.19688067396518    & -0.178107272364465   & -0.162065120963438    & -0.203328082825952    & -0.249666410501569   & -0.35373118733336     & ⋯ & -0.0942069244207966  & -0.0265629475849441  & 0.0566327438021669    & -0.0858629538882537  & -0.155872344476207   & -0.345111143275163   & -0.25733702102334    & acf4 & ASD\\_1 & ASD\\\\\n",
       "\\end{tabular}\n"
      ],
      "text/markdown": [
       "\n",
       "A data.frame: 6 × 113\n",
       "\n",
       "| <!--/--> | V1 &lt;chr&gt; | V2 &lt;chr&gt; | V3 &lt;chr&gt; | V4 &lt;chr&gt; | V5 &lt;chr&gt; | V6 &lt;chr&gt; | V7 &lt;chr&gt; | V8 &lt;chr&gt; | V9 &lt;chr&gt; | V10 &lt;chr&gt; | ⋯ ⋯ | V104 &lt;chr&gt; | V105 &lt;chr&gt; | V106 &lt;chr&gt; | V107 &lt;chr&gt; | V108 &lt;chr&gt; | V109 &lt;chr&gt; | V110 &lt;chr&gt; | Region &lt;chr&gt; | Subject &lt;chr&gt; | Group &lt;chr&gt; |\n",
       "|---|---|---|---|---|---|---|---|---|---|---|---|---|---|---|---|---|---|---|---|---|---|\n",
       "| mean...1 | -3.16759521075026e-18 | -4.46062950623156e-18 | -2.94034108368914e-17 | 2.97465650596478e-17 | 1.26238710338973e-17 | 2.07285902852072e-17 | -1.97534243539319e-17 | -1.61644687534202e-17 | 7.34054152689618e-18 | -2.50136529623715e-17 | ⋯ | 1.87636278535677e-17 | 4.49589687803542e-18 | -2.11671993458946e-17 | 1.06732311593658e-17 | 8.92372310830967e-18 | 1.16169798685975e-17 | 1.11500337056748e-18 | mean | ASD_1 | ASD |\n",
       "| var...2 | 1                     | 1                     | 1                     | 1                    | 1                    | 1                    | 1                     | 1                     | 1                    | 1                     | ⋯ | 1                    | 1                    | 1                     | 1                    | 1                    | 1                    | 1                    | var  | ASD_1 | ASD |\n",
       "| acf1...3 | 1                     | 1                     | 1                     | 1                    | 1                    | 1                    | 1                     | 1                     | 1                    | 1                     | ⋯ | 1                    | 1                    | 1                     | 1                    | 1                    | 1                    | 1                    | acf1 | ASD_1 | ASD |\n",
       "| acf2...4 | 0.737699835009927     | 0.746596549022538     | 0.735110129387169     | 0.726845830610883    | 0.763021767549526    | 0.758600623816781    | 0.771891650302713     | 0.762828692422835     | 0.760238693103357    | 0.740610717761812     | ⋯ | 0.782293847388092    | 0.816651954586897    | 0.834511456094549     | 0.797994072821478    | 0.764877187916555    | 0.725464014804126    | 0.751608941528756    | acf2 | ASD_1 | ASD |\n",
       "| acf3...5 | 0.147941329948588     | 0.195817871889677     | 0.144394048071197     | 0.15459831911211     | 0.238328255849133    | 0.233020599657333    | 0.265196482350024     | 0.243412603798623     | 0.221325374582648    | 0.159094315327266     | ⋯ | 0.305753776835982    | 0.388590804678297    | 0.444311906811139     | 0.33778780051319     | 0.25266334818585     | 0.128989295060203    | 0.201963926856469    | acf3 | ASD_1 | ASD |\n",
       "| acf4...6 | -0.354420066729769    | -0.237920162256195    | -0.353742259709257    | -0.299892615776587   | -0.19688067396518    | -0.178107272364465   | -0.162065120963438    | -0.203328082825952    | -0.249666410501569   | -0.35373118733336     | ⋯ | -0.0942069244207966  | -0.0265629475849441  | 0.0566327438021669    | -0.0858629538882537  | -0.155872344476207   | -0.345111143275163   | -0.25733702102334    | acf4 | ASD_1 | ASD |\n",
       "\n"
      ],
      "text/plain": [
       "         V1                    V2                    V3                   \n",
       "mean...1 -3.16759521075026e-18 -4.46062950623156e-18 -2.94034108368914e-17\n",
       "var...2  1                     1                     1                    \n",
       "acf1...3 1                     1                     1                    \n",
       "acf2...4 0.737699835009927     0.746596549022538     0.735110129387169    \n",
       "acf3...5 0.147941329948588     0.195817871889677     0.144394048071197    \n",
       "acf4...6 -0.354420066729769    -0.237920162256195    -0.353742259709257   \n",
       "         V4                   V5                   V6                  \n",
       "mean...1 2.97465650596478e-17 1.26238710338973e-17 2.07285902852072e-17\n",
       "var...2  1                    1                    1                   \n",
       "acf1...3 1                    1                    1                   \n",
       "acf2...4 0.726845830610883    0.763021767549526    0.758600623816781   \n",
       "acf3...5 0.15459831911211     0.238328255849133    0.233020599657333   \n",
       "acf4...6 -0.299892615776587   -0.19688067396518    -0.178107272364465  \n",
       "         V7                    V8                    V9                  \n",
       "mean...1 -1.97534243539319e-17 -1.61644687534202e-17 7.34054152689618e-18\n",
       "var...2  1                     1                     1                   \n",
       "acf1...3 1                     1                     1                   \n",
       "acf2...4 0.771891650302713     0.762828692422835     0.760238693103357   \n",
       "acf3...5 0.265196482350024     0.243412603798623     0.221325374582648   \n",
       "acf4...6 -0.162065120963438    -0.203328082825952    -0.249666410501569  \n",
       "         V10                   ⋯ V104                 V105                \n",
       "mean...1 -2.50136529623715e-17 ⋯ 1.87636278535677e-17 4.49589687803542e-18\n",
       "var...2  1                     ⋯ 1                    1                   \n",
       "acf1...3 1                     ⋯ 1                    1                   \n",
       "acf2...4 0.740610717761812     ⋯ 0.782293847388092    0.816651954586897   \n",
       "acf3...5 0.159094315327266     ⋯ 0.305753776835982    0.388590804678297   \n",
       "acf4...6 -0.35373118733336     ⋯ -0.0942069244207966  -0.0265629475849441 \n",
       "         V106                  V107                 V108                \n",
       "mean...1 -2.11671993458946e-17 1.06732311593658e-17 8.92372310830967e-18\n",
       "var...2  1                     1                    1                   \n",
       "acf1...3 1                     1                    1                   \n",
       "acf2...4 0.834511456094549     0.797994072821478    0.764877187916555   \n",
       "acf3...5 0.444311906811139     0.33778780051319     0.25266334818585    \n",
       "acf4...6 0.0566327438021669    -0.0858629538882537  -0.155872344476207  \n",
       "         V109                 V110                 Region Subject Group\n",
       "mean...1 1.16169798685975e-17 1.11500337056748e-18 mean   ASD_1   ASD  \n",
       "var...2  1                    1                    var    ASD_1   ASD  \n",
       "acf1...3 1                    1                    acf1   ASD_1   ASD  \n",
       "acf2...4 0.725464014804126    0.751608941528756    acf2   ASD_1   ASD  \n",
       "acf3...5 0.128989295060203    0.201963926856469    acf3   ASD_1   ASD  \n",
       "acf4...6 -0.345111143275163   -0.25733702102334    acf4   ASD_1   ASD  "
      ]
     },
     "metadata": {},
     "output_type": "display_data"
    },
    {
     "data": {
      "text/plain": [
       "      V1                 V2                 V3                 V4           \n",
       " Length:5200        Length:5200        Length:5200        Length:5200       \n",
       " Class :character   Class :character   Class :character   Class :character  \n",
       " Mode  :character   Mode  :character   Mode  :character   Mode  :character  \n",
       "      V5                 V6                 V7                 V8           \n",
       " Length:5200        Length:5200        Length:5200        Length:5200       \n",
       " Class :character   Class :character   Class :character   Class :character  \n",
       " Mode  :character   Mode  :character   Mode  :character   Mode  :character  \n",
       "      V9                V10                V11                V12           \n",
       " Length:5200        Length:5200        Length:5200        Length:5200       \n",
       " Class :character   Class :character   Class :character   Class :character  \n",
       " Mode  :character   Mode  :character   Mode  :character   Mode  :character  \n",
       "     V13                V14                V15                V16           \n",
       " Length:5200        Length:5200        Length:5200        Length:5200       \n",
       " Class :character   Class :character   Class :character   Class :character  \n",
       " Mode  :character   Mode  :character   Mode  :character   Mode  :character  \n",
       "     V17                V18                V19                V20           \n",
       " Length:5200        Length:5200        Length:5200        Length:5200       \n",
       " Class :character   Class :character   Class :character   Class :character  \n",
       " Mode  :character   Mode  :character   Mode  :character   Mode  :character  \n",
       "     V21                V22                V23                V24           \n",
       " Length:5200        Length:5200        Length:5200        Length:5200       \n",
       " Class :character   Class :character   Class :character   Class :character  \n",
       " Mode  :character   Mode  :character   Mode  :character   Mode  :character  \n",
       "     V25                V26                V27                V28           \n",
       " Length:5200        Length:5200        Length:5200        Length:5200       \n",
       " Class :character   Class :character   Class :character   Class :character  \n",
       " Mode  :character   Mode  :character   Mode  :character   Mode  :character  \n",
       "     V29                V30                V31                V32           \n",
       " Length:5200        Length:5200        Length:5200        Length:5200       \n",
       " Class :character   Class :character   Class :character   Class :character  \n",
       " Mode  :character   Mode  :character   Mode  :character   Mode  :character  \n",
       "     V33                V34                V35                V36           \n",
       " Length:5200        Length:5200        Length:5200        Length:5200       \n",
       " Class :character   Class :character   Class :character   Class :character  \n",
       " Mode  :character   Mode  :character   Mode  :character   Mode  :character  \n",
       "     V37                V38                V39                V40           \n",
       " Length:5200        Length:5200        Length:5200        Length:5200       \n",
       " Class :character   Class :character   Class :character   Class :character  \n",
       " Mode  :character   Mode  :character   Mode  :character   Mode  :character  \n",
       "     V41                V42                V43                V44           \n",
       " Length:5200        Length:5200        Length:5200        Length:5200       \n",
       " Class :character   Class :character   Class :character   Class :character  \n",
       " Mode  :character   Mode  :character   Mode  :character   Mode  :character  \n",
       "     V45                V46                V47                V48           \n",
       " Length:5200        Length:5200        Length:5200        Length:5200       \n",
       " Class :character   Class :character   Class :character   Class :character  \n",
       " Mode  :character   Mode  :character   Mode  :character   Mode  :character  \n",
       "     V49                V50                V51                V52           \n",
       " Length:5200        Length:5200        Length:5200        Length:5200       \n",
       " Class :character   Class :character   Class :character   Class :character  \n",
       " Mode  :character   Mode  :character   Mode  :character   Mode  :character  \n",
       "     V53                V54                V55                V56           \n",
       " Length:5200        Length:5200        Length:5200        Length:5200       \n",
       " Class :character   Class :character   Class :character   Class :character  \n",
       " Mode  :character   Mode  :character   Mode  :character   Mode  :character  \n",
       "     V57                V58                V59                V60           \n",
       " Length:5200        Length:5200        Length:5200        Length:5200       \n",
       " Class :character   Class :character   Class :character   Class :character  \n",
       " Mode  :character   Mode  :character   Mode  :character   Mode  :character  \n",
       "     V61                V62                V63                V64           \n",
       " Length:5200        Length:5200        Length:5200        Length:5200       \n",
       " Class :character   Class :character   Class :character   Class :character  \n",
       " Mode  :character   Mode  :character   Mode  :character   Mode  :character  \n",
       "     V65                V66                V67                V68           \n",
       " Length:5200        Length:5200        Length:5200        Length:5200       \n",
       " Class :character   Class :character   Class :character   Class :character  \n",
       " Mode  :character   Mode  :character   Mode  :character   Mode  :character  \n",
       "     V69                V70                V71                V72           \n",
       " Length:5200        Length:5200        Length:5200        Length:5200       \n",
       " Class :character   Class :character   Class :character   Class :character  \n",
       " Mode  :character   Mode  :character   Mode  :character   Mode  :character  \n",
       "     V73                V74                V75                V76           \n",
       " Length:5200        Length:5200        Length:5200        Length:5200       \n",
       " Class :character   Class :character   Class :character   Class :character  \n",
       " Mode  :character   Mode  :character   Mode  :character   Mode  :character  \n",
       "     V77                V78                V79                V80           \n",
       " Length:5200        Length:5200        Length:5200        Length:5200       \n",
       " Class :character   Class :character   Class :character   Class :character  \n",
       " Mode  :character   Mode  :character   Mode  :character   Mode  :character  \n",
       "     V81                V82                V83                V84           \n",
       " Length:5200        Length:5200        Length:5200        Length:5200       \n",
       " Class :character   Class :character   Class :character   Class :character  \n",
       " Mode  :character   Mode  :character   Mode  :character   Mode  :character  \n",
       "     V85                V86                V87                V88           \n",
       " Length:5200        Length:5200        Length:5200        Length:5200       \n",
       " Class :character   Class :character   Class :character   Class :character  \n",
       " Mode  :character   Mode  :character   Mode  :character   Mode  :character  \n",
       "     V89                V90                V91                V92           \n",
       " Length:5200        Length:5200        Length:5200        Length:5200       \n",
       " Class :character   Class :character   Class :character   Class :character  \n",
       " Mode  :character   Mode  :character   Mode  :character   Mode  :character  \n",
       "     V93                V94                V95                V96           \n",
       " Length:5200        Length:5200        Length:5200        Length:5200       \n",
       " Class :character   Class :character   Class :character   Class :character  \n",
       " Mode  :character   Mode  :character   Mode  :character   Mode  :character  \n",
       "     V97                V98                V99                V100          \n",
       " Length:5200        Length:5200        Length:5200        Length:5200       \n",
       " Class :character   Class :character   Class :character   Class :character  \n",
       " Mode  :character   Mode  :character   Mode  :character   Mode  :character  \n",
       "     V101               V102               V103               V104          \n",
       " Length:5200        Length:5200        Length:5200        Length:5200       \n",
       " Class :character   Class :character   Class :character   Class :character  \n",
       " Mode  :character   Mode  :character   Mode  :character   Mode  :character  \n",
       "     V105               V106               V107               V108          \n",
       " Length:5200        Length:5200        Length:5200        Length:5200       \n",
       " Class :character   Class :character   Class :character   Class :character  \n",
       " Mode  :character   Mode  :character   Mode  :character   Mode  :character  \n",
       "     V109               V110              Region            Subject         \n",
       " Length:5200        Length:5200        Length:5200        Length:5200       \n",
       " Class :character   Class :character   Class :character   Class :character  \n",
       " Mode  :character   Mode  :character   Mode  :character   Mode  :character  \n",
       "    Group          \n",
       " Length:5200       \n",
       " Class :character  \n",
       " Mode  :character  "
      ]
     },
     "metadata": {},
     "output_type": "display_data"
    }
   ],
   "source": [
    "head(features_df)\n",
    "summary(features_df)"
   ]
  },
  {
   "cell_type": "markdown",
   "metadata": {},
   "source": [
    "### Random Forest with tsfeatures"
   ]
  },
  {
   "cell_type": "code",
   "execution_count": 139,
   "metadata": {
    "vscode": {
     "languageId": "r"
    }
   },
   "outputs": [
    {
     "name": "stdout",
     "output_type": "stream",
     "text": [
      "         Actual\n",
      "Predicted ASD Normal\n",
      "   ASD    106     90\n",
      "   Normal 408    422\n",
      "Accuracy: 51.46 %\n"
     ]
    }
   ],
   "source": [
    "# Convert Group to factor\n",
    "features_df$Group <- as.factor(features_df$Group)\n",
    "\n",
    "# Train/test split\n",
    "set.seed(123)\n",
    "n <- nrow(features_df)\n",
    "train_idx <- sample(seq_len(n), size = 0.8 * n)\n",
    "train_data <- features_df[train_idx, ]\n",
    "test_data <- features_df[-train_idx, ]\n",
    "\n",
    "# Remove rows with NAs from both training and testing sets\n",
    "train_data <- na.omit(train_data)\n",
    "test_data <- na.omit(test_data)\n",
    "\n",
    "# Fit Random Forest (remove \"Subject\" and optionally \"Region\")\n",
    "rf_model <- randomForest(Group ~ ., \n",
    "                         data = train_data[, !(names(train_data) %in% c(\"Subject\", \"Region\"))], \n",
    "                         importance = TRUE, \n",
    "                         ntree = 500)\n",
    "\n",
    "# Predict\n",
    "rf_preds <- predict(rf_model, test_data)\n",
    "\n",
    "# Confusion Matrix and Accuracy\n",
    "conf_mat <- table(Predicted = rf_preds, Actual = test_data$Group)\n",
    "print(conf_mat)\n",
    "\n",
    "accuracy <- sum(diag(conf_mat)) / sum(conf_mat)\n",
    "cat(\"Accuracy:\", round(accuracy * 100, 2), \"%\\n\")\n",
    "\n"
   ]
  },
  {
   "cell_type": "markdown",
   "metadata": {},
   "source": [
    "### XGBoost with tsfeatures"
   ]
  },
  {
   "cell_type": "code",
   "execution_count": 28,
   "metadata": {
    "vscode": {
     "languageId": "r"
    }
   },
   "outputs": [
    {
     "name": "stdout",
     "output_type": "stream",
     "text": [
      "         Actual\n",
      "Predicted   0   1\n",
      "        0 422 343\n",
      "        1  92 183\n",
      "Accuracy: 58.17 %\n"
     ]
    }
   ],
   "source": [
    "# Drop non-feature columns\n",
    "feature_cols <- !(names(features_df) %in% c(\"Subject\", \"Group\", \"Region\"))\n",
    "features_clean <- features_df[, feature_cols]\n",
    "\n",
    "# Convert everything to numeric (this will coerce characters, logicals etc.)\n",
    "features_clean[] <- lapply(features_clean, function(x) as.numeric(as.character(x)))\n",
    "\n",
    "# Handle remaining NAs (optional: here we replace NAs with 0, or use imputation)\n",
    "features_clean[is.na(features_clean)] <- 0\n",
    "\n",
    "# Convert to matrix\n",
    "train_matrix <- as.matrix(features_clean[train_idx, ])\n",
    "test_matrix  <- as.matrix(features_clean[-train_idx, ])\n",
    "\n",
    "# Labels\n",
    "train_label <- as.numeric(features_df$Group[train_idx]) - 1  # xgboost needs 0/1\n",
    "test_label  <- as.numeric(features_df$Group[-train_idx]) - 1\n",
    "\n",
    "dtrain <- xgb.DMatrix(data = train_matrix, label = train_label)\n",
    "dtest  <- xgb.DMatrix(data = test_matrix, label = test_label)\n",
    "\n",
    "params <- list(\n",
    "  objective = \"binary:logistic\",\n",
    "  eval_metric = \"error\",\n",
    "  max_depth = 6,\n",
    "  eta = 0.1\n",
    ")\n",
    "\n",
    "xgb_model <- xgb.train(\n",
    "  params = params,\n",
    "  data = dtrain,\n",
    "  nrounds = 100,\n",
    "  watchlist = list(train = dtrain, eval = dtest),\n",
    "  verbose = 0\n",
    ")\n",
    "\n",
    "# Predictions\n",
    "pred_probs <- predict(xgb_model, dtest)\n",
    "pred_labels <- ifelse(pred_probs > 0.5, 1, 0)\n",
    "\n",
    "# Confusion matrix & accuracy\n",
    "conf_mat <- table(Predicted = pred_labels, Actual = test_label)\n",
    "print(conf_mat)\n",
    "accuracy <- sum(diag(conf_mat)) / sum(conf_mat)\n",
    "cat(\"Accuracy:\", round(accuracy * 100, 2), \"%\\n\")"
   ]
  },
  {
   "cell_type": "markdown",
   "metadata": {},
   "source": [
    "### PCA"
   ]
  },
  {
   "cell_type": "code",
   "execution_count": null,
   "metadata": {
    "vscode": {
     "languageId": "r"
    }
   },
   "outputs": [],
   "source": [
    "# rename columns for clarity\n",
    "features_clean <- features_df %>%\n",
    "  rename(Feature = Region)\n",
    "\n",
    "# Pivot longer to standardize the structure\n",
    "features_long <- features_clean %>%\n",
    "  pivot_longer(cols = -c(Feature, Subject, Group),\n",
    "               names_to = \"Region\", values_to = \"Value\")\n",
    "\n",
    "# Now pivot wider to make each row a subject, and each column a Region-Feature combo\n",
    "features_wide <- features_long %>%\n",
    "  mutate(RegionFeature = paste0(Region, \"_\", Feature)) %>%\n",
    "  select(Subject, Group, RegionFeature, Value) %>%\n",
    "  pivot_wider(names_from = RegionFeature, values_from = Value)\n",
    "\n",
    "# Convert Group to factor\n",
    "features_wide$Group <- as.factor(features_wide$Group)\n",
    "\n",
    "# remove rows with any NA\n",
    "features_wide <- features_wide %>% drop_na()\n",
    "# Extract features and ensure numeric conversion\n",
    "feature_matrix <- features_wide %>%\n",
    "  select(-Subject, -Group) %>%\n",
    "  mutate(across(everything(), ~as.numeric(.)))"
   ]
  },
  {
   "cell_type": "code",
   "execution_count": null,
   "metadata": {
    "vscode": {
     "languageId": "r"
    }
   },
   "outputs": [
    {
     "data": {
      "text/plain": [
       "Importance of components:\n",
       "                           PC1     PC2     PC3     PC4     PC5     PC6     PC7\n",
       "Standard deviation     9.58583 9.24703 7.85409 7.44173 7.25356 7.00320 6.87890\n",
       "Proportion of Variance 0.03481 0.03239 0.02337 0.02098 0.01993 0.01858 0.01792\n",
       "Cumulative Proportion  0.03481 0.06720 0.09056 0.11154 0.13147 0.15005 0.16797\n",
       "                           PC8     PC9   PC10    PC11    PC12    PC13    PC14\n",
       "Standard deviation     6.78663 6.70764 6.6588 6.51196 6.49689 6.37180 6.32832\n",
       "Proportion of Variance 0.01745 0.01704 0.0168 0.01606 0.01599 0.01538 0.01517\n",
       "Cumulative Proportion  0.18542 0.20246 0.2192 0.23532 0.25131 0.26668 0.28185\n",
       "                          PC15    PC16   PC17    PC18    PC19    PC20   PC21\n",
       "Standard deviation     6.23925 6.16128 6.1450 6.08929 5.98207 5.93470 5.9260\n",
       "Proportion of Variance 0.01475 0.01438 0.0143 0.01405 0.01355 0.01334 0.0133\n",
       "Cumulative Proportion  0.29660 0.31098 0.3253 0.33933 0.35288 0.36622 0.3795\n",
       "                          PC22    PC23    PC24   PC25   PC26    PC27    PC28\n",
       "Standard deviation     5.83387 5.80279 5.75190 5.6989 5.6747 5.61072 5.58619\n",
       "Proportion of Variance 0.01289 0.01275 0.01253 0.0123 0.0122 0.01192 0.01182\n",
       "Cumulative Proportion  0.39242 0.40517 0.41770 0.4300 0.4422 0.45413 0.46595\n",
       "                          PC29    PC30    PC31    PC32    PC33    PC34    PC35\n",
       "Standard deviation     5.52335 5.47060 5.44671 5.43020 5.39085 5.35065 5.34336\n",
       "Proportion of Variance 0.01156 0.01134 0.01124 0.01117 0.01101 0.01084 0.01081\n",
       "Cumulative Proportion  0.47750 0.48884 0.50008 0.51125 0.52225 0.53310 0.54391\n",
       "                          PC36    PC37    PC38    PC39    PC40    PC41    PC42\n",
       "Standard deviation     5.27923 5.24516 5.22620 5.17044 5.13579 5.12420 5.08111\n",
       "Proportion of Variance 0.01056 0.01042 0.01035 0.01013 0.00999 0.00995 0.00978\n",
       "Cumulative Proportion  0.55447 0.56489 0.57524 0.58536 0.59536 0.60530 0.61508\n",
       "                          PC43    PC44    PC45    PC46    PC47    PC48    PC49\n",
       "Standard deviation     5.06185 5.03781 4.98289 4.96293 4.95120 4.92051 4.89392\n",
       "Proportion of Variance 0.00971 0.00961 0.00941 0.00933 0.00929 0.00917 0.00907\n",
       "Cumulative Proportion  0.62479 0.63440 0.64380 0.65313 0.66242 0.67159 0.68066\n",
       "                          PC50    PC51    PC52    PC53    PC54    PC55    PC56\n",
       "Standard deviation     4.84523 4.81849 4.76034 4.75805 4.74208 4.69938 4.65620\n",
       "Proportion of Variance 0.00889 0.00879 0.00858 0.00858 0.00852 0.00837 0.00821\n",
       "Cumulative Proportion  0.68956 0.69835 0.70693 0.71551 0.72403 0.73239 0.74061\n",
       "                          PC57    PC58    PC59    PC60    PC61    PC62    PC63\n",
       "Standard deviation     4.64305 4.60111 4.57873 4.57066 4.51557 4.48239 4.45430\n",
       "Proportion of Variance 0.00817 0.00802 0.00794 0.00791 0.00772 0.00761 0.00752\n",
       "Cumulative Proportion  0.74877 0.75679 0.76473 0.77264 0.78037 0.78798 0.79549\n",
       "                          PC64    PC65    PC66    PC67    PC68    PC69   PC70\n",
       "Standard deviation     4.43523 4.41074 4.37900 4.34853 4.31246 4.28245 4.2694\n",
       "Proportion of Variance 0.00745 0.00737 0.00726 0.00716 0.00704 0.00695 0.0069\n",
       "Cumulative Proportion  0.80295 0.81031 0.81758 0.82474 0.83179 0.83873 0.8456\n",
       "                          PC71    PC72    PC73    PC74    PC75    PC76    PC77\n",
       "Standard deviation     4.25492 4.23467 4.19656 4.16106 4.13319 4.05677 4.04401\n",
       "Proportion of Variance 0.00686 0.00679 0.00667 0.00656 0.00647 0.00623 0.00619\n",
       "Cumulative Proportion  0.85249 0.85929 0.86596 0.87252 0.87899 0.88522 0.89142\n",
       "                          PC78    PC79    PC80    PC81   PC82    PC83    PC84\n",
       "Standard deviation     4.03293 4.00411 3.92133 3.89906 3.8789 3.86583 3.84136\n",
       "Proportion of Variance 0.00616 0.00607 0.00582 0.00576 0.0057 0.00566 0.00559\n",
       "Cumulative Proportion  0.89758 0.90365 0.90947 0.91523 0.9209 0.92659 0.93218\n",
       "                          PC85    PC86    PC87    PC88   PC89    PC90    PC91\n",
       "Standard deviation     3.82786 3.79721 3.71397 3.71097 3.6676 3.65075 3.60673\n",
       "Proportion of Variance 0.00555 0.00546 0.00522 0.00522 0.0051 0.00505 0.00493\n",
       "Cumulative Proportion  0.93773 0.94319 0.94842 0.95364 0.9587 0.96378 0.96871\n",
       "                          PC92    PC93    PC94    PC95    PC96   PC97    PC98\n",
       "Standard deviation     3.56369 3.54643 3.47962 3.43935 3.43093 3.3299 3.24679\n",
       "Proportion of Variance 0.00481 0.00476 0.00459 0.00448 0.00446 0.0042 0.00399\n",
       "Cumulative Proportion  0.97352 0.97828 0.98287 0.98735 0.99181 0.9960 1.00000\n",
       "                            PC99\n",
       "Standard deviation     1.649e-14\n",
       "Proportion of Variance 0.000e+00\n",
       "Cumulative Proportion  1.000e+00"
      ]
     },
     "metadata": {},
     "output_type": "display_data"
    }
   ],
   "source": [
    "# identify columns with non-zero and non-NA variance\n",
    "non_constant_columns <- sapply(feature_matrix, function(x) {\n",
    "  v <- var(x, na.rm = TRUE)\n",
    "  !is.na(v) && v > 0\n",
    "})\n",
    "\n",
    "# Subset to retain only non-constant columns\n",
    "feature_matrix_clean <- feature_matrix[, non_constant_columns]\n",
    "\n",
    "# Run PCA on cleaned data\n",
    "pca_result <- prcomp(feature_matrix_clean, scale. = TRUE)\n",
    "summary(pca_result)\n",
    "\n",
    "# top components\n",
    "pc_data <- as.data.frame(pca_result$x[, 1:10])\n",
    "pc_data$Group <- features_wide$Group\n"
   ]
  },
  {
   "cell_type": "markdown",
   "metadata": {},
   "source": [
    "### SVM - RBF kernel"
   ]
  },
  {
   "cell_type": "code",
   "execution_count": null,
   "metadata": {
    "vscode": {
     "languageId": "r"
    }
   },
   "outputs": [],
   "source": [
    "# Combine PCA features with labels\n",
    "pca_features <- as.data.frame(pca_result$x)\n",
    "pca_features$Group <- features_wide$Group\n",
    "pca_features$Group <- as.factor(pca_features$Group)\n",
    "\n",
    "# Train/test split\n",
    "n <- nrow(pca_features)\n",
    "train_idx <- sample(seq_len(n), size = 0.8 * n)\n",
    "train_data <- pca_features[train_idx, ]\n",
    "test_data <- pca_features[-train_idx, ]"
   ]
  },
  {
   "cell_type": "code",
   "execution_count": null,
   "metadata": {
    "vscode": {
     "languageId": "r"
    }
   },
   "outputs": [
    {
     "name": "stdout",
     "output_type": "stream",
     "text": [
      "         Actual\n",
      "Predicted ASD Normal\n",
      "   ASD      9     11\n",
      "   Normal   0      0\n",
      "SVM Accuracy: 45 %\n"
     ]
    }
   ],
   "source": [
    "# SVM model with RBF kernel\n",
    "svm_model <- svm(Group ~ ., data = train_data, kernel = \"radial\", probability = TRUE)\n",
    "\n",
    "svm_preds <- predict(svm_model, test_data)\n",
    "\n",
    "conf_mat <- table(Predicted = svm_preds, Actual = test_data$Group)\n",
    "print(conf_mat)\n",
    "\n",
    "accuracy <- sum(diag(conf_mat)) / sum(conf_mat)\n",
    "cat(\"SVM Accuracy:\", round(accuracy * 100, 2), \"%\\n\")"
   ]
  },
  {
   "cell_type": "markdown",
   "metadata": {},
   "source": [
    "## CNN - Convolutional Neural Networks\n",
    "\n",
    "### 1D CNN\n",
    "\n",
    "A 1D Convolutional Neural Network (CNN) designed for time-series data, incorporating convolutional layers, pooling, and dropout for feature extraction and classification.\n",
    "\n",
    "#### Architecture:\n",
    "1. **Input Layer**:\n",
    "   - Input shape: `(timesteps, features)` (e.g., `num_timesteps x num_features`).\n",
    "\n",
    "2. **Convolutional Block 1**:\n",
    "   - **Conv1D**: 32 filters, kernel size = 3, activation = ReLU.\n",
    "   - **Max Pooling**: Pool size = 2, reduces spatial dimensions.\n",
    "\n",
    "3. **Convolutional Block 2**:\n",
    "   - **Conv1D**: 64 filters, kernel size = 3, activation = ReLU.\n",
    "   - **Max Pooling**: Pool size = 2.\n",
    "\n",
    "4. **Flatten Layer**:\n",
    "   - Flattens the output of the previous layer into a 1D vector.\n",
    "\n",
    "5. **Fully Connected Layers**:\n",
    "   - **Dense**: 64 units, activation = ReLU.\n",
    "   - **Dropout**: Rate = 0.5, prevents overfitting.\n",
    "   - **Dense**: 1 unit, activation = Sigmoid (for binary classification).\n",
    "\n",
    "#### Compilation:\n",
    "- **Optimizer**: Adam.\n",
    "- **Loss Function**: Binary Crossentropy.\n",
    "- **Metrics**: Accuracy."
   ]
  },
  {
   "cell_type": "code",
   "execution_count": 120,
   "metadata": {
    "vscode": {
     "languageId": "r"
    }
   },
   "outputs": [],
   "source": [
    "reshaped_data <- all_data_long %>%\n",
    "  select(Subject, RegionName, Time, Signal) %>%\n",
    "  pivot_wider(names_from = RegionName, values_from = Signal) %>%\n",
    "  arrange(Subject, Time)\n",
    "\n",
    "# Create array [samples, timesteps, features]\n",
    "subjects <- unique(reshaped_data$Subject)\n",
    "num_subjects <- length(subjects)\n",
    "num_timesteps <- length(unique(reshaped_data$Time))\n",
    "num_features <- length(unique(all_data_long$RegionName))\n",
    "\n",
    "# Initialize array\n",
    "cnn_input <- array(NA, dim = c(num_subjects, num_timesteps, num_features))\n",
    "\n",
    "for (i in seq_along(subjects)) {\n",
    "  subj_data <- reshaped_data %>%\n",
    "    filter(Subject == subjects[i]) %>%\n",
    "    select(-Subject, -Time) %>%\n",
    "    as.matrix()\n",
    "  cnn_input[i,,] <- subj_data\n",
    "}\n",
    "\n",
    "# Create labels\n",
    "labels <- ifelse(substr(subjects, 1, 3) == \"ASD\", 1, 0)"
   ]
  },
  {
   "cell_type": "code",
   "execution_count": 122,
   "metadata": {
    "vscode": {
     "languageId": "r"
    }
   },
   "outputs": [],
   "source": [
    "model <- keras_model_sequential() %>%\n",
    "  layer_conv_1d(filters = 32, kernel_size = 3, activation = \"relu\", input_shape = c(num_timesteps, num_features)) %>%\n",
    "  layer_max_pooling_1d(pool_size = 2) %>%\n",
    "  layer_conv_1d(filters = 64, kernel_size = 3, activation = \"relu\") %>%\n",
    "  layer_max_pooling_1d(pool_size = 2) %>%\n",
    "  layer_flatten() %>%\n",
    "  layer_dense(units = 64, activation = \"relu\") %>%\n",
    "  layer_dropout(0.5) %>%\n",
    "  layer_dense(units = 1, activation = \"sigmoid\")"
   ]
  },
  {
   "cell_type": "code",
   "execution_count": 123,
   "metadata": {
    "vscode": {
     "languageId": "r"
    }
   },
   "outputs": [],
   "source": [
    "model %>% compile(\n",
    "  loss = \"binary_crossentropy\",\n",
    "  optimizer = optimizer_adam(),\n",
    "  metrics = c(\"accuracy\")\n",
    ")"
   ]
  },
  {
   "cell_type": "code",
   "execution_count": 124,
   "metadata": {
    "vscode": {
     "languageId": "r"
    }
   },
   "outputs": [],
   "source": [
    "set.seed(123)\n",
    "train_idx <- sample(1:num_subjects, size = 0.8 * num_subjects)\n",
    "x_train <- cnn_input[train_idx,,]\n",
    "y_train <- labels[train_idx]\n",
    "x_test <- cnn_input[-train_idx,,]\n",
    "y_test <- labels[-train_idx]\n",
    "\n",
    "history <- model %>% fit(\n",
    "  x_train, y_train,\n",
    "  epochs = 20,\n",
    "  batch_size = 8,\n",
    "  validation_split = 0.2\n",
    ")"
   ]
  },
  {
   "cell_type": "code",
   "execution_count": null,
   "metadata": {
    "vscode": {
     "languageId": "r"
    }
   },
   "outputs": [
    {
     "data": {
      "text/html": [
       "<style>\n",
       ".dl-inline {width: auto; margin:0; padding: 0}\n",
       ".dl-inline>dt, .dl-inline>dd {float: none; width: auto; display: inline-block}\n",
       ".dl-inline>dt::after {content: \":\\0020\"; padding-right: .5ex}\n",
       ".dl-inline>dt:not(:first-of-type) {padding-left: .5ex}\n",
       "</style><dl class=dl-inline><dt>loss</dt><dd>0.723955869674683</dd><dt>accuracy</dt><dd>0.550000011920929</dd></dl>\n"
      ],
      "text/latex": [
       "\\begin{description*}\n",
       "\\item[loss] 0.723955869674683\n",
       "\\item[accuracy] 0.550000011920929\n",
       "\\end{description*}\n"
      ],
      "text/markdown": [
       "loss\n",
       ":   0.723955869674683accuracy\n",
       ":   0.550000011920929\n",
       "\n"
      ],
      "text/plain": [
       "     loss  accuracy \n",
       "0.7239559 0.5500000 "
      ]
     },
     "metadata": {},
     "output_type": "display_data"
    },
    {
     "data": {
      "image/png": "[encoded data removed]",
      "text/plain": [
       "plot without title"
      ]
     },
     "metadata": {
      "image/png": {
       "height": 420,
       "width": 420
      }
     },
     "output_type": "display_data"
    }
   ],
   "source": [
    "model %>% evaluate(x_test, y_test)\n",
    "plot(history)"
   ]
  },
  {
   "cell_type": "markdown",
   "metadata": {},
   "source": [
    "### 1D CNN - V2 Deeper Network\n",
    "\n",
    "A deeper 1D Convolutional Neural Network (CNN) designed for time-series data, incorporating multiple convolutional layers, batch normalization, pooling, and dropout for robust feature extraction and classification.\n",
    "\n",
    "#### Architecture:\n",
    "1. **Input Layer**:\n",
    "   - Input shape: `(timesteps, features)` (e.g., `176 x 110`).\n",
    "\n",
    "2. **Convolutional Block 1**:\n",
    "   - **Conv1D**: 64 filters, kernel size = 5, activation = ReLU.\n",
    "   - **Batch Normalization**: Normalizes activations to improve training stability.\n",
    "   - **Max Pooling**: Pool size = 2, reduces spatial dimensions.\n",
    "   - **Dropout**: Rate = 0.3, prevents overfitting.\n",
    "\n",
    "3. **Convolutional Block 2**:\n",
    "   - **Conv1D**: 128 filters, kernel size = 5, activation = ReLU.\n",
    "   - **Batch Normalization**: Normalizes activations.\n",
    "   - **Max Pooling**: Pool size = 2.\n",
    "   - **Dropout**: Rate = 0.3.\n",
    "\n",
    "4. **Convolutional Block 3**:\n",
    "   - **Conv1D**: 256 filters, kernel size = 3, activation = ReLU.\n",
    "   - **Batch Normalization**: Normalizes activations.\n",
    "   - **Global Average Pooling**: Reduces each feature map to a single value.\n",
    "\n",
    "5. **Fully Connected Layers**:\n",
    "   - **Dense**: 64 units, activation = ReLU.\n",
    "   - **Dropout**: Rate = 0.5.\n",
    "   - **Dense**: 1 unit, activation = Sigmoid (for binary classification).\n",
    "\n",
    "#### Compilation:\n",
    "- **Optimizer**: Adam.\n",
    "- **Loss Function**: Binary Crossentropy.\n",
    "- **Metrics**: Accuracy."
   ]
  },
  {
   "cell_type": "code",
   "execution_count": null,
   "metadata": {
    "vscode": {
     "languageId": "r"
    }
   },
   "outputs": [],
   "source": [
    "input_shape <- c(176, 110) # [timesteps, features]\n",
    "x_train <- array_reshape(x_train, dim = c(dim(x_train)[1], 176, 110))\n",
    "x_test  <- array_reshape(x_test, dim = c(dim(x_test)[1], 176, 110))\n",
    "\n",
    "model <- keras_model_sequential() %>%\n",
    "  layer_conv_1d(filters = 64, kernel_size = 5, activation = 'relu', input_shape = c(176, 110)) %>%\n",
    "  layer_batch_normalization() %>%\n",
    "  layer_max_pooling_1d(pool_size = 2) %>%\n",
    "  layer_dropout(rate = 0.3) %>%\n",
    "\n",
    "  layer_conv_1d(filters = 128, kernel_size = 5, activation = 'relu') %>%\n",
    "  layer_batch_normalization() %>%\n",
    "  layer_max_pooling_1d(pool_size = 2) %>%\n",
    "  layer_dropout(rate = 0.3) %>%\n",
    "\n",
    "  layer_conv_1d(filters = 256, kernel_size = 3, activation = 'relu') %>%\n",
    "  layer_batch_normalization() %>%\n",
    "  layer_global_average_pooling_1d() %>%\n",
    "\n",
    "  layer_dense(units = 64, activation = 'relu') %>%\n",
    "  layer_dropout(rate = 0.5) %>%\n",
    "  layer_dense(units = 1, activation = 'sigmoid')\n",
    "\n",
    "model %>% compile(\n",
    "  optimizer = 'adam',\n",
    "  loss = 'binary_crossentropy',\n",
    "  metrics = 'accuracy'\n",
    ")\n",
    "\n",
    "history <- model %>% fit(\n",
    "  x = x_train,\n",
    "  y = y_train,\n",
    "  epochs = 30,\n",
    "  batch_size = 8,\n",
    "  validation_split = 0.2\n",
    ")"
   ]
  },
  {
   "cell_type": "code",
   "execution_count": 129,
   "metadata": {
    "vscode": {
     "languageId": "r"
    }
   },
   "outputs": [
    {
     "data": {
      "text/html": [
       "<style>\n",
       ".dl-inline {width: auto; margin:0; padding: 0}\n",
       ".dl-inline>dt, .dl-inline>dd {float: none; width: auto; display: inline-block}\n",
       ".dl-inline>dt::after {content: \":\\0020\"; padding-right: .5ex}\n",
       ".dl-inline>dt:not(:first-of-type) {padding-left: .5ex}\n",
       "</style><dl class=dl-inline><dt>loss</dt><dd>0.676690578460693</dd><dt>accuracy</dt><dd>0.75</dd></dl>\n"
      ],
      "text/latex": [
       "\\begin{description*}\n",
       "\\item[loss] 0.676690578460693\n",
       "\\item[accuracy] 0.75\n",
       "\\end{description*}\n"
      ],
      "text/markdown": [
       "loss\n",
       ":   0.676690578460693accuracy\n",
       ":   0.75\n",
       "\n"
      ],
      "text/plain": [
       "     loss  accuracy \n",
       "0.6766906 0.7500000 "
      ]
     },
     "metadata": {},
     "output_type": "display_data"
    },
    {
     "data": {
      "image/png": "[encoded data removed]",
      "text/plain": [
       "plot without title"
      ]
     },
     "metadata": {
      "image/png": {
       "height": 420,
       "width": 420
      }
     },
     "output_type": "display_data"
    }
   ],
   "source": [
    "model %>% evaluate(x_test, y_test)\n",
    "plot(history)"
   ]
  },
  {
   "cell_type": "markdown",
   "metadata": {},
   "source": [
    "### 1D CNN - V3 Larger Kernel Sizes"
   ]
  },
  {
   "cell_type": "code",
   "execution_count": 130,
   "metadata": {
    "vscode": {
     "languageId": "r"
    }
   },
   "outputs": [],
   "source": [
    "model_large_kernel <- keras_model_sequential() %>%\n",
    "  layer_conv_1d(filters = 64, kernel_size = 7, activation = \"relu\", input_shape = c(176, 110)) %>%\n",
    "  layer_max_pooling_1d(pool_size = 2) %>%\n",
    "  layer_conv_1d(filters = 128, kernel_size = 5, activation = \"relu\") %>%\n",
    "  layer_max_pooling_1d(pool_size = 2) %>%\n",
    "  layer_flatten() %>%\n",
    "  layer_dense(units = 64, activation = \"relu\") %>%\n",
    "  layer_dense(units = 1, activation = \"sigmoid\")\n",
    "\n",
    "model_large_kernel %>% compile(\n",
    "  loss = \"binary_crossentropy\",\n",
    "  optimizer = optimizer_adam(),\n",
    "  metrics = \"accuracy\"\n",
    ")"
   ]
  },
  {
   "cell_type": "code",
   "execution_count": 131,
   "metadata": {
    "vscode": {
     "languageId": "r"
    }
   },
   "outputs": [
    {
     "data": {
      "text/html": [
       "<style>\n",
       ".dl-inline {width: auto; margin:0; padding: 0}\n",
       ".dl-inline>dt, .dl-inline>dd {float: none; width: auto; display: inline-block}\n",
       ".dl-inline>dt::after {content: \":\\0020\"; padding-right: .5ex}\n",
       ".dl-inline>dt:not(:first-of-type) {padding-left: .5ex}\n",
       "</style><dl class=dl-inline><dt>loss</dt><dd>3.34562945365906</dd><dt>accuracy</dt><dd>0.5</dd></dl>\n"
      ],
      "text/latex": [
       "\\begin{description*}\n",
       "\\item[loss] 3.34562945365906\n",
       "\\item[accuracy] 0.5\n",
       "\\end{description*}\n"
      ],
      "text/markdown": [
       "loss\n",
       ":   3.34562945365906accuracy\n",
       ":   0.5\n",
       "\n"
      ],
      "text/plain": [
       "    loss accuracy \n",
       "3.345629 0.500000 "
      ]
     },
     "metadata": {},
     "output_type": "display_data"
    },
    {
     "data": {
      "image/png": "[encoded data removed]",
      "text/plain": [
       "plot without title"
      ]
     },
     "metadata": {
      "image/png": {
       "height": 420,
       "width": 420
      }
     },
     "output_type": "display_data"
    }
   ],
   "source": [
    "history <- model_large_kernel %>% fit(\n",
    "  x = x_train,\n",
    "  y = y_train,\n",
    "  epochs = 30,\n",
    "  batch_size = 8,\n",
    "  validation_split = 0.2,\n",
    "  verbose = 2\n",
    ")\n",
    "\n",
    "model_large_kernel %>% evaluate(x_test, y_test)\n",
    "plot(history)\n"
   ]
  },
  {
   "cell_type": "markdown",
   "metadata": {},
   "source": [
    "### 1D CNN - V4 More Filters and Dense Units "
   ]
  },
  {
   "cell_type": "code",
   "execution_count": 51,
   "metadata": {
    "vscode": {
     "languageId": "r"
    }
   },
   "outputs": [],
   "source": [
    "model_more_filters <- keras_model_sequential() %>%\n",
    "  layer_conv_1d(filters = 128, kernel_size = 3, activation = \"relu\", input_shape = c(176, 110)) %>%\n",
    "  layer_max_pooling_1d(pool_size = 2) %>%\n",
    "  layer_conv_1d(filters = 256, kernel_size = 3, activation = \"relu\") %>%\n",
    "  layer_max_pooling_1d(pool_size = 2) %>%\n",
    "  layer_flatten() %>%\n",
    "  layer_dense(units = 128, activation = \"relu\") %>%\n",
    "  layer_dense(units = 1, activation = \"sigmoid\")\n",
    "\n",
    "model_more_filters %>% compile(\n",
    "  loss = \"binary_crossentropy\",\n",
    "  optimizer = optimizer_adam(),\n",
    "  metrics = \"accuracy\"\n",
    ")"
   ]
  },
  {
   "cell_type": "code",
   "execution_count": 53,
   "metadata": {
    "vscode": {
     "languageId": "r"
    }
   },
   "outputs": [
    {
     "data": {
      "text/html": [
       "<style>\n",
       ".dl-inline {width: auto; margin:0; padding: 0}\n",
       ".dl-inline>dt, .dl-inline>dd {float: none; width: auto; display: inline-block}\n",
       ".dl-inline>dt::after {content: \":\\0020\"; padding-right: .5ex}\n",
       ".dl-inline>dt:not(:first-of-type) {padding-left: .5ex}\n",
       "</style><dl class=dl-inline><dt>loss</dt><dd>2.65792417526245</dd><dt>accuracy</dt><dd>0.449999988079071</dd></dl>\n"
      ],
      "text/latex": [
       "\\begin{description*}\n",
       "\\item[loss] 2.65792417526245\n",
       "\\item[accuracy] 0.449999988079071\n",
       "\\end{description*}\n"
      ],
      "text/markdown": [
       "loss\n",
       ":   2.65792417526245accuracy\n",
       ":   0.449999988079071\n",
       "\n"
      ],
      "text/plain": [
       "    loss accuracy \n",
       "2.657924 0.450000 "
      ]
     },
     "metadata": {},
     "output_type": "display_data"
    },
    {
     "data": {
      "image/png": "[encoded data removed]",
      "text/plain": [
       "plot without title"
      ]
     },
     "metadata": {
      "image/png": {
       "height": 420,
       "width": 420
      }
     },
     "output_type": "display_data"
    }
   ],
   "source": [
    "history <- model_more_filters %>% fit(\n",
    "  x = x_train,\n",
    "  y = y_train,\n",
    "  epochs = 30,\n",
    "  batch_size = 8,\n",
    "  validation_split = 0.2,\n",
    "  verbose = 2\n",
    ")\n",
    "\n",
    "model_more_filters %>% evaluate(x_test, y_test)\n",
    "plot(history)\n"
   ]
  },
  {
   "cell_type": "markdown",
   "metadata": {},
   "source": [
    "### 1D CNN - V5 Dropout for Regularization"
   ]
  },
  {
   "cell_type": "code",
   "execution_count": null,
   "metadata": {
    "vscode": {
     "languageId": "r"
    }
   },
   "outputs": [],
   "source": [
    "model_dropout <- keras_model_sequential() %>%\n",
    "  layer_conv_1d(filters = 64, kernel_size = 3, activation = \"relu\", input_shape = c(176, 110)) %>%\n",
    "  layer_max_pooling_1d(pool_size = 2) %>%\n",
    "  layer_dropout(0.3) %>%\n",
    "  layer_conv_1d(filters = 128, kernel_size = 3, activation = \"relu\") %>%\n",
    "  layer_max_pooling_1d(pool_size = 2) %>%\n",
    "  layer_dropout(0.3) %>%\n",
    "  layer_flatten() %>%\n",
    "  layer_dense(units = 64, activation = \"relu\") %>%\n",
    "  layer_dense(units = 1, activation = \"sigmoid\")\n",
    "\n",
    "model_dropout %>% compile(\n",
    "  loss = \"binary_crossentropy\",\n",
    "  optimizer = optimizer_adam(),\n",
    "  metrics = \"accuracy\"\n",
    ")\n"
   ]
  },
  {
   "cell_type": "code",
   "execution_count": 55,
   "metadata": {
    "vscode": {
     "languageId": "r"
    }
   },
   "outputs": [
    {
     "data": {
      "text/html": [
       "<style>\n",
       ".dl-inline {width: auto; margin:0; padding: 0}\n",
       ".dl-inline>dt, .dl-inline>dd {float: none; width: auto; display: inline-block}\n",
       ".dl-inline>dt::after {content: \":\\0020\"; padding-right: .5ex}\n",
       ".dl-inline>dt:not(:first-of-type) {padding-left: .5ex}\n",
       "</style><dl class=dl-inline><dt>loss</dt><dd>1.11898684501648</dd><dt>accuracy</dt><dd>0.400000005960464</dd></dl>\n"
      ],
      "text/latex": [
       "\\begin{description*}\n",
       "\\item[loss] 1.11898684501648\n",
       "\\item[accuracy] 0.400000005960464\n",
       "\\end{description*}\n"
      ],
      "text/markdown": [
       "loss\n",
       ":   1.11898684501648accuracy\n",
       ":   0.400000005960464\n",
       "\n"
      ],
      "text/plain": [
       "    loss accuracy \n",
       "1.118987 0.400000 "
      ]
     },
     "metadata": {},
     "output_type": "display_data"
    },
    {
     "data": {
      "image/png": "[encoded data removed]",
      "text/plain": [
       "plot without title"
      ]
     },
     "metadata": {
      "image/png": {
       "height": 420,
       "width": 420
      }
     },
     "output_type": "display_data"
    }
   ],
   "source": [
    "history <- model_dropout %>% fit(\n",
    "  x = x_train,\n",
    "  y = y_train,\n",
    "  epochs = 30,\n",
    "  batch_size = 8,\n",
    "  validation_split = 0.2,\n",
    "  verbose = 2\n",
    ")\n",
    "\n",
    "model_dropout %>% evaluate(x_test, y_test)\n",
    "plot(history)\n"
   ]
  },
  {
   "cell_type": "markdown",
   "metadata": {},
   "source": [
    "### 1D CNN - V6 Batch Normalization"
   ]
  },
  {
   "cell_type": "code",
   "execution_count": 56,
   "metadata": {
    "vscode": {
     "languageId": "r"
    }
   },
   "outputs": [],
   "source": [
    "model_batchnorm <- keras_model_sequential() %>%\n",
    "  layer_conv_1d(filters = 64, kernel_size = 3, input_shape = c(176, 110)) %>%\n",
    "  layer_batch_normalization() %>%\n",
    "  layer_activation(\"relu\") %>%\n",
    "  layer_max_pooling_1d(pool_size = 2) %>%\n",
    "  layer_conv_1d(filters = 128, kernel_size = 3) %>%\n",
    "  layer_batch_normalization() %>%\n",
    "  layer_activation(\"relu\") %>%\n",
    "  layer_max_pooling_1d(pool_size = 2) %>%\n",
    "  layer_flatten() %>%\n",
    "  layer_dense(units = 64, activation = \"relu\") %>%\n",
    "  layer_dense(units = 1, activation = \"sigmoid\")\n",
    "\n",
    "model_batchnorm %>% compile(\n",
    "  loss = \"binary_crossentropy\",\n",
    "  optimizer = optimizer_adam(),\n",
    "  metrics = \"accuracy\"\n",
    ")\n"
   ]
  },
  {
   "cell_type": "code",
   "execution_count": 57,
   "metadata": {
    "vscode": {
     "languageId": "r"
    }
   },
   "outputs": [
    {
     "data": {
      "text/html": [
       "<style>\n",
       ".dl-inline {width: auto; margin:0; padding: 0}\n",
       ".dl-inline>dt, .dl-inline>dd {float: none; width: auto; display: inline-block}\n",
       ".dl-inline>dt::after {content: \":\\0020\"; padding-right: .5ex}\n",
       ".dl-inline>dt:not(:first-of-type) {padding-left: .5ex}\n",
       "</style><dl class=dl-inline><dt>loss</dt><dd>1.43163168430328</dd><dt>accuracy</dt><dd>0.400000005960464</dd></dl>\n"
      ],
      "text/latex": [
       "\\begin{description*}\n",
       "\\item[loss] 1.43163168430328\n",
       "\\item[accuracy] 0.400000005960464\n",
       "\\end{description*}\n"
      ],
      "text/markdown": [
       "loss\n",
       ":   1.43163168430328accuracy\n",
       ":   0.400000005960464\n",
       "\n"
      ],
      "text/plain": [
       "    loss accuracy \n",
       "1.431632 0.400000 "
      ]
     },
     "metadata": {},
     "output_type": "display_data"
    },
    {
     "data": {
      "image/png": "[encoded data removed]",
      "text/plain": [
       "plot without title"
      ]
     },
     "metadata": {
      "image/png": {
       "height": 420,
       "width": 420
      }
     },
     "output_type": "display_data"
    }
   ],
   "source": [
    "history <- model_batchnorm %>% fit(\n",
    "  x = x_train,\n",
    "  y = y_train,\n",
    "  epochs = 30,\n",
    "  batch_size = 8,\n",
    "  validation_split = 0.2,\n",
    "  verbose = 2\n",
    ")\n",
    "\n",
    "model_batchnorm %>% evaluate(x_test, y_test)\n",
    "plot(history)\n"
   ]
  },
  {
   "cell_type": "markdown",
   "metadata": {},
   "source": [
    "### 1D CNN - V7 Deeper CNN with more filters"
   ]
  },
  {
   "cell_type": "code",
   "execution_count": 72,
   "metadata": {
    "vscode": {
     "languageId": "r"
    }
   },
   "outputs": [],
   "source": [
    "model2 <- keras_model_sequential() %>%\n",
    "  layer_conv_1d(filters = 64, kernel_size = 5, activation = \"relu\", input_shape = c(176, 110)) %>%\n",
    "  layer_conv_1d(filters = 128, kernel_size = 3, activation = \"relu\") %>%\n",
    "  layer_max_pooling_1d(pool_size = 2) %>%\n",
    "  layer_dropout(0.4) %>%\n",
    "  layer_flatten() %>%\n",
    "  layer_dense(units = 128, activation = \"relu\") %>%\n",
    "  layer_dropout(0.4) %>%\n",
    "  layer_dense(units = 1, activation = \"sigmoid\")\n",
    "\n",
    "model2 %>% compile(\n",
    "  optimizer = \"adam\",\n",
    "  loss = \"binary_crossentropy\",\n",
    "  metrics = c(\"accuracy\")\n",
    ")"
   ]
  },
  {
   "cell_type": "code",
   "execution_count": 73,
   "metadata": {
    "vscode": {
     "languageId": "r"
    }
   },
   "outputs": [
    {
     "data": {
      "text/html": [
       "<style>\n",
       ".dl-inline {width: auto; margin:0; padding: 0}\n",
       ".dl-inline>dt, .dl-inline>dd {float: none; width: auto; display: inline-block}\n",
       ".dl-inline>dt::after {content: \":\\0020\"; padding-right: .5ex}\n",
       ".dl-inline>dt:not(:first-of-type) {padding-left: .5ex}\n",
       "</style><dl class=dl-inline><dt>loss</dt><dd>1.63368701934814</dd><dt>accuracy</dt><dd>0.349999994039536</dd></dl>\n"
      ],
      "text/latex": [
       "\\begin{description*}\n",
       "\\item[loss] 1.63368701934814\n",
       "\\item[accuracy] 0.349999994039536\n",
       "\\end{description*}\n"
      ],
      "text/markdown": [
       "loss\n",
       ":   1.63368701934814accuracy\n",
       ":   0.349999994039536\n",
       "\n"
      ],
      "text/plain": [
       "    loss accuracy \n",
       "1.633687 0.350000 "
      ]
     },
     "metadata": {},
     "output_type": "display_data"
    },
    {
     "data": {
      "image/png": "[encoded data removed]",
      "text/plain": [
       "plot without title"
      ]
     },
     "metadata": {
      "image/png": {
       "height": 420,
       "width": 420
      }
     },
     "output_type": "display_data"
    }
   ],
   "source": [
    "history <- model2 %>% fit(\n",
    "  x = x_train,\n",
    "  y = y_train,\n",
    "  epochs = 30,\n",
    "  batch_size = 8,\n",
    "  validation_split = 0.2,\n",
    "  verbose = 2\n",
    ")\n",
    "\n",
    "model2 %>% evaluate(x_test, y_test)\n",
    "plot(history)\n"
   ]
  },
  {
   "cell_type": "markdown",
   "metadata": {},
   "source": [
    "### 1D CNN - V8 Deeper CNN with smaller kernels"
   ]
  },
  {
   "cell_type": "code",
   "execution_count": 132,
   "metadata": {
    "vscode": {
     "languageId": "r"
    }
   },
   "outputs": [],
   "source": [
    "model3 <- keras_model_sequential() %>%\n",
    "  layer_conv_1d(filters = 32, kernel_size = 3, activation = \"relu\", input_shape = c(176, 110)) %>%\n",
    "  layer_conv_1d(filters = 64, kernel_size = 3, activation = \"relu\") %>%\n",
    "  layer_conv_1d(filters = 128, kernel_size = 3, activation = \"relu\") %>%\n",
    "  layer_max_pooling_1d(pool_size = 2) %>%\n",
    "  layer_dropout(0.5) %>%\n",
    "  layer_flatten() %>%\n",
    "  layer_dense(units = 64, activation = \"relu\") %>%\n",
    "  layer_dense(units = 1, activation = \"sigmoid\")\n",
    "\n",
    "model3 %>% compile(\n",
    "  optimizer = \"adam\",\n",
    "  loss = \"binary_crossentropy\",\n",
    "  metrics = c(\"accuracy\")\n",
    ")"
   ]
  },
  {
   "cell_type": "code",
   "execution_count": 133,
   "metadata": {
    "vscode": {
     "languageId": "r"
    }
   },
   "outputs": [
    {
     "data": {
      "text/html": [
       "<style>\n",
       ".dl-inline {width: auto; margin:0; padding: 0}\n",
       ".dl-inline>dt, .dl-inline>dd {float: none; width: auto; display: inline-block}\n",
       ".dl-inline>dt::after {content: \":\\0020\"; padding-right: .5ex}\n",
       ".dl-inline>dt:not(:first-of-type) {padding-left: .5ex}\n",
       "</style><dl class=dl-inline><dt>loss</dt><dd>1.26891195774078</dd><dt>accuracy</dt><dd>0.5</dd></dl>\n"
      ],
      "text/latex": [
       "\\begin{description*}\n",
       "\\item[loss] 1.26891195774078\n",
       "\\item[accuracy] 0.5\n",
       "\\end{description*}\n"
      ],
      "text/markdown": [
       "loss\n",
       ":   1.26891195774078accuracy\n",
       ":   0.5\n",
       "\n"
      ],
      "text/plain": [
       "    loss accuracy \n",
       "1.268912 0.500000 "
      ]
     },
     "metadata": {},
     "output_type": "display_data"
    },
    {
     "data": {
      "image/png": "[encoded data removed]",
      "text/plain": [
       "plot without title"
      ]
     },
     "metadata": {
      "image/png": {
       "height": 420,
       "width": 420
      }
     },
     "output_type": "display_data"
    }
   ],
   "source": [
    "history <- model3 %>% fit(\n",
    "  x = x_train,\n",
    "  y = y_train,\n",
    "  epochs = 30,\n",
    "  batch_size = 8,\n",
    "  validation_split = 0.2,\n",
    "  verbose = 2\n",
    ")\n",
    "\n",
    "model3 %>% evaluate(x_test, y_test)\n",
    "plot(history)\n"
   ]
  },
  {
   "cell_type": "markdown",
   "metadata": {},
   "source": [
    "### 1D CNN - V9 Deeper CNN with More Convolutional Layers"
   ]
  },
  {
   "cell_type": "code",
   "execution_count": 134,
   "metadata": {
    "vscode": {
     "languageId": "r"
    }
   },
   "outputs": [],
   "source": [
    "model_v1 <- keras_model_sequential() %>%\n",
    "  layer_conv_1d(filters = 32, kernel_size = 3, activation = 'relu', input_shape = c(176, 110)) %>%\n",
    "  layer_conv_1d(filters = 64, kernel_size = 3, activation = 'relu') %>%\n",
    "  layer_max_pooling_1d(pool_size = 2) %>%\n",
    "  layer_conv_1d(filters = 128, kernel_size = 3, activation = 'relu') %>%\n",
    "  layer_max_pooling_1d(pool_size = 2) %>%\n",
    "  layer_flatten() %>%\n",
    "  layer_dense(units = 128, activation = 'relu') %>%\n",
    "  layer_dropout(rate = 0.4) %>%\n",
    "  layer_dense(units = 2, activation = 'softmax')\n",
    "\n",
    "\n",
    "model_v1 %>% compile(\n",
    "  optimizer = \"adam\",\n",
    "  loss = \"sparse_categorical_crossentropy\",\n",
    "  metrics = c(\"accuracy\")\n",
    ")"
   ]
  },
  {
   "cell_type": "code",
   "execution_count": 135,
   "metadata": {
    "vscode": {
     "languageId": "r"
    }
   },
   "outputs": [
    {
     "data": {
      "text/html": [
       "<style>\n",
       ".dl-inline {width: auto; margin:0; padding: 0}\n",
       ".dl-inline>dt, .dl-inline>dd {float: none; width: auto; display: inline-block}\n",
       ".dl-inline>dt::after {content: \":\\0020\"; padding-right: .5ex}\n",
       ".dl-inline>dt:not(:first-of-type) {padding-left: .5ex}\n",
       "</style><dl class=dl-inline><dt>loss</dt><dd>1.31919479370117</dd><dt>accuracy</dt><dd>0.600000023841858</dd></dl>\n"
      ],
      "text/latex": [
       "\\begin{description*}\n",
       "\\item[loss] 1.31919479370117\n",
       "\\item[accuracy] 0.600000023841858\n",
       "\\end{description*}\n"
      ],
      "text/markdown": [
       "loss\n",
       ":   1.31919479370117accuracy\n",
       ":   0.600000023841858\n",
       "\n"
      ],
      "text/plain": [
       "    loss accuracy \n",
       "1.319195 0.600000 "
      ]
     },
     "metadata": {},
     "output_type": "display_data"
    },
    {
     "data": {
      "image/png": "[encoded data removed]",
      "text/plain": [
       "plot without title"
      ]
     },
     "metadata": {
      "image/png": {
       "height": 420,
       "width": 420
      }
     },
     "output_type": "display_data"
    }
   ],
   "source": [
    "history <- model_v1 %>% fit(\n",
    "  x = x_train,\n",
    "  y = y_train,\n",
    "  epochs = 30,\n",
    "  batch_size = 8,\n",
    "  validation_split = 0.2,\n",
    "  verbose = 2\n",
    ")\n",
    "\n",
    "model_v1 %>% evaluate(x_test, y_test)\n",
    "plot(history)\n"
   ]
  },
  {
   "cell_type": "markdown",
   "metadata": {},
   "source": [
    "### 1D CNN - V10 Deeper CNN with batch normalization"
   ]
  },
  {
   "cell_type": "code",
   "execution_count": 88,
   "metadata": {
    "vscode": {
     "languageId": "r"
    }
   },
   "outputs": [],
   "source": [
    "model_v2 <- keras_model_sequential() %>%\n",
    "  layer_conv_1d(filters = 64, kernel_size = 5, activation = 'relu', input_shape = c(176, 110)) %>%\n",
    "  layer_batch_normalization() %>%\n",
    "  layer_max_pooling_1d(pool_size = 2) %>%\n",
    "  layer_conv_1d(filters = 128, kernel_size = 5, activation = 'relu') %>%\n",
    "  layer_batch_normalization() %>%\n",
    "  layer_max_pooling_1d(pool_size = 2) %>%\n",
    "  layer_flatten() %>%\n",
    "  layer_dense(units = 64, activation = 'relu') %>%\n",
    "  layer_dropout(rate = 0.5) %>%\n",
    "  layer_dense(units = 2, activation = 'softmax')\n",
    "\n",
    "model_v2 %>% compile(\n",
    "  optimizer = \"adam\",\n",
    "  loss = \"sparse_categorical_crossentropy\",\n",
    "  metrics = c(\"accuracy\")\n",
    ")"
   ]
  },
  {
   "cell_type": "code",
   "execution_count": 89,
   "metadata": {
    "vscode": {
     "languageId": "r"
    }
   },
   "outputs": [
    {
     "data": {
      "text/html": [
       "<style>\n",
       ".dl-inline {width: auto; margin:0; padding: 0}\n",
       ".dl-inline>dt, .dl-inline>dd {float: none; width: auto; display: inline-block}\n",
       ".dl-inline>dt::after {content: \":\\0020\"; padding-right: .5ex}\n",
       ".dl-inline>dt:not(:first-of-type) {padding-left: .5ex}\n",
       "</style><dl class=dl-inline><dt>loss</dt><dd>2.03963017463684</dd><dt>accuracy</dt><dd>0.449999988079071</dd></dl>\n"
      ],
      "text/latex": [
       "\\begin{description*}\n",
       "\\item[loss] 2.03963017463684\n",
       "\\item[accuracy] 0.449999988079071\n",
       "\\end{description*}\n"
      ],
      "text/markdown": [
       "loss\n",
       ":   2.03963017463684accuracy\n",
       ":   0.449999988079071\n",
       "\n"
      ],
      "text/plain": [
       "    loss accuracy \n",
       " 2.03963  0.45000 "
      ]
     },
     "metadata": {},
     "output_type": "display_data"
    },
    {
     "data": {
      "image/png": "[encoded data removed]",
      "text/plain": [
       "plot without title"
      ]
     },
     "metadata": {
      "image/png": {
       "height": 420,
       "width": 420
      }
     },
     "output_type": "display_data"
    }
   ],
   "source": [
    "history <- model_v2 %>% fit(\n",
    "  x = x_train,\n",
    "  y = y_train,\n",
    "  epochs = 30,\n",
    "  batch_size = 8,\n",
    "  validation_split = 0.2,\n",
    "  verbose = 2\n",
    ")\n",
    "\n",
    "model_v2 %>% evaluate(x_test, y_test)\n",
    "plot(history)\n"
   ]
  },
  {
   "cell_type": "markdown",
   "metadata": {},
   "source": [
    "### 1D CNN - V11 Deeper CNN with Wider Dense Layers with L2 Regularization"
   ]
  },
  {
   "cell_type": "code",
   "execution_count": 96,
   "metadata": {
    "vscode": {
     "languageId": "r"
    }
   },
   "outputs": [],
   "source": [
    "model_v3 <- keras_model_sequential() %>%\n",
    "  layer_conv_1d(filters = 64, kernel_size = 5, activation = 'relu', input_shape = c(176, 110)) %>%\n",
    "  layer_max_pooling_1d(pool_size = 2) %>%\n",
    "  layer_conv_1d(filters = 128, kernel_size = 5, activation = 'relu') %>%\n",
    "  layer_max_pooling_1d(pool_size = 2) %>%\n",
    "  layer_flatten() %>%\n",
    "  layer_dense(units = 256, activation = 'relu', kernel_regularizer = regularizer_l2(0.001)) %>%\n",
    "  layer_dropout(rate = 0.4) %>%\n",
    "  layer_dense(units = 2, activation = 'softmax')\n",
    "\n",
    "model_v3 %>% compile(\n",
    "  optimizer = \"adam\",\n",
    "  loss = \"sparse_categorical_crossentropy\",\n",
    "  metrics = c(\"accuracy\")\n",
    ")"
   ]
  },
  {
   "cell_type": "code",
   "execution_count": 97,
   "metadata": {
    "vscode": {
     "languageId": "r"
    }
   },
   "outputs": [
    {
     "data": {
      "text/html": [
       "<style>\n",
       ".dl-inline {width: auto; margin:0; padding: 0}\n",
       ".dl-inline>dt, .dl-inline>dd {float: none; width: auto; display: inline-block}\n",
       ".dl-inline>dt::after {content: \":\\0020\"; padding-right: .5ex}\n",
       ".dl-inline>dt:not(:first-of-type) {padding-left: .5ex}\n",
       "</style><dl class=dl-inline><dt>loss</dt><dd>2.77930808067322</dd><dt>accuracy</dt><dd>0.550000011920929</dd></dl>\n"
      ],
      "text/latex": [
       "\\begin{description*}\n",
       "\\item[loss] 2.77930808067322\n",
       "\\item[accuracy] 0.550000011920929\n",
       "\\end{description*}\n"
      ],
      "text/markdown": [
       "loss\n",
       ":   2.77930808067322accuracy\n",
       ":   0.550000011920929\n",
       "\n"
      ],
      "text/plain": [
       "    loss accuracy \n",
       "2.779308 0.550000 "
      ]
     },
     "metadata": {},
     "output_type": "display_data"
    },
    {
     "data": {
      "image/png": "[encoded data removed]",
      "text/plain": [
       "plot without title"
      ]
     },
     "metadata": {
      "image/png": {
       "height": 420,
       "width": 420
      }
     },
     "output_type": "display_data"
    }
   ],
   "source": [
    "history <- model_v3 %>% fit(\n",
    "  x = x_train,\n",
    "  y = y_train,\n",
    "  epochs = 30,\n",
    "  batch_size = 8,\n",
    "  validation_split = 0.2,\n",
    "  verbose = 2\n",
    ")\n",
    "\n",
    "model_v3 %>% evaluate(x_test, y_test)\n",
    "plot(history)\n"
   ]
  },
  {
   "cell_type": "markdown",
   "metadata": {},
   "source": [
    "### Hyperparameter tuning & Cross Validation - 1D CNN"
   ]
  },
  {
   "cell_type": "code",
   "execution_count": 204,
   "metadata": {
    "vscode": {
     "languageId": "r"
    }
   },
   "outputs": [
    {
     "name": "stdout",
     "output_type": "stream",
     "text": [
      "    filters kernel_size depth dropout_rate use_batch_norm mean_accuracy\n",
      "107      64           5     4          0.4          FALSE         0.625\n",
      "     loss  accuracy \n",
      "0.7004335 0.5000000 \n"
     ]
    },
    {
     "data": {
      "image/png": "[encoded data removed]",
      "text/plain": [
       "plot without title"
      ]
     },
     "metadata": {
      "image/png": {
       "height": 420,
       "width": 420
      }
     },
     "output_type": "display_data"
    }
   ],
   "source": [
    "# Define a function to create 1D CNN models with optional batch normalization and varying depths\n",
    "create_cnn_model <- function(filters = 64, kernel_size = 3, depth = 2, dropout_rate = 0.3, use_batch_norm = FALSE) {\n",
    "  input <- layer_input(shape = c(176, 110))\n",
    "  \n",
    "  # Add convolutional layers with optional batch normalization based on the depth\n",
    "  cnn_out <- input\n",
    "  for (i in seq_len(depth)) {\n",
    "    cnn_out <- cnn_out %>%\n",
    "      layer_conv_1d(filters = filters, kernel_size = kernel_size, activation = \"relu\")\n",
    "    \n",
    "    if (use_batch_norm) {\n",
    "      cnn_out <- cnn_out %>%\n",
    "        layer_batch_normalization()  # Add batch normalization if enabled\n",
    "    }\n",
    "    \n",
    "    cnn_out <- cnn_out %>%\n",
    "      layer_max_pooling_1d(pool_size = 2) %>%\n",
    "      layer_dropout(rate = dropout_rate)\n",
    "  }\n",
    "  \n",
    "  # Fully connected layers\n",
    "  output <- cnn_out %>%\n",
    "    layer_flatten() %>%\n",
    "    layer_dense(units = 64, activation = \"relu\") %>%\n",
    "    layer_dropout(rate = dropout_rate) %>%\n",
    "    layer_dense(units = 2, activation = \"softmax\")\n",
    "  \n",
    "  # Build and compile the model\n",
    "  model <- keras_model(inputs = input, outputs = output)\n",
    "  model %>% compile(\n",
    "    optimizer = \"adam\",\n",
    "    loss = \"categorical_crossentropy\",\n",
    "    metrics = \"accuracy\"\n",
    "  )\n",
    "  \n",
    "  return(model)\n",
    "}\n",
    "\n",
    "# Define hyperparameter grid\n",
    "hyper_grid <- expand.grid(\n",
    "  filters = c(32, 64, 128),\n",
    "  kernel_size = c(3, 5),\n",
    "  depth = c(2, 3, 4),  # Different depths of the network\n",
    "  dropout_rate = c(0.2, 0.3, 0.4),\n",
    "  use_batch_norm = c(TRUE, FALSE)  # Include batch normalization as a hyperparameter\n",
    ")\n",
    "\n",
    "# Cross-validation setup\n",
    "k_folds <- 5\n",
    "cv_results <- data.frame()\n",
    "\n",
    "# Generate fold indices manually\n",
    "set.seed(123)\n",
    "fold_indices <- split(seq_len(dim(X_train)[1]), rep(1:k_folds, length.out = dim(X_train)[1]))\n",
    "\n",
    "# Perform k-fold cross-validation\n",
    "for (i in seq_len(nrow(hyper_grid))) {\n",
    "  params <- hyper_grid[i, ]\n",
    "  fold_accuracies <- c()\n",
    "  \n",
    "  for (fold in seq_len(k_folds)) {\n",
    "    # Split data into training and validation sets\n",
    "    val_indices <- fold_indices[[fold]]\n",
    "    train_indices <- setdiff(seq_len(dim(X_train)[1]), val_indices)\n",
    "    \n",
    "    X_train_fold <- X_train[train_indices, , ]\n",
    "    y_train_fold <- y_train[train_indices, ]\n",
    "    X_val_fold <- X_train[val_indices, , ]\n",
    "    y_val_fold <- y_train[val_indices, ]\n",
    "    \n",
    "    # Create and train the model\n",
    "    model <- create_cnn_model(\n",
    "      filters = params$filters,\n",
    "      kernel_size = params$kernel_size,\n",
    "      depth = params$depth,\n",
    "      dropout_rate = params$dropout_rate,\n",
    "      use_batch_norm = params$use_batch_norm\n",
    "    )\n",
    "    \n",
    "    history <- model %>% fit(\n",
    "      X_train_fold, y_train_fold,\n",
    "      epochs = 10,  # Use fewer epochs for faster tuning\n",
    "      batch_size = 8,\n",
    "      validation_data = list(X_val_fold, y_val_fold),\n",
    "      verbose = 0\n",
    "    )\n",
    "    \n",
    "    # Evaluate on validation set\n",
    "    eval_result <- model %>% evaluate(X_val_fold, y_val_fold, verbose = 0)\n",
    "    val_accuracy <- eval_result[[2]]  # Accuracy is the second element\n",
    "    fold_accuracies <- c(fold_accuracies, val_accuracy)\n",
    "  }\n",
    "  \n",
    "  # Store results\n",
    "  mean_accuracy <- mean(fold_accuracies)\n",
    "  cv_results <- rbind(cv_results, cbind(params, mean_accuracy))\n",
    "}\n",
    "\n",
    "# Find the best hyperparameters\n",
    "best_params <- cv_results[which.max(cv_results$mean_accuracy), ]\n",
    "print(best_params)\n",
    "\n",
    "# Train the final model with the best hyperparameters\n",
    "final_model <- create_cnn_model(\n",
    "  filters = best_params$filters,\n",
    "  kernel_size = best_params$kernel_size,\n",
    "  depth = best_params$depth,\n",
    "  dropout_rate = best_params$dropout_rate,\n",
    "  use_batch_norm = best_params$use_batch_norm\n",
    ")\n",
    "\n",
    "history <- final_model %>% fit(\n",
    "  X_train, y_train,\n",
    "  epochs = 30,\n",
    "  batch_size = 8,\n",
    "  validation_data = list(X_test, y_test)\n",
    ")\n",
    "\n",
    "# Evaluate the final model\n",
    "final_eval <- final_model %>% evaluate(X_test, y_test)\n",
    "print(final_eval)\n",
    "plot(history)"
   ]
  },
  {
   "cell_type": "code",
   "execution_count": 206,
   "metadata": {
    "vscode": {
     "languageId": "r"
    }
   },
   "outputs": [
    {
     "name": "stdout",
     "output_type": "stream",
     "text": [
      "Model: \"model_1462\"\n",
      "________________________________________________________________________________\n",
      " Layer (type)                       Output Shape                    Param #     \n",
      "================================================================================\n",
      " input_1481 (InputLayer)            [(None, 176, 110)]              0           \n",
      " conv1d_1996 (Conv1D)               (None, 172, 64)                 35264       \n",
      " max_pooling1d_1971 (MaxPooling1D)  (None, 86, 64)                  0           \n",
      " dropout_3836 (Dropout)             (None, 86, 64)                  0           \n",
      " conv1d_1997 (Conv1D)               (None, 82, 64)                  20544       \n",
      " max_pooling1d_1972 (MaxPooling1D)  (None, 41, 64)                  0           \n",
      " dropout_3837 (Dropout)             (None, 41, 64)                  0           \n",
      " conv1d_1998 (Conv1D)               (None, 37, 64)                  20544       \n",
      " max_pooling1d_1973 (MaxPooling1D)  (None, 18, 64)                  0           \n",
      " dropout_3838 (Dropout)             (None, 18, 64)                  0           \n",
      " conv1d_1999 (Conv1D)               (None, 14, 64)                  20544       \n",
      " max_pooling1d_1974 (MaxPooling1D)  (None, 7, 64)                   0           \n",
      " dropout_3839 (Dropout)             (None, 7, 64)                   0           \n",
      " flatten_574 (Flatten)              (None, 448)                     0           \n",
      " dense_4468 (Dense)                 (None, 64)                      28736       \n",
      " dropout_3840 (Dropout)             (None, 64)                      0           \n",
      " dense_4467 (Dense)                 (None, 2)                       130         \n",
      "================================================================================\n",
      "Total params: 125,762\n",
      "Trainable params: 125,762\n",
      "Non-trainable params: 0\n",
      "________________________________________________________________________________\n"
     ]
    }
   ],
   "source": [
    "summary(final_model)"
   ]
  },
  {
   "cell_type": "markdown",
   "metadata": {},
   "source": [
    "## RNN - Recurrent Neural Networks\n",
    "\n",
    "### Data Processing for Categorical Classification (LSTM - Transformer)\n",
    "\n",
    "To prepare the data for LSTM models, the following steps are performed to ensure the data is in the correct format for time-series analysis:\n",
    "\n",
    " 1. **Normalization**\n",
    "    - Normalize the signal data to ensure all features have a mean of 0 and a standard deviation of 1.\n",
    "    - This is done per subject and brain region to standardize the input data.\n",
    "\n",
    " 2. **Extract Time Points and Regions**\n",
    "    - Identify the number of time points (`n_timepoints`) and brain regions (`n_regions`) from the dataset.\n",
    "    - Ensure all subjects have the same number of time points by padding shorter sequences with zeros.\n",
    "\n",
    " 3. **Reshape Data**\n",
    "    - Convert the data for each subject into a matrix of shape `(n_timepoints, n_regions)`, where:\n",
    "        - Rows represent time points.\n",
    "        - Columns represent brain regions.\n",
    "    - Stack these matrices into a 3D array of shape `(n_subjects, n_timepoints, n_regions)`.\n",
    "\n",
    " 4. **Label Encoding**\n",
    "    - Encode the group labels (e.g., \"ASD\" and \"Normal\") into numerical values:\n",
    "        - Use `0` for \"ASD\" and `1` for \"Normal\".\n",
    "    - Convert the labels into one-hot encoded format for categorical classification.\n",
    "\n",
    " 5. **Train-Test Split**\n",
    "    - Split the data into training and testing sets:\n",
    "        - Use 80% of the subjects for training and 20% for testing.\n",
    "    - Ensure the split is stratified to maintain the class distribution."
   ]
  },
  {
   "cell_type": "code",
   "execution_count": null,
   "metadata": {
    "vscode": {
     "languageId": "r"
    }
   },
   "outputs": [],
   "source": [
    "# Use normalized signal data\n",
    "normalized_all_data_long$Subject <- as.character(normalized_all_data_long$Subject)\n",
    "normalized_all_data_long$RegionName <- as.character(normalized_all_data_long$RegionName)\n",
    "\n",
    "n_timepoints <- 176\n",
    "region_names <- sort(unique(all_data_long$RegionName))\n",
    "subject_ids <- sort(unique(all_data_long$Subject))\n",
    "n_regions <- length(region_names)\n",
    "\n",
    "subject_matrices <- list()\n",
    "labels <- c()\n",
    "\n",
    "for (subj in subject_ids) {\n",
    "  subj_data <- normalized_all_data_long %>%\n",
    "    filter(Subject == subj) %>%\n",
    "    select(Time, RegionName, Signal_Z, Group) %>%\n",
    "    pivot_wider(names_from = RegionName, values_from = Signal_Z) %>%\n",
    "    arrange(Time) %>%\n",
    "    select(all_of(region_names))\n",
    "\n",
    "  mat <- as.matrix(subj_data)\n",
    "  \n",
    "  # Pad to ensure 176 timepoints\n",
    "  if (nrow(mat) < n_timepoints) {\n",
    "    pad <- matrix(0, nrow = n_timepoints - nrow(mat), ncol = n_regions)\n",
    "    mat <- rbind(mat, pad)\n",
    "  }\n",
    "\n",
    "  subject_matrices[[length(subject_matrices) + 1]] <- mat[1:n_timepoints, ]\n",
    "  \n",
    "  # Extract label from original dataset\n",
    "  group_label <- all_data_long %>%\n",
    "    filter(Subject == subj) %>%\n",
    "    distinct(Group) %>%\n",
    "    pull(Group) %>%\n",
    "    unique()\n",
    "\n",
    "  labels <- c(labels, group_label)\n",
    "}\n",
    "\n",
    "# Stack 3D array: (subjects, time, regions)\n",
    "X <- abind::abind(subject_matrices, along = 0)\n",
    "\n",
    "# Encode labels\n",
    "y <- as.numeric(factor(labels, levels = c(\"ASD\", \"Normal\"))) - 1  # ASD=0, Normal=1\n",
    "y_cat <- to_categorical(y, num_classes = 2)\n",
    "\n",
    "set.seed(123)\n",
    "train_indices <- sample(1:100, size = 0.8 * 100)\n",
    "\n",
    "X_train <- X[train_indices, , ]\n",
    "y_train <- y_cat[train_indices, ]\n",
    "X_test <- X[-train_indices, , ]\n",
    "y_test <- y_cat[-train_indices, ]"
   ]
  },
  {
   "cell_type": "markdown",
   "metadata": {},
   "source": [
    "### LSTM\n",
    "\n",
    "#### Architecture:\n",
    "1. **Input Layer**:\n",
    "   - Input shape: `(timesteps, features)` (e.g., `176 x 110` for 176 time steps and 110 features).\n",
    "\n",
    "2. **LSTM Layer**:\n",
    "   - **LSTM**: 64 units, processes sequential data and captures temporal dependencies.\n",
    "   - **Dropout**: Rate = 0.3, prevents overfitting by randomly dropping connections.\n",
    "\n",
    "3. **Fully Connected Layers**:\n",
    "   - **Dense**: 32 units, activation = ReLU.\n",
    "   - **Dropout**: Rate = 0.3.\n",
    "   - **Dense**: 2 units, activation = Softmax (for binary classification).\n",
    "\n",
    "#### Compilation:\n",
    "- **Optimizer**: Adam (learning rate = 0.001).\n",
    "- **Loss Function**: Categorical Crossentropy.\n",
    "- **Metrics**: Accuracy."
   ]
  },
  {
   "cell_type": "code",
   "execution_count": null,
   "metadata": {
    "vscode": {
     "languageId": "r"
    }
   },
   "outputs": [
    {
     "data": {
      "text/html": [
       "<style>\n",
       ".dl-inline {width: auto; margin:0; padding: 0}\n",
       ".dl-inline>dt, .dl-inline>dd {float: none; width: auto; display: inline-block}\n",
       ".dl-inline>dt::after {content: \":\\0020\"; padding-right: .5ex}\n",
       ".dl-inline>dt:not(:first-of-type) {padding-left: .5ex}\n",
       "</style><dl class=dl-inline><dt>loss</dt><dd>0.966245174407959</dd><dt>accuracy</dt><dd>0.75</dd></dl>\n"
      ],
      "text/latex": [
       "\\begin{description*}\n",
       "\\item[loss] 0.966245174407959\n",
       "\\item[accuracy] 0.75\n",
       "\\end{description*}\n"
      ],
      "text/markdown": [
       "loss\n",
       ":   0.966245174407959accuracy\n",
       ":   0.75\n",
       "\n"
      ],
      "text/plain": [
       "     loss  accuracy \n",
       "0.9662452 0.7500000 "
      ]
     },
     "metadata": {},
     "output_type": "display_data"
    },
    {
     "data": {
      "image/png": "[encoded data removed]",
      "text/plain": [
       "plot without title"
      ]
     },
     "metadata": {
      "image/png": {
       "height": 420,
       "width": 420
      }
     },
     "output_type": "display_data"
    }
   ],
   "source": [
    "model <- keras_model_sequential() %>%\n",
    "  layer_lstm(units = 64, input_shape = c(176, 110), return_sequences = FALSE) %>%\n",
    "  layer_dropout(rate = 0.3) %>%\n",
    "  layer_dense(units = 32, activation = 'relu') %>%\n",
    "  layer_dropout(rate = 0.3) %>%\n",
    "  layer_dense(units = 2, activation = 'softmax')\n",
    "\n",
    "model %>% compile(\n",
    "  loss = 'categorical_crossentropy',\n",
    "  optimizer = optimizer_adam(learning_rate = 0.001),\n",
    "  metrics = c('accuracy')\n",
    ")\n",
    "\n",
    "history <- model %>% fit(\n",
    "  X_train, y_train,\n",
    "  epochs = 30,\n",
    "  batch_size = 8,\n",
    "  validation_split = 0.2\n",
    ")\n",
    "\n",
    "model %>% evaluate(X_test, y_test)\n",
    "plot(history)"
   ]
  },
  {
   "cell_type": "markdown",
   "metadata": {},
   "source": [
    "### LSTM + attention\n",
    "\n",
    "#### Architecture:\n",
    "1. **Input Layer**:\n",
    "   - Input shape: `(timesteps, features)` (e.g., `176 x 110` for 176 time steps and 110 features).\n",
    "\n",
    "2. **LSTM Layer**:\n",
    "   - **LSTM**: 64 units, processes sequential data and outputs sequences for attention.\n",
    "\n",
    "3. **Attention Mechanism**:\n",
    "   - Computes attention weights for each time step.\n",
    "   - Applies the attention weights to the LSTM outputs to focus on the most relevant time steps.\n",
    "\n",
    "4. **Fully Connected Layers**:\n",
    "   - **Dense**: 64 units, activation = ReLU.\n",
    "   - **Dropout**: Rate = 0.3.\n",
    "   - **Dense**: 2 units, activation = Softmax (for binary classification).\n",
    "\n",
    "#### Compilation:\n",
    "- **Optimizer**: Adam.\n",
    "- **Loss Function**: Categorical Crossentropy.\n",
    "- **Metrics**: Accuracy."
   ]
  },
  {
   "cell_type": "code",
   "execution_count": 150,
   "metadata": {
    "vscode": {
     "languageId": "r"
    }
   },
   "outputs": [
    {
     "data": {
      "text/html": [
       "<style>\n",
       ".dl-inline {width: auto; margin:0; padding: 0}\n",
       ".dl-inline>dt, .dl-inline>dd {float: none; width: auto; display: inline-block}\n",
       ".dl-inline>dt::after {content: \":\\0020\"; padding-right: .5ex}\n",
       ".dl-inline>dt:not(:first-of-type) {padding-left: .5ex}\n",
       "</style><dl class=dl-inline><dt>loss</dt><dd>0.643627524375916</dd><dt>accuracy</dt><dd>0.75</dd></dl>\n"
      ],
      "text/latex": [
       "\\begin{description*}\n",
       "\\item[loss] 0.643627524375916\n",
       "\\item[accuracy] 0.75\n",
       "\\end{description*}\n"
      ],
      "text/markdown": [
       "loss\n",
       ":   0.643627524375916accuracy\n",
       ":   0.75\n",
       "\n"
      ],
      "text/plain": [
       "     loss  accuracy \n",
       "0.6436275 0.7500000 "
      ]
     },
     "metadata": {},
     "output_type": "display_data"
    },
    {
     "data": {
      "image/png": "[encoded data removed]",
      "text/plain": [
       "plot without title"
      ]
     },
     "metadata": {
      "image/png": {
       "height": 420,
       "width": 420
      }
     },
     "output_type": "display_data"
    }
   ],
   "source": [
    "# Input shape: (time, regions)\n",
    "input <- layer_input(shape = c(176, 110))\n",
    "\n",
    "# LSTM Layer (forward only)\n",
    "lstm_out <- input %>%\n",
    "  layer_lstm(units = 64, return_sequences = TRUE)\n",
    "\n",
    "# Attention Mechanism\n",
    "attention <- lstm_out %>%\n",
    "  time_distributed(layer_dense(units = 1)) %>%\n",
    "  layer_reshape(target_shape = c(176)) %>%\n",
    "  layer_activation(\"softmax\") %>%\n",
    "  layer_repeat_vector(64) %>%\n",
    "  layer_permute(c(2, 1))\n",
    "\n",
    "# Apply attention to LSTM outputs\n",
    "attended <- layer_multiply(list(lstm_out, attention)) %>%\n",
    "  layer_lambda(function(x) k_sum(x, axis = 2))\n",
    "\n",
    "# Fully connected layers\n",
    "output <- attended %>%\n",
    "  layer_dense(units = 64, activation = \"relu\") %>%\n",
    "  layer_dropout(0.3) %>%\n",
    "  layer_dense(units = 2, activation = \"softmax\")\n",
    "\n",
    "# Compile model\n",
    "model <- keras_model(inputs = input, outputs = output)\n",
    "model %>% compile(\n",
    "  optimizer = \"adam\",\n",
    "  loss = \"categorical_crossentropy\",\n",
    "  metrics = \"accuracy\"\n",
    ")\n",
    "\n",
    "# Train\n",
    "history <- model %>% fit(\n",
    "  X_train, y_train,\n",
    "  epochs = 30,\n",
    "  batch_size = 8,\n",
    "  validation_data = list(X_test, y_test)\n",
    ")\n",
    "\n",
    "# Evaluate\n",
    "model %>% evaluate(X_test, y_test)\n",
    "plot(history)"
   ]
  },
  {
   "cell_type": "markdown",
   "metadata": {},
   "source": [
    "### Bidirectional LSTM + attention\n",
    "\n",
    "#### Architecture:\n",
    "1. **Input Layer**:\n",
    "   - Input shape: `(timesteps, features)` (e.g., `176 x 110` for 176 time steps and 110 features).\n",
    "\n",
    "2. **Bidirectional LSTM Layer**:\n",
    "   - **Bidirectional LSTM**: 64 units, processes sequential data in both forward and backward directions and outputs sequences for attention.\n",
    "\n",
    "3. **Feature Reduction**:\n",
    "   - **Dense Layer**: Reduces the feature size to 64 to match the attention mechanism.\n",
    "\n",
    "4. **Attention Mechanism**:\n",
    "   - Computes attention weights for each time step.\n",
    "   - Applies the attention weights to the LSTM outputs to focus on the most relevant time steps.\n",
    "\n",
    "5. **Fully Connected Layers**:\n",
    "   - **Dense**: 64 units, activation = ReLU.\n",
    "   - **Dropout**: Rate = 0.3.\n",
    "   - **Dense**: 2 units, activation = Softmax (for binary classification).\n",
    "\n",
    "#### Compilation:\n",
    "- **Optimizer**: Adam.\n",
    "- **Loss Function**: Categorical Crossentropy.\n",
    "- **Metrics**: Accuracy."
   ]
  },
  {
   "cell_type": "code",
   "execution_count": 177,
   "metadata": {
    "vscode": {
     "languageId": "r"
    }
   },
   "outputs": [
    {
     "data": {
      "text/html": [
       "<style>\n",
       ".dl-inline {width: auto; margin:0; padding: 0}\n",
       ".dl-inline>dt, .dl-inline>dd {float: none; width: auto; display: inline-block}\n",
       ".dl-inline>dt::after {content: \":\\0020\"; padding-right: .5ex}\n",
       ".dl-inline>dt:not(:first-of-type) {padding-left: .5ex}\n",
       "</style><dl class=dl-inline><dt>loss</dt><dd>1.14442753791809</dd><dt>accuracy</dt><dd>0.75</dd></dl>\n"
      ],
      "text/latex": [
       "\\begin{description*}\n",
       "\\item[loss] 1.14442753791809\n",
       "\\item[accuracy] 0.75\n",
       "\\end{description*}\n"
      ],
      "text/markdown": [
       "loss\n",
       ":   1.14442753791809accuracy\n",
       ":   0.75\n",
       "\n"
      ],
      "text/plain": [
       "    loss accuracy \n",
       "1.144428 0.750000 "
      ]
     },
     "metadata": {},
     "output_type": "display_data"
    },
    {
     "data": {
      "image/png": "[encoded data removed]",
      "text/plain": [
       "plot without title"
      ]
     },
     "metadata": {
      "image/png": {
       "height": 420,
       "width": 420
      }
     },
     "output_type": "display_data"
    }
   ],
   "source": [
    "# Input shape: (time, regions)\n",
    "input <- layer_input(shape = c(176, 110))\n",
    "\n",
    "# Bidirectional LSTM layer (return sequences for attention)\n",
    "bi_lstm_out <- input %>%\n",
    "  bidirectional(layer_lstm(units = 64, return_sequences = TRUE))\n",
    "\n",
    "# Reduce feature size to 64 after Bidirectional LSTM (to match attention mechanism)\n",
    "bi_lstm_out_reduced <- bi_lstm_out %>%\n",
    "  layer_dense(units = 64, activation = \"relu\")\n",
    "\n",
    "# Attention Mechanism\n",
    "attention <- bi_lstm_out_reduced %>%\n",
    "  time_distributed(layer_dense(units = 1)) %>%  # Apply dense to each time step\n",
    "  layer_reshape(target_shape = c(176)) %>%  # Flatten the time axis (176)\n",
    "  layer_activation(\"softmax\") %>%  # Apply softmax across time\n",
    "  layer_repeat_vector(64) %>%  # Match the features (64 units)\n",
    "  layer_permute(c(2, 1))  # Permute for correct shape (features, time)\n",
    "\n",
    "# Apply attention to LSTM outputs\n",
    "attended <- layer_multiply(list(bi_lstm_out_reduced, attention)) %>%\n",
    "  layer_lambda(function(x) k_sum(x, axis = 2))  # Sum across the time dimension\n",
    "\n",
    "# Fully connected layers\n",
    "output <- attended %>%\n",
    "  layer_dense(units = 64, activation = \"relu\") %>%\n",
    "  layer_dropout(0.3) %>%\n",
    "  layer_dense(units = 2, activation = \"softmax\")\n",
    "\n",
    "# Compile model\n",
    "model <- keras_model(inputs = input, outputs = output)\n",
    "model %>% compile(\n",
    "  optimizer = \"adam\",\n",
    "  loss = \"categorical_crossentropy\",\n",
    "  metrics = \"accuracy\"\n",
    ")\n",
    "\n",
    "# Train\n",
    "history <- model %>% fit(\n",
    "  X_train, y_train,\n",
    "  epochs = 30,\n",
    "  batch_size = 8,\n",
    "  validation_data = list(X_test, y_test)\n",
    ")\n",
    "\n",
    "# Evaluate\n",
    "model %>% evaluate(X_test, y_test)\n",
    "plot(history)\n"
   ]
  },
  {
   "cell_type": "markdown",
   "metadata": {},
   "source": [
    "### LSTM + self-attention\n",
    "\n",
    "#### Architecture:\n",
    "1. **Input Layer**:\n",
    "   - Input shape: `(timesteps, features)` (e.g., `176 x 110` for 176 time steps and 110 features).\n",
    "\n",
    "2. **LSTM Layer**:\n",
    "   - **LSTM**: 64 units, processes sequential data and outputs sequences for attention.\n",
    "\n",
    "3. **Self-Attention Mechanism**:\n",
    "   - Dense projections for Query (Q), Key (K), and Value (V).\n",
    "   - Computes attention scores using scaled dot-product attention.\n",
    "   - Applies attention weights to the Value matrix to focus on important time steps.\n",
    "\n",
    "4. **Global Average Pooling**:\n",
    "   - Reduces the attention output to a fixed-size vector.\n",
    "\n",
    "5. **Fully Connected Layers**:\n",
    "   - **Dense**: 64 units, activation = ReLU.\n",
    "   - **Dropout**: Rate = 0.3.\n",
    "   - **Dense**: 2 units, activation = Softmax (for binary classification).\n",
    "\n",
    "#### Compilation:\n",
    "- **Optimizer**: Adam.\n",
    "- **Loss Function**: Categorical Crossentropy.\n",
    "- **Metrics**: Accuracy."
   ]
  },
  {
   "cell_type": "code",
   "execution_count": 154,
   "metadata": {
    "vscode": {
     "languageId": "r"
    }
   },
   "outputs": [
    {
     "data": {
      "text/html": [
       "<style>\n",
       ".dl-inline {width: auto; margin:0; padding: 0}\n",
       ".dl-inline>dt, .dl-inline>dd {float: none; width: auto; display: inline-block}\n",
       ".dl-inline>dt::after {content: \":\\0020\"; padding-right: .5ex}\n",
       ".dl-inline>dt:not(:first-of-type) {padding-left: .5ex}\n",
       "</style><dl class=dl-inline><dt>loss</dt><dd>1.23604273796082</dd><dt>accuracy</dt><dd>0.600000023841858</dd></dl>\n"
      ],
      "text/latex": [
       "\\begin{description*}\n",
       "\\item[loss] 1.23604273796082\n",
       "\\item[accuracy] 0.600000023841858\n",
       "\\end{description*}\n"
      ],
      "text/markdown": [
       "loss\n",
       ":   1.23604273796082accuracy\n",
       ":   0.600000023841858\n",
       "\n"
      ],
      "text/plain": [
       "    loss accuracy \n",
       "1.236043 0.600000 "
      ]
     },
     "metadata": {},
     "output_type": "display_data"
    },
    {
     "data": {
      "image/png": "[encoded data removed]",
      "text/plain": [
       "plot without title"
      ]
     },
     "metadata": {
      "image/png": {
       "height": 420,
       "width": 420
      }
     },
     "output_type": "display_data"
    }
   ],
   "source": [
    "# Input shape: (time steps = 176, features = 110)\n",
    "input <- layer_input(shape = c(176, 110))\n",
    "\n",
    "# LSTM layer (return sequences for attention)\n",
    "lstm_out <- input %>%\n",
    "  layer_lstm(units = 64, return_sequences = TRUE)\n",
    "\n",
    "# Dense projections for Q, K, V\n",
    "query <- lstm_out %>% layer_dense(units = 64)\n",
    "key   <- lstm_out %>% layer_dense(units = 64)\n",
    "value <- lstm_out %>% layer_dense(units = 64)\n",
    "\n",
    "# Attention score computation (scaled dot-product)\n",
    "scores <- layer_lambda(\n",
    "  f = function(x) {\n",
    "    tf$matmul(x[[1]], tf$transpose(x[[2]], perm = c(0L, 2L, 1L))) / sqrt(64)\n",
    "  }\n",
    ")(list(query, key))\n",
    "\n",
    "# Attention weights (softmax over last axis)\n",
    "weights <- scores %>% layer_activation(\"softmax\")\n",
    "\n",
    "# Weighted sum of values\n",
    "attention_output <- layer_lambda(\n",
    "  f = function(x) {\n",
    "    tf$matmul(x[[1]], x[[2]])\n",
    "  }\n",
    ")(list(weights, value))\n",
    "\n",
    "# Global average pooling\n",
    "pooled <- attention_output %>%\n",
    "  layer_global_average_pooling_1d()\n",
    "\n",
    "# Dense output layers\n",
    "output <- pooled %>%\n",
    "  layer_dense(units = 64, activation = \"relu\") %>%\n",
    "  layer_dropout(rate = 0.3) %>%\n",
    "  layer_dense(units = 2, activation = \"softmax\")\n",
    "\n",
    "# Build model\n",
    "model <- keras_model(inputs = input, outputs = output)\n",
    "\n",
    "# Compile\n",
    "model %>% compile(\n",
    "  optimizer = \"adam\",\n",
    "  loss = \"categorical_crossentropy\",\n",
    "  metrics = \"accuracy\"\n",
    ")\n",
    "\n",
    "# Train\n",
    "history <- model %>% fit(\n",
    "  X_train, y_train,\n",
    "  epochs = 30,\n",
    "  batch_size = 8,\n",
    "  validation_data = list(X_test, y_test)\n",
    ")\n",
    "\n",
    "# Evaluate\n",
    "model %>% evaluate(X_test, y_test)\n",
    "plot(history)"
   ]
  },
  {
   "cell_type": "markdown",
   "metadata": {},
   "source": [
    "### Bidirectional LSTM + self attention\n",
    "\n",
    "#### Architecture:\n",
    "1. **Input Layer**:\n",
    "   - Input shape: `(timesteps, features)` (e.g., `176 x 110` for 176 time steps and 110 features).\n",
    "\n",
    "2. **Bidirectional LSTM Layer**:\n",
    "   - **Bidirectional LSTM**: 64 units, processes sequential data in both forward and backward directions and outputs sequences for attention.\n",
    "\n",
    "3. **Self-Attention Mechanism**:\n",
    "   - Dense projections for Query (Q), Key (K), and Value (V).\n",
    "   - Computes attention scores using scaled dot-product attention.\n",
    "   - Applies attention weights to the Value matrix to focus on important time steps.\n",
    "\n",
    "4. **Global Average Pooling**:\n",
    "   - Reduces the attention output to a fixed-size vector.\n",
    "\n",
    "5. **Fully Connected Layers**:\n",
    "   - **Dense**: 64 units, activation = ReLU.\n",
    "   - **Dropout**: Rate = 0.3.\n",
    "   - **Dense**: 2 units, activation = Softmax (for binary classification).\n",
    "\n",
    "#### Compilation:\n",
    "- **Optimizer**: Adam.\n",
    "- **Loss Function**: Categorical Crossentropy.\n",
    "- **Metrics**: Accuracy."
   ]
  },
  {
   "cell_type": "code",
   "execution_count": 168,
   "metadata": {
    "vscode": {
     "languageId": "r"
    }
   },
   "outputs": [
    {
     "data": {
      "text/html": [
       "<style>\n",
       ".dl-inline {width: auto; margin:0; padding: 0}\n",
       ".dl-inline>dt, .dl-inline>dd {float: none; width: auto; display: inline-block}\n",
       ".dl-inline>dt::after {content: \":\\0020\"; padding-right: .5ex}\n",
       ".dl-inline>dt:not(:first-of-type) {padding-left: .5ex}\n",
       "</style><dl class=dl-inline><dt>loss</dt><dd>2.92870783805847</dd><dt>accuracy</dt><dd>0.5</dd></dl>\n"
      ],
      "text/latex": [
       "\\begin{description*}\n",
       "\\item[loss] 2.92870783805847\n",
       "\\item[accuracy] 0.5\n",
       "\\end{description*}\n"
      ],
      "text/markdown": [
       "loss\n",
       ":   2.92870783805847accuracy\n",
       ":   0.5\n",
       "\n"
      ],
      "text/plain": [
       "    loss accuracy \n",
       "2.928708 0.500000 "
      ]
     },
     "metadata": {},
     "output_type": "display_data"
    },
    {
     "data": {
      "image/png": "[encoded data removed]",
      "text/plain": [
       "plot without title"
      ]
     },
     "metadata": {
      "image/png": {
       "height": 420,
       "width": 420
      }
     },
     "output_type": "display_data"
    }
   ],
   "source": [
    "# Input shape: (time steps = 176, features = 110)\n",
    "input <- layer_input(shape = c(176, 110))\n",
    "\n",
    "# Bidirectional LSTM layer (return sequences for attention)\n",
    "bi_lstm_out <- input %>%\n",
    "  bidirectional(layer_lstm(units = 64, return_sequences = TRUE))\n",
    "\n",
    "# Dense projections for Q, K, V\n",
    "query <- bi_lstm_out %>% layer_dense(units = 64)\n",
    "key   <- bi_lstm_out %>% layer_dense(units = 64)\n",
    "value <- bi_lstm_out %>% layer_dense(units = 64)\n",
    "\n",
    "# Attention score computation (scaled dot-product)\n",
    "scores <- layer_lambda(\n",
    "  f = function(x) {\n",
    "    tf$matmul(x[[1]], tf$transpose(x[[2]], perm = c(0L, 2L, 1L))) / sqrt(64)\n",
    "  }\n",
    ")(list(query, key))\n",
    "\n",
    "# Attention weights (softmax over last axis)\n",
    "weights <- scores %>% layer_activation(\"softmax\")\n",
    "\n",
    "# Weighted sum of values\n",
    "attention_output <- layer_lambda(\n",
    "  f = function(x) {\n",
    "    tf$matmul(x[[1]], x[[2]])\n",
    "  }\n",
    ")(list(weights, value))\n",
    "\n",
    "# Global average pooling\n",
    "pooled <- attention_output %>%\n",
    "  layer_global_average_pooling_1d()\n",
    "\n",
    "# Dense output layers\n",
    "output <- pooled %>%\n",
    "  layer_dense(units = 64, activation = \"relu\") %>%\n",
    "  layer_dropout(rate = 0.3) %>%\n",
    "  layer_dense(units = 2, activation = \"softmax\")\n",
    "\n",
    "# Build model\n",
    "model <- keras_model(inputs = input, outputs = output)\n",
    "\n",
    "# Compile\n",
    "model %>% compile(\n",
    "  optimizer = \"adam\",\n",
    "  loss = \"categorical_crossentropy\",\n",
    "  metrics = \"accuracy\"\n",
    ")\n",
    "\n",
    "# Train\n",
    "history <- model %>% fit(\n",
    "  X_train, y_train,\n",
    "  epochs = 30,\n",
    "  batch_size = 8,\n",
    "  validation_data = list(X_test, y_test)\n",
    ")\n",
    "\n",
    "# Evaluate\n",
    "model %>% evaluate(X_test, y_test)\n",
    "plot(history)"
   ]
  },
  {
   "cell_type": "markdown",
   "metadata": {},
   "source": [
    "### Hyperparameter tuning & Cross Validation - LSTM"
   ]
  },
  {
   "cell_type": "code",
   "execution_count": 207,
   "metadata": {
    "vscode": {
     "languageId": "r"
    }
   },
   "outputs": [
    {
     "name": "stdout",
     "output_type": "stream",
     "text": [
      "         rnn_type units dropout_rate mean_accuracy\n",
      "16 self_attention    32          0.3          0.65\n",
      "    loss accuracy \n",
      "1.796965 0.600000 \n",
      "Model: \"model_1643\"\n",
      "________________________________________________________________________________\n",
      " Layer (type)             Output Shape      Param #  Connected to               \n",
      "================================================================================\n",
      " input_1662 (InputLayer)  [(None, 176, 110  0        []                         \n",
      "                          )]                                                    \n",
      " lstm_712 (LSTM)          (None, 176, 32)   18304    ['input_1662[0][0]']       \n",
      " dense_5009 (Dense)       (None, 176, 32)   1056     ['lstm_712[0][0]']         \n",
      " dense_5010 (Dense)       (None, 176, 32)   1056     ['lstm_712[0][0]']         \n",
      " lambda_293 (Lambda)      (None, 176, 176)  0        ['dense_5009[0][0]',       \n",
      "                                                      'dense_5010[0][0]']       \n",
      " activation_205 (Activati  (None, 176, 176)  0       ['lambda_293[0][0]']       \n",
      " on)                                                                            \n",
      " dense_5011 (Dense)       (None, 176, 32)   1056     ['lstm_712[0][0]']         \n",
      " lambda_294 (Lambda)      (None, 176, 32)   0        ['activation_205[0][0]',   \n",
      "                                                      'dense_5011[0][0]']       \n",
      " global_average_pooling1d  (None, 32)       0        ['lambda_294[0][0]']       \n",
      " _508 (GlobalAveragePooli                                                       \n",
      " ng1D)                                                                          \n",
      " dense_5013 (Dense)       (None, 64)        2112     ['global_average_pooling1d_\n",
      "                                                     508[0][0]']                \n",
      " dropout_4111 (Dropout)   (None, 64)        0        ['dense_5013[0][0]']       \n",
      " dense_5012 (Dense)       (None, 2)         130      ['dropout_4111[0][0]']     \n",
      "================================================================================\n",
      "Total params: 23,714\n",
      "Trainable params: 23,714\n",
      "Non-trainable params: 0\n",
      "________________________________________________________________________________\n"
     ]
    },
    {
     "data": {
      "image/png": "[encoded data removed]",
      "text/plain": [
       "plot without title"
      ]
     },
     "metadata": {
      "image/png": {
       "height": 420,
       "width": 420
      }
     },
     "output_type": "display_data"
    }
   ],
   "source": [
    "# attention mechanism in create_rnn_model\n",
    "create_rnn_model <- function(\n",
    "  rnn_type = \"attention\",  # Options: \"lstm\", \"bidirectional\", \"attention\", \"self_attention\"\n",
    "  units = 64,\n",
    "  dropout_rate = 0.3,\n",
    "  input_shape = c(176, 110)\n",
    ") {\n",
    "  input <- layer_input(shape = input_shape)\n",
    "  \n",
    "  # Add RNN layers based on the type\n",
    "  rnn_out <- switch(\n",
    "    rnn_type,\n",
    "    \"lstm\" = input %>%\n",
    "      layer_lstm(units = units, return_sequences = FALSE) %>%\n",
    "      layer_dropout(rate = dropout_rate),\n",
    "    \"bidirectional\" = input %>%\n",
    "      bidirectional(layer_lstm(units = units, return_sequences = FALSE)) %>%\n",
    "      layer_dropout(rate = dropout_rate),\n",
    "    \"attention\" = {\n",
    "      lstm_out <- input %>%\n",
    "        layer_lstm(units = units, return_sequences = TRUE)\n",
    "      \n",
    "      # Attention mechanism\n",
    "      attention <- lstm_out %>%\n",
    "        time_distributed(layer_dense(units = 1)) %>%\n",
    "        layer_reshape(target_shape = c(input_shape[1])) %>%  # Flatten time axis\n",
    "        layer_activation(\"softmax\") %>%\n",
    "        layer_repeat_vector(units) %>%  # Repeat for each feature\n",
    "        layer_permute(c(2, 1))  # Permute to match LSTM output shape\n",
    "      \n",
    "      # Apply attention to LSTM outputs\n",
    "      attended <- layer_multiply(list(lstm_out, attention)) %>%\n",
    "        layer_lambda(function(x) k_sum(x, axis = 2))  # Sum across the time dimension\n",
    "    },\n",
    "    \"self_attention\" = {\n",
    "      lstm_out <- input %>%\n",
    "        layer_lstm(units = units, return_sequences = TRUE)\n",
    "      \n",
    "      query <- lstm_out %>% layer_dense(units = units)\n",
    "      key <- lstm_out %>% layer_dense(units = units)\n",
    "      value <- lstm_out %>% layer_dense(units = units)\n",
    "      \n",
    "      scores <- layer_lambda(\n",
    "        f = function(x) {\n",
    "          tf$matmul(x[[1]], tf$transpose(x[[2]], perm = c(0L, 2L, 1L))) / sqrt(as.double(units))\n",
    "        }\n",
    "      )(list(query, key))\n",
    "      \n",
    "      weights <- scores %>% layer_activation(\"softmax\")\n",
    "      attention_output <- layer_lambda(\n",
    "        f = function(x) {\n",
    "          tf$matmul(x[[1]], x[[2]])\n",
    "        }\n",
    "      )(list(weights, value))\n",
    "      \n",
    "      attention_output %>%\n",
    "        layer_global_average_pooling_1d()\n",
    "    }\n",
    "  )\n",
    "  \n",
    "  # Fully connected layers\n",
    "  output <- rnn_out %>%\n",
    "    layer_dense(units = 64, activation = \"relu\") %>%\n",
    "    layer_dropout(rate = dropout_rate) %>%\n",
    "    layer_dense(units = 2, activation = \"softmax\")\n",
    "  \n",
    "  # Build and compile the model\n",
    "  model <- keras_model(inputs = input, outputs = output)\n",
    "  model %>% compile(\n",
    "    optimizer = \"adam\",\n",
    "    loss = \"categorical_crossentropy\",\n",
    "    metrics = \"accuracy\"\n",
    "  )\n",
    "  \n",
    "  return(model)\n",
    "}\n",
    "\n",
    "# Define hyperparameter grid\n",
    "hyper_grid <- expand.grid(\n",
    "  rnn_type = c(\"lstm\", \"bidirectional\", \"attention\", \"self_attention\"),\n",
    "  units = c(32, 64, 128),\n",
    "  dropout_rate = c(0.2, 0.3, 0.4)\n",
    ")\n",
    "\n",
    "# Cross-validation setup\n",
    "k_folds <- 5\n",
    "cv_results <- data.frame()\n",
    "\n",
    "# Generate fold indices manually\n",
    "set.seed(123)\n",
    "fold_indices <- split(seq_len(dim(X_train)[1]), rep(1:k_folds, length.out = dim(X_train)[1]))\n",
    "\n",
    "# Perform k-fold cross-validation\n",
    "for (i in seq_len(nrow(hyper_grid))) {\n",
    "  params <- hyper_grid[i, ]\n",
    "  fold_accuracies <- c()\n",
    "  \n",
    "  for (fold in seq_len(k_folds)) {\n",
    "    # Split data into training and validation sets\n",
    "    val_indices <- fold_indices[[fold]]\n",
    "    train_indices <- setdiff(seq_len(dim(X_train)[1]), val_indices)\n",
    "    \n",
    "    X_train_fold <- X_train[train_indices, , ]\n",
    "    y_train_fold <- y_train[train_indices, ]\n",
    "    X_val_fold <- X_train[val_indices, , ]\n",
    "    y_val_fold <- y_train[val_indices, ]\n",
    "    \n",
    "    # Create and train the model\n",
    "    model <- create_rnn_model(\n",
    "      rnn_type = params$rnn_type,\n",
    "      units = params$units,\n",
    "      dropout_rate = params$dropout_rate,\n",
    "      input_shape = c(176, 110)\n",
    "    )\n",
    "    \n",
    "    history <- model %>% fit(\n",
    "      X_train_fold, y_train_fold,\n",
    "      epochs = 10,  # Use fewer epochs for faster tuning\n",
    "      batch_size = 8,\n",
    "      validation_data = list(X_val_fold, y_val_fold),\n",
    "      verbose = 0\n",
    "    )\n",
    "    \n",
    "    # Evaluate on validation set\n",
    "    eval_result <- model %>% evaluate(X_val_fold, y_val_fold, verbose = 0)\n",
    "    val_accuracy <- eval_result[[2]]  # Accuracy is the second element\n",
    "    fold_accuracies <- c(fold_accuracies, val_accuracy)\n",
    "  }\n",
    "  \n",
    "  # Store results\n",
    "  mean_accuracy <- mean(fold_accuracies)\n",
    "  cv_results <- rbind(cv_results, cbind(params, mean_accuracy))\n",
    "}\n",
    "\n",
    "# Find the best hyperparameters\n",
    "best_params <- cv_results[which.max(cv_results$mean_accuracy), ]\n",
    "print(best_params)\n",
    "\n",
    "# Train the final model with the best hyperparameters\n",
    "final_model <- create_rnn_model(\n",
    "  rnn_type = best_params$rnn_type,\n",
    "  units = best_params$units,\n",
    "  dropout_rate = best_params$dropout_rate,\n",
    "  input_shape = c(176, 110)\n",
    ")\n",
    "\n",
    "history <- final_model %>% fit(\n",
    "  X_train, y_train,\n",
    "  epochs = 30,\n",
    "  batch_size = 8,\n",
    "  validation_data = list(X_test, y_test)\n",
    ")\n",
    "\n",
    "# Evaluate the final model\n",
    "final_eval <- final_model %>% evaluate(X_test, y_test)\n",
    "print(final_eval)\n",
    "summary(final_model)\n",
    "plot(history)"
   ]
  },
  {
   "cell_type": "markdown",
   "metadata": {},
   "source": [
    "### Transformer\n",
    "\n",
    "#### Architecture:\n",
    "1. **Input Layer**:\n",
    "   - Input shape: `(timesteps, features)` (e.g., `176 x 110` for 176 time steps and 110 features).\n",
    "\n",
    "2. **Linear Projection**:\n",
    "   - Projects the input features into a higher-dimensional space using a dense layer.\n",
    "\n",
    "3. **Positional Encoding**:\n",
    "   - Adds positional information to the input sequence to retain the order of elements.\n",
    "\n",
    "4. **Transformer Block**:\n",
    "   - **Layer Normalization**: Normalizes the input for stability.\n",
    "   - **Multi-Head Attention**: Computes attention scores across the sequence using multiple attention heads.\n",
    "   - **Residual Connection**: Adds the input back to the attention output for better gradient flow.\n",
    "   - **Feedforward Network**: Applies dense layers with ReLU activation to process the attention output.\n",
    "\n",
    "5. **Global Average Pooling**:\n",
    "   - Reduces the sequence to a fixed-size vector by averaging across time steps.\n",
    "\n",
    "6. **Fully Connected Layers**:\n",
    "   - **Dense**: 64 units, activation = ReLU.\n",
    "   - **Dropout**: Rate = 0.3.\n",
    "   - **Dense**: 2 units, activation = Softmax (for binary classification).\n",
    "\n",
    "#### Compilation:\n",
    "- **Optimizer**: Adam.\n",
    "- **Loss Function**: Categorical Crossentropy.\n",
    "- **Metrics**: Accuracy."
   ]
  },
  {
   "cell_type": "code",
   "execution_count": 149,
   "metadata": {
    "vscode": {
     "languageId": "r"
    }
   },
   "outputs": [
    {
     "data": {
      "text/html": [
       "<style>\n",
       ".dl-inline {width: auto; margin:0; padding: 0}\n",
       ".dl-inline>dt, .dl-inline>dd {float: none; width: auto; display: inline-block}\n",
       ".dl-inline>dt::after {content: \":\\0020\"; padding-right: .5ex}\n",
       ".dl-inline>dt:not(:first-of-type) {padding-left: .5ex}\n",
       "</style><dl class=dl-inline><dt>loss</dt><dd>3.88140559196472</dd><dt>accuracy</dt><dd>0.600000023841858</dd></dl>\n"
      ],
      "text/latex": [
       "\\begin{description*}\n",
       "\\item[loss] 3.88140559196472\n",
       "\\item[accuracy] 0.600000023841858\n",
       "\\end{description*}\n"
      ],
      "text/markdown": [
       "loss\n",
       ":   3.88140559196472accuracy\n",
       ":   0.600000023841858\n",
       "\n"
      ],
      "text/plain": [
       "    loss accuracy \n",
       "3.881406 0.600000 "
      ]
     },
     "metadata": {},
     "output_type": "display_data"
    },
    {
     "data": {
      "image/png": "[encoded data removed]",
      "text/plain": [
       "plot without title"
      ]
     },
     "metadata": {
      "image/png": {
       "height": 420,
       "width": 420
      }
     },
     "output_type": "display_data"
    }
   ],
   "source": [
    "# Linear projection\n",
    "projected <- input %>%\n",
    "  layer_dense(units = 128)\n",
    "\n",
    "# Add positional encoding\n",
    "pos_enc <- positional_encoding(176, 128)\n",
    "pos_enc_tensor <- tf$convert_to_tensor(pos_enc, dtype = \"float32\")\n",
    "expanded_pos_enc <- tf$expand_dims(pos_enc_tensor, axis = as.integer(0))\n",
    "tiled_pos_enc <- tf$tile(\n",
    "  expanded_pos_enc,\n",
    "  multiples = c(tf$shape(projected)[1], as.integer(1), as.integer(1))\n",
    ")\n",
    "x <- projected + tiled_pos_enc\n",
    "\n",
    "# Transformer block\n",
    "norm1 <- x %>% layer_layer_normalization()\n",
    "attn_output <- layer_multi_head_attention(num_heads = 4, key_dim = 64)(\n",
    "  query = norm1,\n",
    "  value = norm1,\n",
    "  key = norm1\n",
    ")\n",
    "x <- layer_add(list(attn_output, projected))\n",
    "x <- x %>%\n",
    "  layer_layer_normalization() %>%\n",
    "  layer_dense(units = 128, activation = \"relu\") %>%\n",
    "  layer_dense(units = 128)\n",
    "\n",
    "\n",
    "# Global average pooling and output\n",
    "output <- x %>%\n",
    "  layer_global_average_pooling_1d() %>%\n",
    "  layer_dense(units = 64, activation = \"relu\") %>%\n",
    "  layer_dropout(0.3) %>%\n",
    "  layer_dense(units = 2, activation = \"softmax\")\n",
    "\n",
    "# Compile model\n",
    "model <- keras_model(inputs = input, outputs = output)\n",
    "model %>% compile(\n",
    "  optimizer = \"adam\",\n",
    "  loss = \"categorical_crossentropy\",\n",
    "  metrics = \"accuracy\"\n",
    ")\n",
    "\n",
    "# Train\n",
    "history <- model %>% fit(\n",
    "  X_train, y_train,\n",
    "  epochs = 30,\n",
    "  batch_size = 8,\n",
    "  validation_data = list(X_test, y_test)\n",
    ")\n",
    "\n",
    "# Evaluate\n",
    "model %>% evaluate(X_test, y_test)\n",
    "plot(history)"
   ]
  },
  {
   "cell_type": "markdown",
   "metadata": {},
   "source": [
    "### Hyperparameter tuning & Cross Validation - Transformers"
   ]
  },
  {
   "cell_type": "code",
   "execution_count": null,
   "metadata": {
    "vscode": {
     "languageId": "r"
    }
   },
   "outputs": [
    {
     "name": "stdout",
     "output_type": "stream",
     "text": [
      "   num_heads key_dim ff_dim dropout_rate mean_accuracy\n",
      "12         8      32    128          0.2         0.675\n",
      "    loss accuracy \n",
      "1.954878 0.550000 \n"
     ]
    },
    {
     "data": {
      "image/png": "[encoded data removed]",
      "text/plain": [
       "plot without title"
      ]
     },
     "metadata": {
      "image/png": {
       "height": 420,
       "width": 420
      }
     },
     "output_type": "display_data"
    }
   ],
   "source": [
    "# Define a function to create Transformer models with hyperparameters\n",
    "create_transformer_model <- function(\n",
    "  num_heads = 4,\n",
    "  key_dim = 64,\n",
    "  ff_dim = 128,\n",
    "  dropout_rate = 0.3,\n",
    "  input_shape = c(176, 110)\n",
    ") {\n",
    "  input <- layer_input(shape = input_shape)\n",
    "  \n",
    "  # Linear projection\n",
    "  projected <- input %>%\n",
    "    layer_dense(units = ff_dim)\n",
    "  \n",
    "  # Add positional encoding\n",
    "  pos_enc <- positional_encoding(input_shape[1], ff_dim)\n",
    "  pos_enc_tensor <- tf$convert_to_tensor(pos_enc, dtype = \"float32\")\n",
    "  expanded_pos_enc <- tf$expand_dims(pos_enc_tensor, axis = as.integer(0))\n",
    "  tiled_pos_enc <- tf$tile(\n",
    "    expanded_pos_enc,\n",
    "    multiples = c(tf$shape(projected)[1], as.integer(1), as.integer(1))\n",
    "  )\n",
    "  x <- projected + tiled_pos_enc\n",
    "  \n",
    "  # Transformer block\n",
    "  norm1 <- x %>% layer_layer_normalization()\n",
    "  attn_output <- layer_multi_head_attention(num_heads = num_heads, key_dim = key_dim)(\n",
    "    query = norm1,\n",
    "    value = norm1,\n",
    "    key = norm1\n",
    "  )\n",
    "  x <- layer_add(list(attn_output, projected))\n",
    "  x <- x %>%\n",
    "    layer_layer_normalization() %>%\n",
    "    layer_dense(units = ff_dim, activation = \"relu\") %>%\n",
    "    layer_dense(units = ff_dim)\n",
    "  \n",
    "  # Global average pooling and output\n",
    "  output <- x %>%\n",
    "    layer_global_average_pooling_1d() %>%\n",
    "    layer_dense(units = 64, activation = \"relu\") %>%\n",
    "    layer_dropout(rate = dropout_rate) %>%\n",
    "    layer_dense(units = 2, activation = \"softmax\")\n",
    "  \n",
    "  # Build and compile the model\n",
    "  model <- keras_model(inputs = input, outputs = output)\n",
    "  model %>% compile(\n",
    "    optimizer = \"adam\",\n",
    "    loss = \"categorical_crossentropy\",\n",
    "    metrics = \"accuracy\"\n",
    "  )\n",
    "  \n",
    "  return(model)\n",
    "}\n",
    "\n",
    "# Define hyperparameter grid\n",
    "hyper_grid <- expand.grid(\n",
    "  num_heads = c(2, 4, 8),\n",
    "  key_dim = c(32, 64, 128),\n",
    "  ff_dim = c(64, 128, 256),\n",
    "  dropout_rate = c(0.2, 0.3, 0.4)\n",
    ")\n",
    "\n",
    "# Cross-validation setup\n",
    "k_folds <- 5\n",
    "cv_results <- data.frame()\n",
    "\n",
    "# Generate fold indices manually\n",
    "set.seed(123)\n",
    "fold_indices <- split(seq_len(dim(X_train)[1]), rep(1:k_folds, length.out = dim(X_train)[1]))\n",
    "\n",
    "# Perform k-fold cross-validation\n",
    "for (i in seq_len(nrow(hyper_grid))) {\n",
    "  params <- hyper_grid[i, ]\n",
    "  fold_accuracies <- c()\n",
    "  \n",
    "  for (fold in seq_len(k_folds)) {\n",
    "    # Split data into training and validation sets\n",
    "    val_indices <- fold_indices[[fold]]\n",
    "    train_indices <- setdiff(seq_len(dim(X_train)[1]), val_indices)\n",
    "    \n",
    "    X_train_fold <- X_train[train_indices, , ]\n",
    "    y_train_fold <- y_train[train_indices, ]\n",
    "    X_val_fold <- X_train[val_indices, , ]\n",
    "    y_val_fold <- y_train[val_indices, ]\n",
    "    \n",
    "    # Create and train the model\n",
    "    model <- create_transformer_model(\n",
    "      num_heads = params$num_heads,\n",
    "      key_dim = params$key_dim,\n",
    "      ff_dim = params$ff_dim,\n",
    "      dropout_rate = params$dropout_rate,\n",
    "      input_shape = c(176, 110)\n",
    "    )\n",
    "    \n",
    "    history <- model %>% fit(\n",
    "      X_train_fold, y_train_fold,\n",
    "      epochs = 10,  # Use fewer epochs for faster tuning\n",
    "      batch_size = 8,\n",
    "      validation_data = list(X_val_fold, y_val_fold),\n",
    "      verbose = 0\n",
    "    )\n",
    "    \n",
    "    # Evaluate on validation set\n",
    "    eval_result <- model %>% evaluate(X_val_fold, y_val_fold, verbose = 0)\n",
    "    val_accuracy <- eval_result[[2]]  # Accuracy is the second element\n",
    "    fold_accuracies <- c(fold_accuracies, val_accuracy)\n",
    "  }\n",
    "  \n",
    "  # Store results\n",
    "  mean_accuracy <- mean(fold_accuracies)\n",
    "  cv_results <- rbind(cv_results, cbind(params, mean_accuracy))\n",
    "}\n",
    "\n",
    "# Find the best hyperparameters\n",
    "best_params <- cv_results[which.max(cv_results$mean_accuracy), ]\n",
    "print(best_params)\n",
    "\n",
    "# Train the final model with the best hyperparameters\n",
    "final_model <- create_transformer_model(\n",
    "  num_heads = best_params$num_heads,\n",
    "  key_dim = best_params$key_dim,\n",
    "  ff_dim = best_params$ff_dim,\n",
    "  dropout_rate = best_params$dropout_rate,\n",
    "  input_shape = c(176, 110)\n",
    ")\n",
    "\n",
    "history <- final_model %>% fit(\n",
    "  X_train, y_train,\n",
    "  epochs = 30,\n",
    "  batch_size = 8,\n",
    "  validation_data = list(X_test, y_test)\n",
    ")\n",
    "\n",
    "# Evaluate the final model\n",
    "final_eval <- final_model %>% evaluate(X_test, y_test)\n",
    "print(final_eval)\n",
    "summary(final_model)\n",
    "plot(history)"
   ]
  },
  {
   "cell_type": "markdown",
   "metadata": {},
   "source": [
    "## Mixed \n",
    "\n",
    "### 1D CNN + LSTM Model\n",
    "\n",
    "The mixed 1D CNN + LSTM model combines the feature extraction capabilities of Convolutional Neural Networks (CNNs) with the temporal dependency modeling of Long Short-Term Memory (LSTM) networks. This hybrid architecture is particularly effective for time-series data, such as fMRI signals, where both spatial and temporal patterns are important.\n",
    "\n",
    "#### Architecture:\n",
    "1. **Input Layer**:\n",
    "   - Input shape: `(timesteps, features)` (e.g., `176 x 110` for 176 time steps and 110 features).\n",
    "\n",
    "2. **1D CNN Block**:\n",
    "   - **Conv1D**: 64 filters, kernel size = 3, activation = ReLU.\n",
    "   - **Max Pooling**: Pool size = 2, reduces spatial dimensions.\n",
    "   - **Dropout**: Rate = 0.3, prevents overfitting.\n",
    "\n",
    "3. **LSTM Block**:\n",
    "   - **LSTM**: 64 units, processes sequential data and captures temporal dependencies.\n",
    "   - **Dropout**: Rate = 0.3.\n",
    "\n",
    "4. **Fully Connected Layers**:\n",
    "   - **Dense**: 64 units, activation = ReLU.\n",
    "   - **Dropout**: Rate = 0.3.\n",
    "   - **Dense**: 2 units, activation = Softmax (for binary classification).\n",
    "\n",
    "#### Compilation:\n",
    "- **Optimizer**: Adam.\n",
    "- **Loss Function**: Categorical Crossentropy.\n",
    "- **Metrics**: Accuracy."
   ]
  },
  {
   "cell_type": "code",
   "execution_count": 178,
   "metadata": {
    "vscode": {
     "languageId": "r"
    }
   },
   "outputs": [
    {
     "data": {
      "text/html": [
       "<style>\n",
       ".dl-inline {width: auto; margin:0; padding: 0}\n",
       ".dl-inline>dt, .dl-inline>dd {float: none; width: auto; display: inline-block}\n",
       ".dl-inline>dt::after {content: \":\\0020\"; padding-right: .5ex}\n",
       ".dl-inline>dt:not(:first-of-type) {padding-left: .5ex}\n",
       "</style><dl class=dl-inline><dt>loss</dt><dd>0.969407856464386</dd><dt>accuracy</dt><dd>0.75</dd></dl>\n"
      ],
      "text/latex": [
       "\\begin{description*}\n",
       "\\item[loss] 0.969407856464386\n",
       "\\item[accuracy] 0.75\n",
       "\\end{description*}\n"
      ],
      "text/markdown": [
       "loss\n",
       ":   0.969407856464386accuracy\n",
       ":   0.75\n",
       "\n"
      ],
      "text/plain": [
       "     loss  accuracy \n",
       "0.9694079 0.7500000 "
      ]
     },
     "metadata": {},
     "output_type": "display_data"
    },
    {
     "data": {
      "image/png": "[encoded data removed]",
      "text/plain": [
       "plot without title"
      ]
     },
     "metadata": {
      "image/png": {
       "height": 420,
       "width": 420
      }
     },
     "output_type": "display_data"
    }
   ],
   "source": [
    "# Input shape: (time steps = 176, features = 110)\n",
    "input <- layer_input(shape = c(176, 110))\n",
    "\n",
    "# 1D CNN Block\n",
    "cnn_out <- input %>%\n",
    "  layer_conv_1d(filters = 64, kernel_size = 3, activation = \"relu\") %>%\n",
    "  layer_max_pooling_1d(pool_size = 2) %>%\n",
    "  layer_dropout(rate = 0.3)\n",
    "\n",
    "# LSTM Block\n",
    "lstm_out <- cnn_out %>%\n",
    "  layer_lstm(units = 64, return_sequences = FALSE) %>%\n",
    "  layer_dropout(rate = 0.3)\n",
    "\n",
    "# Fully Connected Layers\n",
    "output <- lstm_out %>%\n",
    "  layer_dense(units = 64, activation = \"relu\") %>%\n",
    "  layer_dropout(rate = 0.3) %>%\n",
    "  layer_dense(units = 2, activation = \"softmax\")\n",
    "\n",
    "# Build model\n",
    "model <- keras_model(inputs = input, outputs = output)\n",
    "\n",
    "# Compile\n",
    "model %>% compile(\n",
    "  optimizer = \"adam\",\n",
    "  loss = \"categorical_crossentropy\",\n",
    "  metrics = \"accuracy\"\n",
    ")\n",
    "\n",
    "# Train\n",
    "history <- model %>% fit(\n",
    "  X_train, y_train,\n",
    "  epochs = 30,\n",
    "  batch_size = 8,\n",
    "  validation_data = list(X_test, y_test)\n",
    ")\n",
    "\n",
    "# Evaluate\n",
    "model %>% evaluate(X_test, y_test)\n",
    "plot(history)"
   ]
  },
  {
   "cell_type": "markdown",
   "metadata": {},
   "source": [
    "### Hyperparameter tuning & Cross Validation - Mixed 1D CNN + LSTM model"
   ]
  },
  {
   "cell_type": "code",
   "execution_count": 208,
   "metadata": {
    "vscode": {
     "languageId": "r"
    }
   },
   "outputs": [
    {
     "name": "stdout",
     "output_type": "stream",
     "text": [
      "   filters kernel_size lstm_units dropout_rate mean_accuracy\n",
      "51     128           3        128          0.4        0.5625\n",
      "    loss accuracy \n",
      "1.273016 0.650000 \n"
     ]
    },
    {
     "data": {
      "image/png": "[encoded data removed]",
      "text/plain": [
       "plot without title"
      ]
     },
     "metadata": {
      "image/png": {
       "height": 420,
       "width": 420
      }
     },
     "output_type": "display_data"
    }
   ],
   "source": [
    "# Hyperparameter tuning and cross-validation for a mixed 1D CNN + LSTM model\n",
    "\n",
    "# Define a function to create the model with hyperparameters\n",
    "create_model <- function(filters = 64, kernel_size = 3, lstm_units = 64, dropout_rate = 0.3) {\n",
    "  input <- layer_input(shape = c(176, 110))\n",
    "  \n",
    "  # 1D CNN Block\n",
    "  cnn_out <- input %>%\n",
    "    layer_conv_1d(filters = filters, kernel_size = kernel_size, activation = \"relu\") %>%\n",
    "    layer_max_pooling_1d(pool_size = 2) %>%\n",
    "    layer_dropout(rate = dropout_rate)\n",
    "  \n",
    "  # LSTM Block\n",
    "  lstm_out <- cnn_out %>%\n",
    "    layer_lstm(units = lstm_units, return_sequences = FALSE) %>%\n",
    "    layer_dropout(rate = dropout_rate)\n",
    "  \n",
    "  # Fully Connected Layers\n",
    "  output <- lstm_out %>%\n",
    "    layer_dense(units = 64, activation = \"relu\") %>%\n",
    "    layer_dropout(rate = dropout_rate) %>%\n",
    "    layer_dense(units = 2, activation = \"softmax\")\n",
    "  \n",
    "  # Build and compile the model\n",
    "  model <- keras_model(inputs = input, outputs = output)\n",
    "  model %>% compile(\n",
    "    optimizer = \"adam\",\n",
    "    loss = \"categorical_crossentropy\",\n",
    "    metrics = \"accuracy\"\n",
    "  )\n",
    "  \n",
    "  return(model)\n",
    "}\n",
    "\n",
    "# Define hyperparameter grid\n",
    "hyper_grid <- expand.grid(\n",
    "  filters = c(32, 64, 128),\n",
    "  kernel_size = c(3, 5),\n",
    "  lstm_units = c(32, 64, 128),\n",
    "  dropout_rate = c(0.2, 0.3, 0.4)\n",
    ")\n",
    "\n",
    "# Cross-validation setup\n",
    "k_folds <- 5\n",
    "cv_results <- data.frame()\n",
    "\n",
    "# Generate fold indices manually\n",
    "set.seed(123)\n",
    "fold_indices <- split(seq_len(dim(X_train)[1]), rep(1:k_folds, length.out = dim(X_train)[1]))\n",
    "\n",
    "# Perform k-fold cross-validation\n",
    "for (i in seq_len(nrow(hyper_grid))) {\n",
    "  params <- hyper_grid[i, ]\n",
    "  fold_accuracies <- c()\n",
    "  \n",
    "  for (fold in seq_len(k_folds)) {\n",
    "    # Split data into training and validation sets\n",
    "    val_indices <- fold_indices[[fold]]\n",
    "    train_indices <- setdiff(seq_len(dim(X_train)[1]), val_indices)\n",
    "    \n",
    "    X_train_fold <- X_train[train_indices, , ]\n",
    "    y_train_fold <- y_train[train_indices, ]\n",
    "    X_val_fold <- X_train[val_indices, , ]\n",
    "    y_val_fold <- y_train[val_indices, ]\n",
    "    \n",
    "    # Create and train the model\n",
    "    model <- create_model(\n",
    "      filters = params$filters,\n",
    "      kernel_size = params$kernel_size,\n",
    "      lstm_units = params$lstm_units,\n",
    "      dropout_rate = params$dropout_rate\n",
    "    )\n",
    "    \n",
    "    history <- model %>% fit(\n",
    "      X_train_fold, y_train_fold,\n",
    "      epochs = 10,  # Use fewer epochs for faster tuning\n",
    "      batch_size = 8,\n",
    "      validation_data = list(X_val_fold, y_val_fold),\n",
    "      verbose = 0\n",
    "    )\n",
    "    \n",
    "    # Evaluate on validation set\n",
    "    eval_result <- model %>% evaluate(X_val_fold, y_val_fold, verbose = 0)\n",
    "    val_accuracy <- eval_result[[2]]  # Accuracy is the second element\n",
    "    fold_accuracies <- c(fold_accuracies, val_accuracy)\n",
    "  }\n",
    "  \n",
    "  # Store results\n",
    "  mean_accuracy <- mean(fold_accuracies)\n",
    "  cv_results <- rbind(cv_results, cbind(params, mean_accuracy))\n",
    "}\n",
    "\n",
    "# Find the best hyperparameters\n",
    "best_params <- cv_results[which.max(cv_results$mean_accuracy), ]\n",
    "print(best_params)\n",
    "\n",
    "# Train the final model with the best hyperparameters\n",
    "final_model <- create_model(\n",
    "  filters = best_params$filters,\n",
    "  kernel_size = best_params$kernel_size,\n",
    "  lstm_units = best_params$lstm_units,\n",
    "  dropout_rate = best_params$dropout_rate\n",
    ")\n",
    "\n",
    "history <- final_model %>% fit(\n",
    "  X_train, y_train,\n",
    "  epochs = 30,\n",
    "  batch_size = 8,\n",
    "  validation_data = list(X_test, y_test)\n",
    ")\n",
    "\n",
    "# Evaluate the final model\n",
    "final_eval <- final_model %>% evaluate(X_test, y_test)\n",
    "print(final_eval)\n",
    "plot(history)"
   ]
  },
  {
   "cell_type": "code",
   "execution_count": 209,
   "metadata": {
    "vscode": {
     "languageId": "r"
    }
   },
   "outputs": [
    {
     "name": "stdout",
     "output_type": "stream",
     "text": [
      "Model: \"model_1914\"\n",
      "________________________________________________________________________________\n",
      " Layer (type)                       Output Shape                    Param #     \n",
      "================================================================================\n",
      " input_1933 (InputLayer)            [(None, 176, 110)]              0           \n",
      " conv1d_2270 (Conv1D)               (None, 174, 128)                42368       \n",
      " max_pooling1d_2245 (MaxPooling1D)  (None, 87, 128)                 0           \n",
      " dropout_4922 (Dropout)             (None, 87, 128)                 0           \n",
      " lstm_983 (LSTM)                    (None, 128)                     131584      \n",
      " dropout_4923 (Dropout)             (None, 128)                     0           \n",
      " dense_5555 (Dense)                 (None, 64)                      8256        \n",
      " dropout_4924 (Dropout)             (None, 64)                      0           \n",
      " dense_5554 (Dense)                 (None, 2)                       130         \n",
      "================================================================================\n",
      "Total params: 182,338\n",
      "Trainable params: 182,338\n",
      "Non-trainable params: 0\n",
      "________________________________________________________________________________\n"
     ]
    }
   ],
   "source": [
    "summary(final_model)"
   ]
  },
  {
   "cell_type": "code",
   "execution_count": null,
   "metadata": {
    "vscode": {
     "languageId": "r"
    }
   },
   "outputs": [],
   "source": []
  }
 ],
 "metadata": {
  "kernelspec": {
   "display_name": "R",
   "language": "R",
   "name": "ir"
  },
  "language_info": {
   "codemirror_mode": "r",
   "file_extension": ".r",
   "mimetype": "text/x-r-source",
   "name": "R",
   "pygments_lexer": "r",
   "version": "4.2.1"
  }
 },
 "nbformat": 4,
 "nbformat_minor": 2
}
